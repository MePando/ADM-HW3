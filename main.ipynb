{
  "cells": [
    {
      "cell_type": "markdown",
      "metadata": {
        "id": "RbLv1kxYZ7oL"
      },
      "source": [
        "# Needed Libraries"
      ]
    },
    {
      "cell_type": "code",
      "execution_count": null,
      "metadata": {
        "id": "jWbj_SXsWxyG"
      },
      "outputs": [],
      "source": [
        "%%capture\n",
        "# General\n",
        "import os\n",
        "os.system(\"pip install wget\")\n",
        "import wget\n",
        "import zipfile\n",
        "import json\n",
        "import re\n",
        "import shutil\n",
        "import math\n",
        "import matplotlib.pyplot as plt\n",
        "import numpy as np\n",
        "from pathlib import Path\n",
        "from typing import List, Dict, Union, Set, Iterable, Tuple, Any\n",
        "from tqdm.auto import tqdm\n",
        "import pandas as pd\n",
        "import time\n",
        "from datetime import datetime\n",
        "\n",
        "# For Scraping\n",
        "from bs4.element import Tag\n",
        "from bs4 import BeautifulSoup\n",
        "from urllib.error import HTTPError\n",
        "from urllib.request import urlopen\n",
        "\n",
        "# For Search Engine\n",
        "import nltk\n",
        "\n",
        "nltk.download('stopwords')\n",
        "nltk.download('wordnet')\n",
        "nltk.download('omw-1.4')\n",
        "\n",
        "from nltk.tokenize import RegexpTokenizer\n",
        "from nltk.corpus import stopwords\n",
        "from nltk.stem import PorterStemmer\n",
        "\n",
        "from joblib import dump, load\n",
        "from sortedcontainers import SortedSet, SortedList\n",
        "from collections import Counter\n",
        "\n",
        "import heapq\n",
        "\n",
        "# Mapping\n",
        "import plotly.express as px\n",
        "import ast"
      ]
    },
    {
      "cell_type": "markdown",
      "metadata": {
        "id": "7XYi9NRAEvai"
      },
      "source": [
        "# 1. Data Collection"
      ]
    },
    {
      "cell_type": "markdown",
      "metadata": {
        "id": "clOvL1RXZ38G"
      },
      "source": [
        "## Getting all `placeURL` and save them to a file.txt"
      ]
    },
    {
      "cell_type": "code",
      "execution_count": null,
      "metadata": {
        "id": "G8ZGcammYonK"
      },
      "outputs": [],
      "source": [
        "def which_urls(n: int = 400,\n",
        "               start: int = 0) -> List[str]:\n",
        "  \"\"\"This function returns a list containing all the desired \"https://www.atlasobscura.com/places?page={i}&sort=likes_count\" urls,\n",
        "  where {i} is a number between 1 and n.\n",
        "\n",
        "  Args:\n",
        "    - n (int): The number of total pages to request. Defaul 400.\n",
        "    - start (int): Starting point: Default 0.\n",
        "\n",
        "  Returns:\n",
        "    - List[str]: A list containg all the possible urls.\n",
        "  \"\"\"\n",
        "  return [f\"https://www.atlasobscura.com/places?page={i+1}&sort=likes_count\" for i in range(start, n)]\n",
        "\n",
        "\n",
        "\n",
        "def save_urls(path: str = \"urls.txt\",\n",
        "              n: int = 400,\n",
        "              start: int = 0,\n",
        "              t: int = 3) -> None:\n",
        "  \"\"\"It saves all the urls in a txt file.\n",
        "\n",
        "  Args\n",
        "    - path (str): The path where to save the txt file. Deafult pages.\n",
        "    - n (int): The number of pages to download. Default 400.\n",
        "    - start (int): Starting point. Default 0.\n",
        "    - t (int): Time to wait in min. Default 3.\n",
        "\n",
        "  Returns:\n",
        "    - None\n",
        "  \"\"\"\n",
        "  path = Path(path)\n",
        "\n",
        "  if start == 0:\n",
        "    with open(path, 'w') as f:\n",
        "      f.write(\"placeURL\")\n",
        "\n",
        "  while True:\n",
        "    try:\n",
        "      for i, url in enumerate(tqdm(which_urls(n, start))):\n",
        "        start = i\n",
        "        page = urlopen(url)\n",
        "        html = page.read().decode(\"utf-8\")\n",
        "        soup = BeautifulSoup(html, \"html.parser\")\n",
        "\n",
        "        urls = [\"https://www.atlasobscura.com\"+url['href'] for url in soup.find_all(\"a\", {\"class\": \"content-card-place\"}, href=True)]\n",
        "\n",
        "        with open(path, 'a') as f:\n",
        "          for link in urls:\n",
        "            f.write('\\n'+link)\n",
        "      return None\n",
        "\n",
        "    except HTTPError as e:\n",
        "      if e.code == 429:\n",
        "        print(f\"At iter {start} we've got a {e}\", end=\"\\t\")\n",
        "        time.sleep(60*t)\n",
        "        print(f\"[waited {t} min]\\n\\nContinue...\")"
      ]
    },
    {
      "cell_type": "markdown",
      "metadata": {
        "id": "-DculpbrPCaK"
      },
      "source": [
        "We use our custom function `save_urls()`, which opens each of the initial 400 pages, it scrapes them in seach of the urls and then saves the results in `urls.txt`.\n",
        "\n",
        "We have uploaded the .txt file to a personal S3 bucket. In this way we can retrieve it every time we need it."
      ]
    },
    {
      "cell_type": "markdown",
      "metadata": {
        "id": "gyBYqzrSRx7c"
      },
      "source": [
        "## Retrieve the html for each place"
      ]
    },
    {
      "cell_type": "code",
      "execution_count": null,
      "metadata": {
        "id": "ZzHEYUvBhwJK"
      },
      "outputs": [],
      "source": [
        "def download_zip(url: str) -> None:\n",
        "  \"\"\"A function that we'll use to download our files saved on our S3.\n",
        "  The function works with any type of url.\n",
        "\n",
        "  Args:\n",
        "    - url (str): The url where the file is saved.\n",
        "\n",
        "  Return:\n",
        "    - None\n",
        "  \"\"\"\n",
        "  print(f\"Start download from {url}...\", end=\"\\t\")\n",
        "  try:\n",
        "    filename = wget.download(url)\n",
        "  except Exception as e:\n",
        "    print(\"[FAILED]\")\n",
        "    print(e)\n",
        "  else:\n",
        "    print(\"[DONE]\")\n",
        "    print(f\"File saved in /content/{filename}\")\n",
        "\n",
        "    if filename.split(\".\")[-1] == \"zip\":\n",
        "      with zipfile.ZipFile(filename, \"r\") as zip_ref:\n",
        "        print(f\"Unzipping {filename}...\", end='\\t')\n",
        "        zip_ref.extractall()\n",
        "        print(\"[DONE]\")\n",
        "        os.remove(f\"/content/{filename}\")"
      ]
    },
    {
      "cell_type": "code",
      "execution_count": null,
      "metadata": {
        "colab": {
          "base_uri": "https://localhost:8080/"
        },
        "id": "eq1Vd-pWjfZf",
        "outputId": "59dba83b-4fd5-4917-dcd2-6b4690055302"
      },
      "outputs": [
        {
          "name": "stdout",
          "output_type": "stream",
          "text": [
            "Start download from https://datasciencemep27.s3.amazonaws.com/urls.zip...\t[DONE]\n",
            "File saved in /content/urls.zip\n",
            "Unzipping urls.zip...\t[DONE]\n"
          ]
        }
      ],
      "source": [
        "download_zip(\"https://datasciencemep27.s3.amazonaws.com/urls.zip\")"
      ]
    },
    {
      "cell_type": "code",
      "execution_count": null,
      "metadata": {
        "id": "GyNx0-8LSm3d"
      },
      "outputs": [],
      "source": [
        "def get_htmls(urls_file: str = \"urls.txt\",\n",
        "              path: str = \"pages\",\n",
        "              start: int = 0,\n",
        "              t : int = 3) -> None:\n",
        "  \"\"\"This function saves the html pages of each url saved in the file.txt stored at urls_file.\n",
        "\n",
        "  Args:\n",
        "    - urls_file (str): Where the file.txt is stored. Default urls.txt.\n",
        "    - path (str): Where to save the html files. Default pages.\n",
        "    - start (int): Starting point. Default 0.\n",
        "    - t (int): Time to wait in min. Default 3.\n",
        "\n",
        "  Returns:\n",
        "    - None\n",
        "  \"\"\"\n",
        "  path = Path(path)\n",
        "\n",
        "  if not path.is_dir():\n",
        "    os.mkdir(path)\n",
        "\n",
        "  while True:\n",
        "    try:\n",
        "      for url in tqdm(pd.read_csv(urls_file)['placeURL'][start:]):\n",
        "        start = len(list(path.glob(\"*\")))\n",
        "        page = urlopen(url)\n",
        "        html = page.read().decode(\"utf-8\")\n",
        "\n",
        "        os.mkdir(path/Path(f\"page {start+1}\"))\n",
        "        with open(path/Path(f\"page {start+1}\")/Path(\"html\"), \"w\") as file:\n",
        "          file.write(html)\n",
        "\n",
        "      return None\n",
        "    except HTTPError as e:\n",
        "      if e.code == 429:\n",
        "        print(f\"At iter {start} we've got a {e}\", end=\"\\t\")\n",
        "        time.sleep(60*t)\n",
        "        print(f\"[waited {t} min]\\n\\nContinue...\")"
      ]
    },
    {
      "cell_type": "markdown",
      "metadata": {
        "id": "GmMf0XqF7YPm"
      },
      "source": [
        "We use our custom function `get_htmls()` to get and to save the html file for each place in a directory with the following structure:\n",
        "\n",
        "\n",
        "\n",
        "```\n",
        "pages\n",
        "|_ page 1\n",
        "|  |_ html\n",
        "|\n",
        "|_ page 2\n",
        "|  |_ html\n",
        "|\n",
        "...\n",
        "|_ page 7200\n",
        "   |_ html\n",
        "```\n",
        "\n",
        "We can then zip it and finally we can upload the .zip file to a S3 bucket. In this way we can retrieve all the html files when we need without sending requests to the site.\n",
        "\n",
        "\n",
        "\n",
        "\n",
        "\n"
      ]
    },
    {
      "cell_type": "markdown",
      "metadata": {
        "id": "WyNi0letaT_o"
      },
      "source": [
        "## Scraping"
      ]
    },
    {
      "cell_type": "code",
      "execution_count": null,
      "metadata": {
        "colab": {
          "base_uri": "https://localhost:8080/"
        },
        "id": "TQ84VW896qTM",
        "outputId": "75883e68-0d2d-4030-dbc2-9bf77bef76af"
      },
      "outputs": [
        {
          "name": "stdout",
          "output_type": "stream",
          "text": [
            "Start download from https://datasciencemep27.s3.amazonaws.com/pages.zip...\t[DONE]\n",
            "File saved in /content/pages.zip\n",
            "Unzipping pages.zip...\t[DONE]\n"
          ]
        }
      ],
      "source": [
        "download_zip(\"https://datasciencemep27.s3.amazonaws.com/pages.zip\")"
      ]
    },
    {
      "cell_type": "code",
      "execution_count": null,
      "metadata": {
        "id": "YlRFrRTQFWwq"
      },
      "outputs": [],
      "source": [
        "def my_find(soup: Tag,\n",
        "            what: str,\n",
        "            typology: Dict[str, str] = {},\n",
        "            script: str = \"\",\n",
        "            separator: str = \"\") -> str:\n",
        "  \"\"\"A version of the find() function that handles the NoneType problem.\n",
        "\n",
        "  Args:\n",
        "    - soup (bs4.element.Tag): The bs4.element.Tag object.\n",
        "    - what (str): The html tag we are looking for.\n",
        "    - typology (Dict[str, str]): The specific class or id of the searched tag. Default {}.\n",
        "    - script (str): If the tag is a scrip this parameter should be set for the type. Deafult \"\".\n",
        "    - separator (str): The separator for the get_text() method. Default \"\".\n",
        "  \n",
        "  Returns:\n",
        "    - str : The result of the search in str format.\n",
        "  \"\"\"\n",
        "  if what == 'script':\n",
        "    finded = soup.find(what, type=script)\n",
        "    if finded is not None:\n",
        "      return finded.text\n",
        "    else:\n",
        "      return \"\"\n",
        "  else:\n",
        "    finded = soup.find(what, typology)\n",
        "    if finded is not None:\n",
        "      return finded.get_text(separator=separator)\n",
        "    else:\n",
        "      return \"\"\n",
        "\n",
        "def my_find_all(soup: Tag,\n",
        "                what: str,\n",
        "                typology: Dict[str, str] = {},\n",
        "                separator: str = \"\") -> List[str]:\n",
        "  \"\"\"A version of the find_all() function that handles the NoneType problem.\n",
        "\n",
        "  Args:\n",
        "    - soup (bs4.element.Tag): The bs4.element.Tag object.\n",
        "    - what (str): The html tag we are looking for.\n",
        "    - typology (Dict[str, str]): The specific class or id of the searched tag. Default {}.\n",
        "    - separator (str): The separator for the get_text() method. Default \"\".\n",
        "  \n",
        "  Returns:\n",
        "    - List[str] : The results of the search in List[str] format.\n",
        "  \"\"\"\n",
        "  finded = soup.find_all(what, typology)\n",
        "\n",
        "  if len(finded) == 0:\n",
        "    return [\"\"]\n",
        "  else:\n",
        "    return [elem.get_text(separator=separator) for elem in finded]\n",
        "\n",
        "def find_locations(soup: Tag,\n",
        "                   category: str) -> Union[List[List[str]], List[str]]:\n",
        "  \"\"\"This function find inside a bs4.element.Tag object all the locations of a specific category.\n",
        "\n",
        "  Args:\n",
        "    - soup (bs4.element.Tag): A bs4.element.Tag object.\n",
        "    - category (str): The specific category.\n",
        "\n",
        "  Returns:\n",
        "    - List[List[str]] : The List containing a List of all the locations of that specific category.\n",
        "  \"\"\"\n",
        "  for elem in soup.find_all(\"div\", {\"class\": \"CardRecircSection\"}):\n",
        "    if my_find(elem, \"div\", {\"class\": \"CardRecircSection__title\"}).strip().split(\" \")[0] == category:\n",
        "      return [[location.strip() for location in my_find_all(elem, \"h3\", {\"class\": \"Card__heading\"})]]\n",
        "  return [\"\"]\n",
        "\n",
        "def scrape(path: str = \"pages\",\n",
        "           save_path: str = \"places\",\n",
        "           start: int = 0) -> None:\n",
        "  \"\"\"A function that scrapes the html pages we have stored previously.\n",
        "\n",
        "  Args:\n",
        "    - path (str): The path to the html files. Default pages.\n",
        "    - save_path (str): The path where to save the csv files. Default places.\n",
        "    - start (int): The starting point. Default 0.\n",
        "\n",
        "  Returns:\n",
        "    - None\n",
        "  \"\"\"\n",
        "  path = Path(path)\n",
        "  save_path = Path(save_path)\n",
        "\n",
        "  if save_path.is_dir():\n",
        "    shutil.rmtree(save_path, ignore_errors=True)  \n",
        "  \n",
        "  os.mkdir(save_path)\n",
        "\n",
        "  for i, html_path in enumerate(tqdm(sorted(list(map(str, path.glob(\"*/html\"))), key=lambda x: int(x.split(\"/\")[1].split(\" \")[1]))[start:])):\n",
        "    \n",
        "    with open(html_path, 'r') as html:\n",
        "\n",
        "      soup = BeautifulSoup(html, \"html.parser\")\n",
        "\n",
        "      df = pd.DataFrame()\n",
        "\n",
        "      df[\"placeName\"] = [my_find(soup, \"h1\", {\"class\": \"DDPage__header-title\"}).strip()]\n",
        "      df[\"placeTags\"] = [my_find(soup, \"div\", {\"class\": \"DDPage__header-place-location\"}).split(\", \") if my_find(soup, \"div\", {\"class\": \"DDPage__header-place-location\"}) else \"\"]\n",
        "      df[\"numPeopleVisited\"] = int([visitors for visitors in my_find_all(soup, \"div\", {\"class\": \"item-action-count\"})][0]) # da aggiustare\n",
        "      df[\"numPeopleWant\"] = int([visitors for visitors in my_find_all(soup, \"div\", {\"class\": \"item-action-count\"})][1]) # da aggiustare\n",
        "      df[\"placeDesc\"] = my_find(soup, \"div\", {\"id\": \"place-body\"}).strip().replace(\"\\n\", \" \")\n",
        "      df[\"placeShortDesc\"] = [my_find(soup, \"h3\", {\"class\": \"DDPage__header-dek\"}).strip()]\n",
        "      df[\"placeNearby\"] = find_locations(soup, \"Near\")\n",
        "      df[\"placeAddress\"] = [address.replace(\"\\n\", \"\") for address in my_find_all(soup, \"address\", {\"class\": \"DDPageSiderail__address\"}, separator=\" \")]\n",
        "      coordinates = my_find(soup, \"div\", {\"class\": \"DDPageSiderail__coordinates\"}).split(\", \")\n",
        "      df[\"placeAlt\"] = float(coordinates[0].strip())\n",
        "      df[\"placeLong\"] = float(coordinates[1].strip())\n",
        "      df[\"placeEditors\"] = [[re.sub('[a-z]*[A-Z]*[\\n]+', '', editor.strip()) for editor in my_find_all(soup, \"a\", {\"class\": \"DDPContributorsList__contributor\"})]]\n",
        "      df[\"placePubDate\"] = [datetime.strptime(my_find(soup, \"div\", {\"class\": \"DDPContributor__name\"}), \"%B %d, %Y\") if my_find(soup, \"div\", {\"class\": \"DDPContributor__name\"}) != \"\" else \"\"]\n",
        "      df[\"placeRelatedLists\"] = find_locations(soup, \"Appears\")\n",
        "      df[\"placeRelatedPlaces\"] = find_locations(soup, \"Related\")\n",
        "      df[\"placeURL\"] = [json.loads(my_find(soup, 'script', script='application/ld+json'), strict=False)['url']]\n",
        "\n",
        "      df.to_csv(save_path/Path(f\"place_{i+1}.tsv\"), sep=\"\\t\", index=False)"
      ]
    },
    {
      "cell_type": "markdown",
      "metadata": {
        "id": "Uh5z8TIWrCTB"
      },
      "source": [
        "We run the function `scrape()` to scrape all the html files and save the results in .tsv files that we store in a folder.\n",
        "\n",
        "```\n",
        "places\n",
        "|_ place_1.tsv\n",
        "|\n",
        "|_ place_2.tsv\n",
        "|\n",
        "...\n",
        "|_ place_7200.tsv\n",
        "```\n",
        "\n",
        "\n",
        "We can now zip it and then manually upload it on our S3 bucket, in this way we don't have to recompute the result.\n",
        "\n"
      ]
    },
    {
      "cell_type": "markdown",
      "metadata": {
        "id": "KL5ZVQFrEkJB"
      },
      "source": [
        "# 2. Search Engine"
      ]
    },
    {
      "cell_type": "markdown",
      "metadata": {
        "id": "bma5LDIhEqsr"
      },
      "source": [
        "## Download all the data we need"
      ]
    },
    {
      "cell_type": "code",
      "execution_count": null,
      "metadata": {
        "colab": {
          "base_uri": "https://localhost:8080/"
        },
        "id": "tKjJYkKAqlYz",
        "outputId": "da372d57-fc9a-402a-be5f-f33604f5e9b1"
      },
      "outputs": [
        {
          "name": "stdout",
          "output_type": "stream",
          "text": [
            "Start download from https://datasciencemep27.s3.amazonaws.com/places.zip...\t[DONE]\n",
            "File saved in /content/places.zip\n",
            "Unzipping places.zip...\t[DONE]\n"
          ]
        }
      ],
      "source": [
        "download_zip(\"https://datasciencemep27.s3.amazonaws.com/places.zip\")"
      ]
    },
    {
      "cell_type": "code",
      "execution_count": null,
      "metadata": {
        "id": "psn5M_6BBK-D"
      },
      "outputs": [],
      "source": [
        "def create_total_dataframe(path: str = \"places\") -> None:\n",
        "  \"\"\"This function creates a total version of the data, indexed on the file.tsv name and stores it in a data.csv file.\n",
        "\n",
        "  Args:\n",
        "    - path (str): The path to the data.\n",
        "\n",
        "  Returns:\n",
        "    - None\n",
        "  \"\"\"\n",
        "  path = Path(path)\n",
        "\n",
        "  df = pd.DataFrame()\n",
        "\n",
        "  for tsv in tqdm(sorted(list(map(str, path.glob(\"*.tsv\"))), key=lambda x: int(x.split(\"/\")[1].split(\"_\")[1].split(\".\")[0]))):\n",
        "    place_df = pd.read_csv(tsv, delimiter=\"\\t\")\n",
        "    place_df[\"placeFile\"] = tsv.split(\"/\")[1].split(\".\")[0]\n",
        "    df = pd.concat([df, place_df.set_index([\"placeFile\"])])\n",
        "\n",
        "  df.to_csv(\"data.csv\", sep=\",\")\n",
        "  return None"
      ]
    },
    {
      "cell_type": "code",
      "execution_count": null,
      "metadata": {
        "colab": {
          "base_uri": "https://localhost:8080/",
          "height": 49,
          "referenced_widgets": [
            "2ad1f2c9172c48dbb475f35e0649d648",
            "c568912586f7435983b301a72fbeb73a",
            "8885e4bad2764095812e78ae0c3df4b6",
            "4124ad16ba274b43ba43424169a2aaa8",
            "59c318bc30bd4c7292c4c8d7759da171",
            "9567e9d60303438d9f3622103ba0f892",
            "64a01b90408b4fde877bc6fcdd46bcc6",
            "c0b342b17c834c55b19c0af85b337716",
            "49bafaf50d4548388415bc08dad0982f",
            "53a46762b3df45c09de94fb5ea7fdc0c",
            "28b7d0dd2b1a47baa67ef52d556931c9"
          ]
        },
        "id": "EHkJudtJOlcU",
        "outputId": "461a71d9-c805-4cd1-a13e-bf70023cbce3"
      },
      "outputs": [
        {
          "data": {
            "application/vnd.jupyter.widget-view+json": {
              "model_id": "2ad1f2c9172c48dbb475f35e0649d648",
              "version_major": 2,
              "version_minor": 0
            },
            "text/plain": [
              "  0%|          | 0/7200 [00:00<?, ?it/s]"
            ]
          },
          "metadata": {},
          "output_type": "display_data"
        }
      ],
      "source": [
        "create_total_dataframe()"
      ]
    },
    {
      "cell_type": "markdown",
      "metadata": {
        "id": "-ZVxYiC7OqiB"
      },
      "source": [
        "We had also saved the `data.csv` file on our S3 Bucket ([data.zip](https://datasciencemep27.s3.amazonaws.com/data.zip))."
      ]
    },
    {
      "cell_type": "markdown",
      "metadata": {
        "id": "ngUIYpQM24OV"
      },
      "source": [
        "## Visualize the data"
      ]
    },
    {
      "cell_type": "markdown",
      "metadata": {
        "id": "00_zNV8HviM1"
      },
      "source": [
        "Using `data.csv` we can look at some statistics of our dataset.\n",
        "\n",
        "We use `ast.literal_eval()` method to transform the string version of the lists in list. "
      ]
    },
    {
      "cell_type": "code",
      "execution_count": null,
      "metadata": {
        "id": "Ffw8keJGx_8y"
      },
      "outputs": [],
      "source": [
        "df = pd.read_csv(\"data.csv\", index_col=\"placeFile\", dtype={'INDEX':str})\n",
        "\n",
        "df[\"placeTags\"] = df[\"placeTags\"].apply(lambda x: ast.literal_eval(x) if pd.notnull(x) else x)\n",
        "df[\"placeNearby\"] = df[\"placeNearby\"].apply(lambda x: ast.literal_eval(x) if pd.notnull(x) else x)\n",
        "df[\"placeEditors\"] = df[\"placeEditors\"].apply(lambda x: ast.literal_eval(x) if pd.notnull(x) else x)\n",
        "df[\"placeRelatedLists\"] = df[\"placeRelatedLists\"].apply(lambda x: ast.literal_eval(x) if pd.notnull(x) else x)\n",
        "df[\"placeRelatedPlaces\"] = df[\"placeRelatedPlaces\"].apply(lambda x: ast.literal_eval(x) if pd.notnull(x) else x)"
      ]
    },
    {
      "cell_type": "markdown",
      "metadata": {
        "id": "v5zfyLdlxMlR"
      },
      "source": [
        "We have found that [Atlas Obscura](https://www.atlasobscura.com/) ranks the **Most Popular Places** by the value of `numPeopleWant`:\n"
      ]
    },
    {
      "cell_type": "code",
      "execution_count": null,
      "metadata": {
        "colab": {
          "base_uri": "https://localhost:8080/",
          "height": 1000
        },
        "id": "44E2oXNCsg6w",
        "outputId": "47abfbbe-c8c8-477c-deb0-0311f453e85f"
      },
      "outputs": [
        {
          "data": {
            "text/html": [
              "\n",
              "  <div id=\"df-0cee030e-31a6-4416-8e03-0537e0e25574\">\n",
              "    <div class=\"colab-df-container\">\n",
              "      <div>\n",
              "<style scoped>\n",
              "    .dataframe tbody tr th:only-of-type {\n",
              "        vertical-align: middle;\n",
              "    }\n",
              "\n",
              "    .dataframe tbody tr th {\n",
              "        vertical-align: top;\n",
              "    }\n",
              "\n",
              "    .dataframe thead th {\n",
              "        text-align: right;\n",
              "    }\n",
              "</style>\n",
              "<table border=\"1\" class=\"dataframe\">\n",
              "  <thead>\n",
              "    <tr style=\"text-align: right;\">\n",
              "      <th></th>\n",
              "      <th>placeName</th>\n",
              "      <th>placeTags</th>\n",
              "      <th>numPeopleVisited</th>\n",
              "      <th>numPeopleWant</th>\n",
              "      <th>placeDesc</th>\n",
              "      <th>placeShortDesc</th>\n",
              "      <th>placeNearby</th>\n",
              "      <th>placeAddress</th>\n",
              "      <th>placeAlt</th>\n",
              "      <th>placeLong</th>\n",
              "      <th>placeEditors</th>\n",
              "      <th>placePubDate</th>\n",
              "      <th>placeRelatedLists</th>\n",
              "      <th>placeRelatedPlaces</th>\n",
              "      <th>placeURL</th>\n",
              "    </tr>\n",
              "    <tr>\n",
              "      <th>placeFile</th>\n",
              "      <th></th>\n",
              "      <th></th>\n",
              "      <th></th>\n",
              "      <th></th>\n",
              "      <th></th>\n",
              "      <th></th>\n",
              "      <th></th>\n",
              "      <th></th>\n",
              "      <th></th>\n",
              "      <th></th>\n",
              "      <th></th>\n",
              "      <th></th>\n",
              "      <th></th>\n",
              "      <th></th>\n",
              "      <th></th>\n",
              "    </tr>\n",
              "  </thead>\n",
              "  <tbody>\n",
              "    <tr>\n",
              "      <th>place_1</th>\n",
              "      <td>City Hall Station</td>\n",
              "      <td>[Manhattan, New York]</td>\n",
              "      <td>1826</td>\n",
              "      <td>8572</td>\n",
              "      <td>The first New York City subway was built and o...</td>\n",
              "      <td>A beautiful and abandoned New York subway stat...</td>\n",
              "      <td>[African Burial Ground National Monument, Tunn...</td>\n",
              "      <td>31 Centre St New York, New York, 10007 U...</td>\n",
              "      <td>40.7134</td>\n",
              "      <td>-74.0046</td>\n",
              "      <td>[Rebekah Otto, Habicurious, charding407, Annet...</td>\n",
              "      <td>2010-05-08</td>\n",
              "      <td>[30 Unexpected Places to Have a Joyful Adventu...</td>\n",
              "      <td>[Crystal Palace Subway, Moscow Metro Stations,...</td>\n",
              "      <td>https://www.atlasobscura.com/places/city-hall-...</td>\n",
              "    </tr>\n",
              "    <tr>\n",
              "      <th>place_2</th>\n",
              "      <td>Highgate Cemetery</td>\n",
              "      <td>[London, England]</td>\n",
              "      <td>2616</td>\n",
              "      <td>8180</td>\n",
              "      <td>Opened in 1839, Highgate is one of London’s mo...</td>\n",
              "      <td>London's creepiest cemetery was once the site ...</td>\n",
              "      <td>[World's Largest Potted Plant, Dick Whittingto...</td>\n",
              "      <td>Swain's Lane, Highgate London, England, ...</td>\n",
              "      <td>51.5675</td>\n",
              "      <td>-0.1483</td>\n",
              "      <td>[Goksu, Rob, SEANETTA, anthonyhogg, Monsieur M...</td>\n",
              "      <td>2014-08-09</td>\n",
              "      <td>[The World's Top 100 Wonders in 2018, London's...</td>\n",
              "      <td>[Jewett City Vampires, Tomb of the Mather Fami...</td>\n",
              "      <td>https://www.atlasobscura.com/places/highgate-c...</td>\n",
              "    </tr>\n",
              "    <tr>\n",
              "      <th>place_3</th>\n",
              "      <td>Leadenhall Market</td>\n",
              "      <td>[London, England]</td>\n",
              "      <td>3133</td>\n",
              "      <td>7561</td>\n",
              "      <td>The ornate 19th-century painted roof and cobbl...</td>\n",
              "      <td>This ornate Victorian marketplace was the sett...</td>\n",
              "      <td>[The Cornhill Devils, London's Original and Al...</td>\n",
              "      <td>London, England, EC3V United Kingdom</td>\n",
              "      <td>51.5126</td>\n",
              "      <td>-0.0834</td>\n",
              "      <td>[Meg, MagnumPI, JulesR, caraobrien, JZA, honey...</td>\n",
              "      <td>2016-08-01</td>\n",
              "      <td>[The Ultimate Guide to Stunning, Surprising, o...</td>\n",
              "      <td>[Rivendell, Bagdad Cafe, Gare de la Ciotat, Dr...</td>\n",
              "      <td>https://www.atlasobscura.com/places/leadenhall...</td>\n",
              "    </tr>\n",
              "    <tr>\n",
              "      <th>place_4</th>\n",
              "      <td>The Wave Organ</td>\n",
              "      <td>[San Francisco, California]</td>\n",
              "      <td>2427</td>\n",
              "      <td>7401</td>\n",
              "      <td>Located on a jetty in the San Francisco Bay, t...</td>\n",
              "      <td>A huge musical instrument played by the ocean.</td>\n",
              "      <td>[Long Now Orrery, The Stern of the Brigantine ...</td>\n",
              "      <td>83 Marina Green Dr San Francisco, Califo...</td>\n",
              "      <td>37.8085</td>\n",
              "      <td>-122.4401</td>\n",
              "      <td>[mbison, td007, bylow1md, hana, routt1111, cat...</td>\n",
              "      <td>2008-11-21</td>\n",
              "      <td>[Leonardo Nam's 16 Quirky Roadside Attractions...</td>\n",
              "      <td>[Sea Organ, Silent Green Kulturquartier, St. J...</td>\n",
              "      <td>https://www.atlasobscura.com/places/wave-organ</td>\n",
              "    </tr>\n",
              "    <tr>\n",
              "      <th>place_5</th>\n",
              "      <td>Catacombes de Paris</td>\n",
              "      <td>[Paris, France]</td>\n",
              "      <td>4443</td>\n",
              "      <td>7037</td>\n",
              "      <td>In 2004, Parisian police were assigned to do a...</td>\n",
              "      <td>The vast, legendary catacombs hold secrets muc...</td>\n",
              "      <td>[Sculptures de Décure, Arago Medallions, Jeann...</td>\n",
              "      <td>1 Place Denfert-Rochereau Paris, 75014 F...</td>\n",
              "      <td>48.8343</td>\n",
              "      <td>2.3322</td>\n",
              "      <td>[CPilgrim, gingercinnamon, keith, TeaAndCoffee...</td>\n",
              "      <td>2009-02-13</td>\n",
              "      <td>[19 Catacombs Sure to Tingle Your Spine, The W...</td>\n",
              "      <td>[Ossario di San Martino, Leuk Charnel House, S...</td>\n",
              "      <td>https://www.atlasobscura.com/places/catacombes...</td>\n",
              "    </tr>\n",
              "    <tr>\n",
              "      <th>...</th>\n",
              "      <td>...</td>\n",
              "      <td>...</td>\n",
              "      <td>...</td>\n",
              "      <td>...</td>\n",
              "      <td>...</td>\n",
              "      <td>...</td>\n",
              "      <td>...</td>\n",
              "      <td>...</td>\n",
              "      <td>...</td>\n",
              "      <td>...</td>\n",
              "      <td>...</td>\n",
              "      <td>...</td>\n",
              "      <td>...</td>\n",
              "      <td>...</td>\n",
              "      <td>...</td>\n",
              "    </tr>\n",
              "    <tr>\n",
              "      <th>place_7196</th>\n",
              "      <td>The Cairo</td>\n",
              "      <td>[Washington, D.C.]</td>\n",
              "      <td>342</td>\n",
              "      <td>405</td>\n",
              "      <td>Washington D.C.’s residential neighborhoods ar...</td>\n",
              "      <td>This unacceptably tall building was the real r...</td>\n",
              "      <td>[Annie's Paramount Steakhouse, Charlotte Forte...</td>\n",
              "      <td>1615 Q Street NW Washington, District of...</td>\n",
              "      <td>38.9113</td>\n",
              "      <td>-77.0375</td>\n",
              "      <td>[Elliot Carter, matthewbgilmore, Greg Jones]</td>\n",
              "      <td>2017-09-12</td>\n",
              "      <td>NaN</td>\n",
              "      <td>[145 Rue Lafayette, Architect of the Capitol A...</td>\n",
              "      <td>https://www.atlasobscura.com/places/the-cairo-...</td>\n",
              "    </tr>\n",
              "    <tr>\n",
              "      <th>place_7197</th>\n",
              "      <td>Winganon Space Capsule</td>\n",
              "      <td>[Talala, Oklahoma]</td>\n",
              "      <td>120</td>\n",
              "      <td>405</td>\n",
              "      <td>Any out of town-ers driving along the dull str...</td>\n",
              "      <td>A detached cement mixer has been transformed t...</td>\n",
              "      <td>[Bowling Ball Yard Art, Totem Pole Park, Playt...</td>\n",
              "      <td>E 300 Road Talala, Oklahoma United States</td>\n",
              "      <td>36.5828</td>\n",
              "      <td>-95.6516</td>\n",
              "      <td>[nervisgun, Zain Ahmed, CoolCrab, MNtraveler, ...</td>\n",
              "      <td>2017-08-14</td>\n",
              "      <td>NaN</td>\n",
              "      <td>[Folk Art Park, Apple Valley Hillbilly Garden ...</td>\n",
              "      <td>https://www.atlasobscura.com/places/winganon-s...</td>\n",
              "    </tr>\n",
              "    <tr>\n",
              "      <th>place_7198</th>\n",
              "      <td>Cook &amp; Book</td>\n",
              "      <td>[Brussels, Belgium]</td>\n",
              "      <td>124</td>\n",
              "      <td>405</td>\n",
              "      <td>Cook &amp; Book in Brussels is far more than just ...</td>\n",
              "      <td>A wonderfully kitsch bookstore the size of a s...</td>\n",
              "      <td>[Bibliotheca Wittockiana, Temple of Human Pass...</td>\n",
              "      <td>1 Place du Temps Libre Woluwe-Saint-Lamb...</td>\n",
              "      <td>50.8480</td>\n",
              "      <td>4.4373</td>\n",
              "      <td>[Producer Dani, simonlitton, rhumphrey17]</td>\n",
              "      <td>2017-02-08</td>\n",
              "      <td>[The Ultimate Guide to Wondrous Independent Bo...</td>\n",
              "      <td>[For Keeps Bookstore, Fantagraphics, La Llama,...</td>\n",
              "      <td>https://www.atlasobscura.com/places/cook-book</td>\n",
              "    </tr>\n",
              "    <tr>\n",
              "      <th>place_7199</th>\n",
              "      <td>Xul Solar Museum</td>\n",
              "      <td>[Buenos Aires, Argentina]</td>\n",
              "      <td>129</td>\n",
              "      <td>405</td>\n",
              "      <td>With dreams of reforming and perfecting the un...</td>\n",
              "      <td>Xul Solar was an artist of alternate worlds, i...</td>\n",
              "      <td>[Ricardo Rojas House Museum, Villa Freud, El A...</td>\n",
              "      <td>Laprida 1212 Buenos Aires Argentina</td>\n",
              "      <td>-34.5948</td>\n",
              "      <td>-58.4078</td>\n",
              "      <td>[Allison]</td>\n",
              "      <td>2016-09-12</td>\n",
              "      <td>[A Linguistics Lover's Tour of the World]</td>\n",
              "      <td>[Blenko Man, Ilana Goor Museum, Museo de Arte ...</td>\n",
              "      <td>https://www.atlasobscura.com/places/xul-solar-...</td>\n",
              "    </tr>\n",
              "    <tr>\n",
              "      <th>place_7200</th>\n",
              "      <td>Termesphere Gallery</td>\n",
              "      <td>[Spearfish, South Dakota]</td>\n",
              "      <td>71</td>\n",
              "      <td>405</td>\n",
              "      <td>Most artists paint on a a flat plane, but in t...</td>\n",
              "      <td>This geodesic gallery holds a collection of pa...</td>\n",
              "      <td>[Fish Car No. 3, Mount Roosevelt Friendship To...</td>\n",
              "      <td>1920 Christensen Drive Spearfish, South ...</td>\n",
              "      <td>44.4574</td>\n",
              "      <td>-103.8258</td>\n",
              "      <td>[kgsn143]</td>\n",
              "      <td>2014-08-19</td>\n",
              "      <td>NaN</td>\n",
              "      <td>[Museo del Barro (Museum of Clay), Museo Dolor...</td>\n",
              "      <td>https://www.atlasobscura.com/places/termespher...</td>\n",
              "    </tr>\n",
              "  </tbody>\n",
              "</table>\n",
              "<p>7200 rows × 15 columns</p>\n",
              "</div>\n",
              "      <button class=\"colab-df-convert\" onclick=\"convertToInteractive('df-0cee030e-31a6-4416-8e03-0537e0e25574')\"\n",
              "              title=\"Convert this dataframe to an interactive table.\"\n",
              "              style=\"display:none;\">\n",
              "        \n",
              "  <svg xmlns=\"http://www.w3.org/2000/svg\" height=\"24px\"viewBox=\"0 0 24 24\"\n",
              "       width=\"24px\">\n",
              "    <path d=\"M0 0h24v24H0V0z\" fill=\"none\"/>\n",
              "    <path d=\"M18.56 5.44l.94 2.06.94-2.06 2.06-.94-2.06-.94-.94-2.06-.94 2.06-2.06.94zm-11 1L8.5 8.5l.94-2.06 2.06-.94-2.06-.94L8.5 2.5l-.94 2.06-2.06.94zm10 10l.94 2.06.94-2.06 2.06-.94-2.06-.94-.94-2.06-.94 2.06-2.06.94z\"/><path d=\"M17.41 7.96l-1.37-1.37c-.4-.4-.92-.59-1.43-.59-.52 0-1.04.2-1.43.59L10.3 9.45l-7.72 7.72c-.78.78-.78 2.05 0 2.83L4 21.41c.39.39.9.59 1.41.59.51 0 1.02-.2 1.41-.59l7.78-7.78 2.81-2.81c.8-.78.8-2.07 0-2.86zM5.41 20L4 18.59l7.72-7.72 1.47 1.35L5.41 20z\"/>\n",
              "  </svg>\n",
              "      </button>\n",
              "      \n",
              "  <style>\n",
              "    .colab-df-container {\n",
              "      display:flex;\n",
              "      flex-wrap:wrap;\n",
              "      gap: 12px;\n",
              "    }\n",
              "\n",
              "    .colab-df-convert {\n",
              "      background-color: #E8F0FE;\n",
              "      border: none;\n",
              "      border-radius: 50%;\n",
              "      cursor: pointer;\n",
              "      display: none;\n",
              "      fill: #1967D2;\n",
              "      height: 32px;\n",
              "      padding: 0 0 0 0;\n",
              "      width: 32px;\n",
              "    }\n",
              "\n",
              "    .colab-df-convert:hover {\n",
              "      background-color: #E2EBFA;\n",
              "      box-shadow: 0px 1px 2px rgba(60, 64, 67, 0.3), 0px 1px 3px 1px rgba(60, 64, 67, 0.15);\n",
              "      fill: #174EA6;\n",
              "    }\n",
              "\n",
              "    [theme=dark] .colab-df-convert {\n",
              "      background-color: #3B4455;\n",
              "      fill: #D2E3FC;\n",
              "    }\n",
              "\n",
              "    [theme=dark] .colab-df-convert:hover {\n",
              "      background-color: #434B5C;\n",
              "      box-shadow: 0px 1px 3px 1px rgba(0, 0, 0, 0.15);\n",
              "      filter: drop-shadow(0px 1px 2px rgba(0, 0, 0, 0.3));\n",
              "      fill: #FFFFFF;\n",
              "    }\n",
              "  </style>\n",
              "\n",
              "      <script>\n",
              "        const buttonEl =\n",
              "          document.querySelector('#df-0cee030e-31a6-4416-8e03-0537e0e25574 button.colab-df-convert');\n",
              "        buttonEl.style.display =\n",
              "          google.colab.kernel.accessAllowed ? 'block' : 'none';\n",
              "\n",
              "        async function convertToInteractive(key) {\n",
              "          const element = document.querySelector('#df-0cee030e-31a6-4416-8e03-0537e0e25574');\n",
              "          const dataTable =\n",
              "            await google.colab.kernel.invokeFunction('convertToInteractive',\n",
              "                                                     [key], {});\n",
              "          if (!dataTable) return;\n",
              "\n",
              "          const docLinkHtml = 'Like what you see? Visit the ' +\n",
              "            '<a target=\"_blank\" href=https://colab.research.google.com/notebooks/data_table.ipynb>data table notebook</a>'\n",
              "            + ' to learn more about interactive tables.';\n",
              "          element.innerHTML = '';\n",
              "          dataTable['output_type'] = 'display_data';\n",
              "          await google.colab.output.renderOutput(dataTable, element);\n",
              "          const docLink = document.createElement('div');\n",
              "          docLink.innerHTML = docLinkHtml;\n",
              "          element.appendChild(docLink);\n",
              "        }\n",
              "      </script>\n",
              "    </div>\n",
              "  </div>\n",
              "  "
            ],
            "text/plain": [
              "                         placeName                    placeTags  \\\n",
              "placeFile                                                         \n",
              "place_1          City Hall Station        [Manhattan, New York]   \n",
              "place_2          Highgate Cemetery            [London, England]   \n",
              "place_3          Leadenhall Market            [London, England]   \n",
              "place_4             The Wave Organ  [San Francisco, California]   \n",
              "place_5        Catacombes de Paris              [Paris, France]   \n",
              "...                            ...                          ...   \n",
              "place_7196               The Cairo           [Washington, D.C.]   \n",
              "place_7197  Winganon Space Capsule           [Talala, Oklahoma]   \n",
              "place_7198             Cook & Book          [Brussels, Belgium]   \n",
              "place_7199        Xul Solar Museum    [Buenos Aires, Argentina]   \n",
              "place_7200     Termesphere Gallery    [Spearfish, South Dakota]   \n",
              "\n",
              "            numPeopleVisited  numPeopleWant  \\\n",
              "placeFile                                     \n",
              "place_1                 1826           8572   \n",
              "place_2                 2616           8180   \n",
              "place_3                 3133           7561   \n",
              "place_4                 2427           7401   \n",
              "place_5                 4443           7037   \n",
              "...                      ...            ...   \n",
              "place_7196               342            405   \n",
              "place_7197               120            405   \n",
              "place_7198               124            405   \n",
              "place_7199               129            405   \n",
              "place_7200                71            405   \n",
              "\n",
              "                                                    placeDesc  \\\n",
              "placeFile                                                       \n",
              "place_1     The first New York City subway was built and o...   \n",
              "place_2     Opened in 1839, Highgate is one of London’s mo...   \n",
              "place_3     The ornate 19th-century painted roof and cobbl...   \n",
              "place_4     Located on a jetty in the San Francisco Bay, t...   \n",
              "place_5     In 2004, Parisian police were assigned to do a...   \n",
              "...                                                       ...   \n",
              "place_7196  Washington D.C.’s residential neighborhoods ar...   \n",
              "place_7197  Any out of town-ers driving along the dull str...   \n",
              "place_7198  Cook & Book in Brussels is far more than just ...   \n",
              "place_7199  With dreams of reforming and perfecting the un...   \n",
              "place_7200  Most artists paint on a a flat plane, but in t...   \n",
              "\n",
              "                                               placeShortDesc  \\\n",
              "placeFile                                                       \n",
              "place_1     A beautiful and abandoned New York subway stat...   \n",
              "place_2     London's creepiest cemetery was once the site ...   \n",
              "place_3     This ornate Victorian marketplace was the sett...   \n",
              "place_4        A huge musical instrument played by the ocean.   \n",
              "place_5     The vast, legendary catacombs hold secrets muc...   \n",
              "...                                                       ...   \n",
              "place_7196  This unacceptably tall building was the real r...   \n",
              "place_7197  A detached cement mixer has been transformed t...   \n",
              "place_7198  A wonderfully kitsch bookstore the size of a s...   \n",
              "place_7199  Xul Solar was an artist of alternate worlds, i...   \n",
              "place_7200  This geodesic gallery holds a collection of pa...   \n",
              "\n",
              "                                                  placeNearby  \\\n",
              "placeFile                                                       \n",
              "place_1     [African Burial Ground National Monument, Tunn...   \n",
              "place_2     [World's Largest Potted Plant, Dick Whittingto...   \n",
              "place_3     [The Cornhill Devils, London's Original and Al...   \n",
              "place_4     [Long Now Orrery, The Stern of the Brigantine ...   \n",
              "place_5     [Sculptures de Décure, Arago Medallions, Jeann...   \n",
              "...                                                       ...   \n",
              "place_7196  [Annie's Paramount Steakhouse, Charlotte Forte...   \n",
              "place_7197  [Bowling Ball Yard Art, Totem Pole Park, Playt...   \n",
              "place_7198  [Bibliotheca Wittockiana, Temple of Human Pass...   \n",
              "place_7199  [Ricardo Rojas House Museum, Villa Freud, El A...   \n",
              "place_7200  [Fish Car No. 3, Mount Roosevelt Friendship To...   \n",
              "\n",
              "                                                 placeAddress  placeAlt  \\\n",
              "placeFile                                                                 \n",
              "place_1           31 Centre St New York, New York, 10007 U...   40.7134   \n",
              "place_2           Swain's Lane, Highgate London, England, ...   51.5675   \n",
              "place_3                 London, England, EC3V United Kingdom    51.5126   \n",
              "place_4           83 Marina Green Dr San Francisco, Califo...   37.8085   \n",
              "place_5           1 Place Denfert-Rochereau Paris, 75014 F...   48.8343   \n",
              "...                                                       ...       ...   \n",
              "place_7196        1615 Q Street NW Washington, District of...   38.9113   \n",
              "place_7197         E 300 Road Talala, Oklahoma United States    36.5828   \n",
              "place_7198        1 Place du Temps Libre Woluwe-Saint-Lamb...   50.8480   \n",
              "place_7199               Laprida 1212 Buenos Aires Argentina   -34.5948   \n",
              "place_7200        1920 Christensen Drive Spearfish, South ...   44.4574   \n",
              "\n",
              "            placeLong                                       placeEditors  \\\n",
              "placeFile                                                                  \n",
              "place_1      -74.0046  [Rebekah Otto, Habicurious, charding407, Annet...   \n",
              "place_2       -0.1483  [Goksu, Rob, SEANETTA, anthonyhogg, Monsieur M...   \n",
              "place_3       -0.0834  [Meg, MagnumPI, JulesR, caraobrien, JZA, honey...   \n",
              "place_4     -122.4401  [mbison, td007, bylow1md, hana, routt1111, cat...   \n",
              "place_5        2.3322  [CPilgrim, gingercinnamon, keith, TeaAndCoffee...   \n",
              "...               ...                                                ...   \n",
              "place_7196   -77.0375       [Elliot Carter, matthewbgilmore, Greg Jones]   \n",
              "place_7197   -95.6516  [nervisgun, Zain Ahmed, CoolCrab, MNtraveler, ...   \n",
              "place_7198     4.4373          [Producer Dani, simonlitton, rhumphrey17]   \n",
              "place_7199   -58.4078                                          [Allison]   \n",
              "place_7200  -103.8258                                          [kgsn143]   \n",
              "\n",
              "           placePubDate                                  placeRelatedLists  \\\n",
              "placeFile                                                                    \n",
              "place_1      2010-05-08  [30 Unexpected Places to Have a Joyful Adventu...   \n",
              "place_2      2014-08-09  [The World's Top 100 Wonders in 2018, London's...   \n",
              "place_3      2016-08-01  [The Ultimate Guide to Stunning, Surprising, o...   \n",
              "place_4      2008-11-21  [Leonardo Nam's 16 Quirky Roadside Attractions...   \n",
              "place_5      2009-02-13  [19 Catacombs Sure to Tingle Your Spine, The W...   \n",
              "...                 ...                                                ...   \n",
              "place_7196   2017-09-12                                                NaN   \n",
              "place_7197   2017-08-14                                                NaN   \n",
              "place_7198   2017-02-08  [The Ultimate Guide to Wondrous Independent Bo...   \n",
              "place_7199   2016-09-12          [A Linguistics Lover's Tour of the World]   \n",
              "place_7200   2014-08-19                                                NaN   \n",
              "\n",
              "                                           placeRelatedPlaces  \\\n",
              "placeFile                                                       \n",
              "place_1     [Crystal Palace Subway, Moscow Metro Stations,...   \n",
              "place_2     [Jewett City Vampires, Tomb of the Mather Fami...   \n",
              "place_3     [Rivendell, Bagdad Cafe, Gare de la Ciotat, Dr...   \n",
              "place_4     [Sea Organ, Silent Green Kulturquartier, St. J...   \n",
              "place_5     [Ossario di San Martino, Leuk Charnel House, S...   \n",
              "...                                                       ...   \n",
              "place_7196  [145 Rue Lafayette, Architect of the Capitol A...   \n",
              "place_7197  [Folk Art Park, Apple Valley Hillbilly Garden ...   \n",
              "place_7198  [For Keeps Bookstore, Fantagraphics, La Llama,...   \n",
              "place_7199  [Blenko Man, Ilana Goor Museum, Museo de Arte ...   \n",
              "place_7200  [Museo del Barro (Museum of Clay), Museo Dolor...   \n",
              "\n",
              "                                                     placeURL  \n",
              "placeFile                                                      \n",
              "place_1     https://www.atlasobscura.com/places/city-hall-...  \n",
              "place_2     https://www.atlasobscura.com/places/highgate-c...  \n",
              "place_3     https://www.atlasobscura.com/places/leadenhall...  \n",
              "place_4        https://www.atlasobscura.com/places/wave-organ  \n",
              "place_5     https://www.atlasobscura.com/places/catacombes...  \n",
              "...                                                       ...  \n",
              "place_7196  https://www.atlasobscura.com/places/the-cairo-...  \n",
              "place_7197  https://www.atlasobscura.com/places/winganon-s...  \n",
              "place_7198      https://www.atlasobscura.com/places/cook-book  \n",
              "place_7199  https://www.atlasobscura.com/places/xul-solar-...  \n",
              "place_7200  https://www.atlasobscura.com/places/termespher...  \n",
              "\n",
              "[7200 rows x 15 columns]"
            ]
          },
          "metadata": {},
          "output_type": "display_data"
        }
      ],
      "source": [
        "display(df)"
      ]
    },
    {
      "cell_type": "markdown",
      "metadata": {
        "id": "jAbKll7WyKEM"
      },
      "source": [
        "So the highest value for `numPeopleWant` is going to be the place at line 0, and the lowest is going to be the element at line 7199... but if we search for the minimum value of `numPeopleWant` we find out that there is a place (at line 6041) that has a value of 2."
      ]
    },
    {
      "cell_type": "code",
      "execution_count": null,
      "metadata": {
        "colab": {
          "base_uri": "https://localhost:8080/",
          "height": 520
        },
        "id": "8eO5T6Z_yKyA",
        "outputId": "2f23e898-561a-40a5-a127-6fe76f7c0b01"
      },
      "outputs": [
        {
          "data": {
            "text/html": [
              "\n",
              "  <div id=\"df-b33187be-15a9-470d-ad15-7f809e016d71\">\n",
              "    <div class=\"colab-df-container\">\n",
              "      <div>\n",
              "<style scoped>\n",
              "    .dataframe tbody tr th:only-of-type {\n",
              "        vertical-align: middle;\n",
              "    }\n",
              "\n",
              "    .dataframe tbody tr th {\n",
              "        vertical-align: top;\n",
              "    }\n",
              "\n",
              "    .dataframe thead th {\n",
              "        text-align: right;\n",
              "    }\n",
              "</style>\n",
              "<table border=\"1\" class=\"dataframe\">\n",
              "  <thead>\n",
              "    <tr style=\"text-align: right;\">\n",
              "      <th></th>\n",
              "      <th>place_6042</th>\n",
              "    </tr>\n",
              "  </thead>\n",
              "  <tbody>\n",
              "    <tr>\n",
              "      <th>placeName</th>\n",
              "      <td>Shangri La Botanical Gardens &amp; Nature Center</td>\n",
              "    </tr>\n",
              "    <tr>\n",
              "      <th>placeTags</th>\n",
              "      <td>NaN</td>\n",
              "    </tr>\n",
              "    <tr>\n",
              "      <th>numPeopleVisited</th>\n",
              "      <td>0</td>\n",
              "    </tr>\n",
              "    <tr>\n",
              "      <th>numPeopleWant</th>\n",
              "      <td>2</td>\n",
              "    </tr>\n",
              "    <tr>\n",
              "      <th>placeDesc</th>\n",
              "      <td>“…I determined to gather together all things o...</td>\n",
              "    </tr>\n",
              "    <tr>\n",
              "      <th>placeShortDesc</th>\n",
              "      <td>Cradled in the midst of a southeast Texas town...</td>\n",
              "    </tr>\n",
              "    <tr>\n",
              "      <th>placeNearby</th>\n",
              "      <td>NaN</td>\n",
              "    </tr>\n",
              "    <tr>\n",
              "      <th>placeAddress</th>\n",
              "      <td>2111 W. Park Ave., Orange, TX 77630</td>\n",
              "    </tr>\n",
              "    <tr>\n",
              "      <th>placeAlt</th>\n",
              "      <td>0.0</td>\n",
              "    </tr>\n",
              "    <tr>\n",
              "      <th>placeLong</th>\n",
              "      <td>0.0</td>\n",
              "    </tr>\n",
              "    <tr>\n",
              "      <th>placeEditors</th>\n",
              "      <td>[erjeffery]</td>\n",
              "    </tr>\n",
              "    <tr>\n",
              "      <th>placePubDate</th>\n",
              "      <td>NaN</td>\n",
              "    </tr>\n",
              "    <tr>\n",
              "      <th>placeRelatedLists</th>\n",
              "      <td>NaN</td>\n",
              "    </tr>\n",
              "    <tr>\n",
              "      <th>placeRelatedPlaces</th>\n",
              "      <td>NaN</td>\n",
              "    </tr>\n",
              "    <tr>\n",
              "      <th>placeURL</th>\n",
              "      <td>https://www.atlasobscura.com/places/shangri-la...</td>\n",
              "    </tr>\n",
              "  </tbody>\n",
              "</table>\n",
              "</div>\n",
              "      <button class=\"colab-df-convert\" onclick=\"convertToInteractive('df-b33187be-15a9-470d-ad15-7f809e016d71')\"\n",
              "              title=\"Convert this dataframe to an interactive table.\"\n",
              "              style=\"display:none;\">\n",
              "        \n",
              "  <svg xmlns=\"http://www.w3.org/2000/svg\" height=\"24px\"viewBox=\"0 0 24 24\"\n",
              "       width=\"24px\">\n",
              "    <path d=\"M0 0h24v24H0V0z\" fill=\"none\"/>\n",
              "    <path d=\"M18.56 5.44l.94 2.06.94-2.06 2.06-.94-2.06-.94-.94-2.06-.94 2.06-2.06.94zm-11 1L8.5 8.5l.94-2.06 2.06-.94-2.06-.94L8.5 2.5l-.94 2.06-2.06.94zm10 10l.94 2.06.94-2.06 2.06-.94-2.06-.94-.94-2.06-.94 2.06-2.06.94z\"/><path d=\"M17.41 7.96l-1.37-1.37c-.4-.4-.92-.59-1.43-.59-.52 0-1.04.2-1.43.59L10.3 9.45l-7.72 7.72c-.78.78-.78 2.05 0 2.83L4 21.41c.39.39.9.59 1.41.59.51 0 1.02-.2 1.41-.59l7.78-7.78 2.81-2.81c.8-.78.8-2.07 0-2.86zM5.41 20L4 18.59l7.72-7.72 1.47 1.35L5.41 20z\"/>\n",
              "  </svg>\n",
              "      </button>\n",
              "      \n",
              "  <style>\n",
              "    .colab-df-container {\n",
              "      display:flex;\n",
              "      flex-wrap:wrap;\n",
              "      gap: 12px;\n",
              "    }\n",
              "\n",
              "    .colab-df-convert {\n",
              "      background-color: #E8F0FE;\n",
              "      border: none;\n",
              "      border-radius: 50%;\n",
              "      cursor: pointer;\n",
              "      display: none;\n",
              "      fill: #1967D2;\n",
              "      height: 32px;\n",
              "      padding: 0 0 0 0;\n",
              "      width: 32px;\n",
              "    }\n",
              "\n",
              "    .colab-df-convert:hover {\n",
              "      background-color: #E2EBFA;\n",
              "      box-shadow: 0px 1px 2px rgba(60, 64, 67, 0.3), 0px 1px 3px 1px rgba(60, 64, 67, 0.15);\n",
              "      fill: #174EA6;\n",
              "    }\n",
              "\n",
              "    [theme=dark] .colab-df-convert {\n",
              "      background-color: #3B4455;\n",
              "      fill: #D2E3FC;\n",
              "    }\n",
              "\n",
              "    [theme=dark] .colab-df-convert:hover {\n",
              "      background-color: #434B5C;\n",
              "      box-shadow: 0px 1px 3px 1px rgba(0, 0, 0, 0.15);\n",
              "      filter: drop-shadow(0px 1px 2px rgba(0, 0, 0, 0.3));\n",
              "      fill: #FFFFFF;\n",
              "    }\n",
              "  </style>\n",
              "\n",
              "      <script>\n",
              "        const buttonEl =\n",
              "          document.querySelector('#df-b33187be-15a9-470d-ad15-7f809e016d71 button.colab-df-convert');\n",
              "        buttonEl.style.display =\n",
              "          google.colab.kernel.accessAllowed ? 'block' : 'none';\n",
              "\n",
              "        async function convertToInteractive(key) {\n",
              "          const element = document.querySelector('#df-b33187be-15a9-470d-ad15-7f809e016d71');\n",
              "          const dataTable =\n",
              "            await google.colab.kernel.invokeFunction('convertToInteractive',\n",
              "                                                     [key], {});\n",
              "          if (!dataTable) return;\n",
              "\n",
              "          const docLinkHtml = 'Like what you see? Visit the ' +\n",
              "            '<a target=\"_blank\" href=https://colab.research.google.com/notebooks/data_table.ipynb>data table notebook</a>'\n",
              "            + ' to learn more about interactive tables.';\n",
              "          element.innerHTML = '';\n",
              "          dataTable['output_type'] = 'display_data';\n",
              "          await google.colab.output.renderOutput(dataTable, element);\n",
              "          const docLink = document.createElement('div');\n",
              "          docLink.innerHTML = docLinkHtml;\n",
              "          element.appendChild(docLink);\n",
              "        }\n",
              "      </script>\n",
              "    </div>\n",
              "  </div>\n",
              "  "
            ],
            "text/plain": [
              "                                                           place_6042\n",
              "placeName                Shangri La Botanical Gardens & Nature Center\n",
              "placeTags                                                         NaN\n",
              "numPeopleVisited                                                    0\n",
              "numPeopleWant                                                       2\n",
              "placeDesc           “…I determined to gather together all things o...\n",
              "placeShortDesc      Cradled in the midst of a southeast Texas town...\n",
              "placeNearby                                                       NaN\n",
              "placeAddress                    2111 W. Park Ave., Orange, TX 77630  \n",
              "placeAlt                                                          0.0\n",
              "placeLong                                                         0.0\n",
              "placeEditors                                              [erjeffery]\n",
              "placePubDate                                                      NaN\n",
              "placeRelatedLists                                                 NaN\n",
              "placeRelatedPlaces                                                NaN\n",
              "placeURL            https://www.atlasobscura.com/places/shangri-la..."
            ]
          },
          "execution_count": 13,
          "metadata": {},
          "output_type": "execute_result"
        }
      ],
      "source": [
        "pd.DataFrame(df.loc[df.numPeopleWant.idxmin()])"
      ]
    },
    {
      "cell_type": "markdown",
      "metadata": {
        "id": "F2WHva_Yz1i2"
      },
      "source": [
        "This is strage, but going on the website it is possible to see that this place indeed appears really hight in the list, so we think it is a problem of [Atlas Obscura](https://www.atlasobscura.com/) website.\n",
        "\n",
        "![](https://datasciencemep27.s3.amazonaws.com/atlas-obscura.png)"
      ]
    },
    {
      "cell_type": "markdown",
      "metadata": {
        "id": "AL2wY0LHwSm4"
      },
      "source": [
        "We can notice that we don't have NaN values for `placeDesc` and `placeShortDesc`, these two columns are really important for building our Search Engine, so it's essential that they are not NaN."
      ]
    },
    {
      "cell_type": "code",
      "execution_count": null,
      "metadata": {
        "colab": {
          "base_uri": "https://localhost:8080/",
          "height": 724
        },
        "id": "aXl_xQu7wSQS",
        "outputId": "62a0865e-e56a-4b1b-b127-589907377a3a"
      },
      "outputs": [
        {
          "data": {
            "text/plain": [
              "placeName                0\n",
              "placeTags                1\n",
              "numPeopleVisited         0\n",
              "numPeopleWant            0\n",
              "placeDesc                0\n",
              "placeShortDesc           0\n",
              "placeNearby              1\n",
              "placeAddress             0\n",
              "placeAlt                 0\n",
              "placeLong                0\n",
              "placeEditors             0\n",
              "placePubDate             1\n",
              "placeRelatedLists     4440\n",
              "placeRelatedPlaces      34\n",
              "placeURL                 0\n",
              "dtype: int64"
            ]
          },
          "metadata": {},
          "output_type": "display_data"
        },
        {
          "data": {
            "image/png": "[encoded data removed]",
            "text/plain": [
              "<Figure size 432x288 with 1 Axes>"
            ]
          },
          "metadata": {
            "needs_background": "light"
          },
          "output_type": "display_data"
        }
      ],
      "source": [
        "display(df.isnull().sum())\n",
        "df.isnull().sum().plot(kind=\"bar\", title=\"NaN values for each column\", ylabel=\"Number of NaN values\", xlabel=\"Column name\");"
      ]
    },
    {
      "cell_type": "markdown",
      "metadata": {
        "id": "b5pz3vqV2x4T"
      },
      "source": [
        "## Preprocessing the data"
      ]
    },
    {
      "cell_type": "markdown",
      "metadata": {
        "id": "GsPJG1zSmpR7"
      },
      "source": [
        "We set the strings in `placeName`, `placeDesc` and `placeShortDesc` to lower case."
      ]
    },
    {
      "cell_type": "code",
      "execution_count": null,
      "metadata": {
        "id": "8BqoJI6OlH_4"
      },
      "outputs": [],
      "source": [
        "reduced_df = df[[\"placeDesc\"]].copy()\n",
        "\n",
        "reduced_df[\"placeDesc\"] = reduced_df[\"placeDesc\"].astype(str).str.lower()"
      ]
    },
    {
      "cell_type": "code",
      "execution_count": null,
      "metadata": {
        "colab": {
          "base_uri": "https://localhost:8080/",
          "height": 238
        },
        "id": "h41e3S24fQMM",
        "outputId": "695ef405-fbba-4294-8d1b-a6600f4e1b6e"
      },
      "outputs": [
        {
          "data": {
            "text/html": [
              "\n",
              "  <div id=\"df-fec1b338-3904-4122-a006-4b0accb9f15a\">\n",
              "    <div class=\"colab-df-container\">\n",
              "      <div>\n",
              "<style scoped>\n",
              "    .dataframe tbody tr th:only-of-type {\n",
              "        vertical-align: middle;\n",
              "    }\n",
              "\n",
              "    .dataframe tbody tr th {\n",
              "        vertical-align: top;\n",
              "    }\n",
              "\n",
              "    .dataframe thead th {\n",
              "        text-align: right;\n",
              "    }\n",
              "</style>\n",
              "<table border=\"1\" class=\"dataframe\">\n",
              "  <thead>\n",
              "    <tr style=\"text-align: right;\">\n",
              "      <th></th>\n",
              "      <th>placeDesc</th>\n",
              "    </tr>\n",
              "    <tr>\n",
              "      <th>placeFile</th>\n",
              "      <th></th>\n",
              "    </tr>\n",
              "  </thead>\n",
              "  <tbody>\n",
              "    <tr>\n",
              "      <th>place_1</th>\n",
              "      <td>the first new york city subway was built and o...</td>\n",
              "    </tr>\n",
              "    <tr>\n",
              "      <th>place_2</th>\n",
              "      <td>opened in 1839, highgate is one of london’s mo...</td>\n",
              "    </tr>\n",
              "    <tr>\n",
              "      <th>place_3</th>\n",
              "      <td>the ornate 19th-century painted roof and cobbl...</td>\n",
              "    </tr>\n",
              "    <tr>\n",
              "      <th>place_4</th>\n",
              "      <td>located on a jetty in the san francisco bay, t...</td>\n",
              "    </tr>\n",
              "    <tr>\n",
              "      <th>place_5</th>\n",
              "      <td>in 2004, parisian police were assigned to do a...</td>\n",
              "    </tr>\n",
              "  </tbody>\n",
              "</table>\n",
              "</div>\n",
              "      <button class=\"colab-df-convert\" onclick=\"convertToInteractive('df-fec1b338-3904-4122-a006-4b0accb9f15a')\"\n",
              "              title=\"Convert this dataframe to an interactive table.\"\n",
              "              style=\"display:none;\">\n",
              "        \n",
              "  <svg xmlns=\"http://www.w3.org/2000/svg\" height=\"24px\"viewBox=\"0 0 24 24\"\n",
              "       width=\"24px\">\n",
              "    <path d=\"M0 0h24v24H0V0z\" fill=\"none\"/>\n",
              "    <path d=\"M18.56 5.44l.94 2.06.94-2.06 2.06-.94-2.06-.94-.94-2.06-.94 2.06-2.06.94zm-11 1L8.5 8.5l.94-2.06 2.06-.94-2.06-.94L8.5 2.5l-.94 2.06-2.06.94zm10 10l.94 2.06.94-2.06 2.06-.94-2.06-.94-.94-2.06-.94 2.06-2.06.94z\"/><path d=\"M17.41 7.96l-1.37-1.37c-.4-.4-.92-.59-1.43-.59-.52 0-1.04.2-1.43.59L10.3 9.45l-7.72 7.72c-.78.78-.78 2.05 0 2.83L4 21.41c.39.39.9.59 1.41.59.51 0 1.02-.2 1.41-.59l7.78-7.78 2.81-2.81c.8-.78.8-2.07 0-2.86zM5.41 20L4 18.59l7.72-7.72 1.47 1.35L5.41 20z\"/>\n",
              "  </svg>\n",
              "      </button>\n",
              "      \n",
              "  <style>\n",
              "    .colab-df-container {\n",
              "      display:flex;\n",
              "      flex-wrap:wrap;\n",
              "      gap: 12px;\n",
              "    }\n",
              "\n",
              "    .colab-df-convert {\n",
              "      background-color: #E8F0FE;\n",
              "      border: none;\n",
              "      border-radius: 50%;\n",
              "      cursor: pointer;\n",
              "      display: none;\n",
              "      fill: #1967D2;\n",
              "      height: 32px;\n",
              "      padding: 0 0 0 0;\n",
              "      width: 32px;\n",
              "    }\n",
              "\n",
              "    .colab-df-convert:hover {\n",
              "      background-color: #E2EBFA;\n",
              "      box-shadow: 0px 1px 2px rgba(60, 64, 67, 0.3), 0px 1px 3px 1px rgba(60, 64, 67, 0.15);\n",
              "      fill: #174EA6;\n",
              "    }\n",
              "\n",
              "    [theme=dark] .colab-df-convert {\n",
              "      background-color: #3B4455;\n",
              "      fill: #D2E3FC;\n",
              "    }\n",
              "\n",
              "    [theme=dark] .colab-df-convert:hover {\n",
              "      background-color: #434B5C;\n",
              "      box-shadow: 0px 1px 3px 1px rgba(0, 0, 0, 0.15);\n",
              "      filter: drop-shadow(0px 1px 2px rgba(0, 0, 0, 0.3));\n",
              "      fill: #FFFFFF;\n",
              "    }\n",
              "  </style>\n",
              "\n",
              "      <script>\n",
              "        const buttonEl =\n",
              "          document.querySelector('#df-fec1b338-3904-4122-a006-4b0accb9f15a button.colab-df-convert');\n",
              "        buttonEl.style.display =\n",
              "          google.colab.kernel.accessAllowed ? 'block' : 'none';\n",
              "\n",
              "        async function convertToInteractive(key) {\n",
              "          const element = document.querySelector('#df-fec1b338-3904-4122-a006-4b0accb9f15a');\n",
              "          const dataTable =\n",
              "            await google.colab.kernel.invokeFunction('convertToInteractive',\n",
              "                                                     [key], {});\n",
              "          if (!dataTable) return;\n",
              "\n",
              "          const docLinkHtml = 'Like what you see? Visit the ' +\n",
              "            '<a target=\"_blank\" href=https://colab.research.google.com/notebooks/data_table.ipynb>data table notebook</a>'\n",
              "            + ' to learn more about interactive tables.';\n",
              "          element.innerHTML = '';\n",
              "          dataTable['output_type'] = 'display_data';\n",
              "          await google.colab.output.renderOutput(dataTable, element);\n",
              "          const docLink = document.createElement('div');\n",
              "          docLink.innerHTML = docLinkHtml;\n",
              "          element.appendChild(docLink);\n",
              "        }\n",
              "      </script>\n",
              "    </div>\n",
              "  </div>\n",
              "  "
            ],
            "text/plain": [
              "                                                   placeDesc\n",
              "placeFile                                                   \n",
              "place_1    the first new york city subway was built and o...\n",
              "place_2    opened in 1839, highgate is one of london’s mo...\n",
              "place_3    the ornate 19th-century painted roof and cobbl...\n",
              "place_4    located on a jetty in the san francisco bay, t...\n",
              "place_5    in 2004, parisian police were assigned to do a..."
            ]
          },
          "metadata": {},
          "output_type": "display_data"
        }
      ],
      "source": [
        "display(reduced_df.head())"
      ]
    },
    {
      "cell_type": "markdown",
      "metadata": {
        "id": "d4SZC8Gde18y"
      },
      "source": [
        "We tokenize each field, in this way we remove punctuation."
      ]
    },
    {
      "cell_type": "code",
      "execution_count": null,
      "metadata": {
        "id": "MZwtaR0AbdWs"
      },
      "outputs": [],
      "source": [
        "regexp = RegexpTokenizer('\\w+')\n",
        "\n",
        "reduced_df['placeDesc'] = reduced_df['placeDesc'].apply(regexp.tokenize)"
      ]
    },
    {
      "cell_type": "code",
      "execution_count": null,
      "metadata": {
        "colab": {
          "base_uri": "https://localhost:8080/",
          "height": 238
        },
        "id": "YodRLyM4fPku",
        "outputId": "e024635f-1970-4b3c-abb0-a08654d582ee"
      },
      "outputs": [
        {
          "data": {
            "text/html": [
              "\n",
              "  <div id=\"df-fecbff21-68b5-469b-bc7e-2a2ad44747ee\">\n",
              "    <div class=\"colab-df-container\">\n",
              "      <div>\n",
              "<style scoped>\n",
              "    .dataframe tbody tr th:only-of-type {\n",
              "        vertical-align: middle;\n",
              "    }\n",
              "\n",
              "    .dataframe tbody tr th {\n",
              "        vertical-align: top;\n",
              "    }\n",
              "\n",
              "    .dataframe thead th {\n",
              "        text-align: right;\n",
              "    }\n",
              "</style>\n",
              "<table border=\"1\" class=\"dataframe\">\n",
              "  <thead>\n",
              "    <tr style=\"text-align: right;\">\n",
              "      <th></th>\n",
              "      <th>placeDesc</th>\n",
              "    </tr>\n",
              "    <tr>\n",
              "      <th>placeFile</th>\n",
              "      <th></th>\n",
              "    </tr>\n",
              "  </thead>\n",
              "  <tbody>\n",
              "    <tr>\n",
              "      <th>place_1</th>\n",
              "      <td>[the, first, new, york, city, subway, was, bui...</td>\n",
              "    </tr>\n",
              "    <tr>\n",
              "      <th>place_2</th>\n",
              "      <td>[opened, in, 1839, highgate, is, one, of, lond...</td>\n",
              "    </tr>\n",
              "    <tr>\n",
              "      <th>place_3</th>\n",
              "      <td>[the, ornate, 19th, century, painted, roof, an...</td>\n",
              "    </tr>\n",
              "    <tr>\n",
              "      <th>place_4</th>\n",
              "      <td>[located, on, a, jetty, in, the, san, francisc...</td>\n",
              "    </tr>\n",
              "    <tr>\n",
              "      <th>place_5</th>\n",
              "      <td>[in, 2004, parisian, police, were, assigned, t...</td>\n",
              "    </tr>\n",
              "  </tbody>\n",
              "</table>\n",
              "</div>\n",
              "      <button class=\"colab-df-convert\" onclick=\"convertToInteractive('df-fecbff21-68b5-469b-bc7e-2a2ad44747ee')\"\n",
              "              title=\"Convert this dataframe to an interactive table.\"\n",
              "              style=\"display:none;\">\n",
              "        \n",
              "  <svg xmlns=\"http://www.w3.org/2000/svg\" height=\"24px\"viewBox=\"0 0 24 24\"\n",
              "       width=\"24px\">\n",
              "    <path d=\"M0 0h24v24H0V0z\" fill=\"none\"/>\n",
              "    <path d=\"M18.56 5.44l.94 2.06.94-2.06 2.06-.94-2.06-.94-.94-2.06-.94 2.06-2.06.94zm-11 1L8.5 8.5l.94-2.06 2.06-.94-2.06-.94L8.5 2.5l-.94 2.06-2.06.94zm10 10l.94 2.06.94-2.06 2.06-.94-2.06-.94-.94-2.06-.94 2.06-2.06.94z\"/><path d=\"M17.41 7.96l-1.37-1.37c-.4-.4-.92-.59-1.43-.59-.52 0-1.04.2-1.43.59L10.3 9.45l-7.72 7.72c-.78.78-.78 2.05 0 2.83L4 21.41c.39.39.9.59 1.41.59.51 0 1.02-.2 1.41-.59l7.78-7.78 2.81-2.81c.8-.78.8-2.07 0-2.86zM5.41 20L4 18.59l7.72-7.72 1.47 1.35L5.41 20z\"/>\n",
              "  </svg>\n",
              "      </button>\n",
              "      \n",
              "  <style>\n",
              "    .colab-df-container {\n",
              "      display:flex;\n",
              "      flex-wrap:wrap;\n",
              "      gap: 12px;\n",
              "    }\n",
              "\n",
              "    .colab-df-convert {\n",
              "      background-color: #E8F0FE;\n",
              "      border: none;\n",
              "      border-radius: 50%;\n",
              "      cursor: pointer;\n",
              "      display: none;\n",
              "      fill: #1967D2;\n",
              "      height: 32px;\n",
              "      padding: 0 0 0 0;\n",
              "      width: 32px;\n",
              "    }\n",
              "\n",
              "    .colab-df-convert:hover {\n",
              "      background-color: #E2EBFA;\n",
              "      box-shadow: 0px 1px 2px rgba(60, 64, 67, 0.3), 0px 1px 3px 1px rgba(60, 64, 67, 0.15);\n",
              "      fill: #174EA6;\n",
              "    }\n",
              "\n",
              "    [theme=dark] .colab-df-convert {\n",
              "      background-color: #3B4455;\n",
              "      fill: #D2E3FC;\n",
              "    }\n",
              "\n",
              "    [theme=dark] .colab-df-convert:hover {\n",
              "      background-color: #434B5C;\n",
              "      box-shadow: 0px 1px 3px 1px rgba(0, 0, 0, 0.15);\n",
              "      filter: drop-shadow(0px 1px 2px rgba(0, 0, 0, 0.3));\n",
              "      fill: #FFFFFF;\n",
              "    }\n",
              "  </style>\n",
              "\n",
              "      <script>\n",
              "        const buttonEl =\n",
              "          document.querySelector('#df-fecbff21-68b5-469b-bc7e-2a2ad44747ee button.colab-df-convert');\n",
              "        buttonEl.style.display =\n",
              "          google.colab.kernel.accessAllowed ? 'block' : 'none';\n",
              "\n",
              "        async function convertToInteractive(key) {\n",
              "          const element = document.querySelector('#df-fecbff21-68b5-469b-bc7e-2a2ad44747ee');\n",
              "          const dataTable =\n",
              "            await google.colab.kernel.invokeFunction('convertToInteractive',\n",
              "                                                     [key], {});\n",
              "          if (!dataTable) return;\n",
              "\n",
              "          const docLinkHtml = 'Like what you see? Visit the ' +\n",
              "            '<a target=\"_blank\" href=https://colab.research.google.com/notebooks/data_table.ipynb>data table notebook</a>'\n",
              "            + ' to learn more about interactive tables.';\n",
              "          element.innerHTML = '';\n",
              "          dataTable['output_type'] = 'display_data';\n",
              "          await google.colab.output.renderOutput(dataTable, element);\n",
              "          const docLink = document.createElement('div');\n",
              "          docLink.innerHTML = docLinkHtml;\n",
              "          element.appendChild(docLink);\n",
              "        }\n",
              "      </script>\n",
              "    </div>\n",
              "  </div>\n",
              "  "
            ],
            "text/plain": [
              "                                                   placeDesc\n",
              "placeFile                                                   \n",
              "place_1    [the, first, new, york, city, subway, was, bui...\n",
              "place_2    [opened, in, 1839, highgate, is, one, of, lond...\n",
              "place_3    [the, ornate, 19th, century, painted, roof, an...\n",
              "place_4    [located, on, a, jetty, in, the, san, francisc...\n",
              "place_5    [in, 2004, parisian, police, were, assigned, t..."
            ]
          },
          "metadata": {},
          "output_type": "display_data"
        }
      ],
      "source": [
        "display(reduced_df.head())"
      ]
    },
    {
      "cell_type": "markdown",
      "metadata": {
        "id": "OUjf7SKHep0J"
      },
      "source": [
        "We remove the stopwords:"
      ]
    },
    {
      "cell_type": "code",
      "execution_count": null,
      "metadata": {
        "id": "O8xR7Hdxd2Wm"
      },
      "outputs": [],
      "source": [
        "stopwords = nltk.corpus.stopwords.words(\"english\")\n",
        "\n",
        "reduced_df['placeDesc'] = reduced_df['placeDesc'].apply(lambda x: [item for item in x if item not in stopwords])"
      ]
    },
    {
      "cell_type": "code",
      "execution_count": null,
      "metadata": {
        "colab": {
          "base_uri": "https://localhost:8080/",
          "height": 238
        },
        "id": "vvQ_IKjMlVXq",
        "outputId": "a4cd4cfb-4c3f-4169-dced-49b866994188"
      },
      "outputs": [
        {
          "data": {
            "text/html": [
              "\n",
              "  <div id=\"df-b4258d72-3129-41cd-871f-77f3b82ea79a\">\n",
              "    <div class=\"colab-df-container\">\n",
              "      <div>\n",
              "<style scoped>\n",
              "    .dataframe tbody tr th:only-of-type {\n",
              "        vertical-align: middle;\n",
              "    }\n",
              "\n",
              "    .dataframe tbody tr th {\n",
              "        vertical-align: top;\n",
              "    }\n",
              "\n",
              "    .dataframe thead th {\n",
              "        text-align: right;\n",
              "    }\n",
              "</style>\n",
              "<table border=\"1\" class=\"dataframe\">\n",
              "  <thead>\n",
              "    <tr style=\"text-align: right;\">\n",
              "      <th></th>\n",
              "      <th>placeDesc</th>\n",
              "    </tr>\n",
              "    <tr>\n",
              "      <th>placeFile</th>\n",
              "      <th></th>\n",
              "    </tr>\n",
              "  </thead>\n",
              "  <tbody>\n",
              "    <tr>\n",
              "      <th>place_1</th>\n",
              "      <td>[first, new, york, city, subway, built, operat...</td>\n",
              "    </tr>\n",
              "    <tr>\n",
              "      <th>place_2</th>\n",
              "      <td>[opened, 1839, highgate, one, london, infamous...</td>\n",
              "    </tr>\n",
              "    <tr>\n",
              "      <th>place_3</th>\n",
              "      <td>[ornate, 19th, century, painted, roof, cobbled...</td>\n",
              "    </tr>\n",
              "    <tr>\n",
              "      <th>place_4</th>\n",
              "      <td>[located, jetty, san, francisco, bay, wave, or...</td>\n",
              "    </tr>\n",
              "    <tr>\n",
              "      <th>place_5</th>\n",
              "      <td>[2004, parisian, police, assigned, training, e...</td>\n",
              "    </tr>\n",
              "  </tbody>\n",
              "</table>\n",
              "</div>\n",
              "      <button class=\"colab-df-convert\" onclick=\"convertToInteractive('df-b4258d72-3129-41cd-871f-77f3b82ea79a')\"\n",
              "              title=\"Convert this dataframe to an interactive table.\"\n",
              "              style=\"display:none;\">\n",
              "        \n",
              "  <svg xmlns=\"http://www.w3.org/2000/svg\" height=\"24px\"viewBox=\"0 0 24 24\"\n",
              "       width=\"24px\">\n",
              "    <path d=\"M0 0h24v24H0V0z\" fill=\"none\"/>\n",
              "    <path d=\"M18.56 5.44l.94 2.06.94-2.06 2.06-.94-2.06-.94-.94-2.06-.94 2.06-2.06.94zm-11 1L8.5 8.5l.94-2.06 2.06-.94-2.06-.94L8.5 2.5l-.94 2.06-2.06.94zm10 10l.94 2.06.94-2.06 2.06-.94-2.06-.94-.94-2.06-.94 2.06-2.06.94z\"/><path d=\"M17.41 7.96l-1.37-1.37c-.4-.4-.92-.59-1.43-.59-.52 0-1.04.2-1.43.59L10.3 9.45l-7.72 7.72c-.78.78-.78 2.05 0 2.83L4 21.41c.39.39.9.59 1.41.59.51 0 1.02-.2 1.41-.59l7.78-7.78 2.81-2.81c.8-.78.8-2.07 0-2.86zM5.41 20L4 18.59l7.72-7.72 1.47 1.35L5.41 20z\"/>\n",
              "  </svg>\n",
              "      </button>\n",
              "      \n",
              "  <style>\n",
              "    .colab-df-container {\n",
              "      display:flex;\n",
              "      flex-wrap:wrap;\n",
              "      gap: 12px;\n",
              "    }\n",
              "\n",
              "    .colab-df-convert {\n",
              "      background-color: #E8F0FE;\n",
              "      border: none;\n",
              "      border-radius: 50%;\n",
              "      cursor: pointer;\n",
              "      display: none;\n",
              "      fill: #1967D2;\n",
              "      height: 32px;\n",
              "      padding: 0 0 0 0;\n",
              "      width: 32px;\n",
              "    }\n",
              "\n",
              "    .colab-df-convert:hover {\n",
              "      background-color: #E2EBFA;\n",
              "      box-shadow: 0px 1px 2px rgba(60, 64, 67, 0.3), 0px 1px 3px 1px rgba(60, 64, 67, 0.15);\n",
              "      fill: #174EA6;\n",
              "    }\n",
              "\n",
              "    [theme=dark] .colab-df-convert {\n",
              "      background-color: #3B4455;\n",
              "      fill: #D2E3FC;\n",
              "    }\n",
              "\n",
              "    [theme=dark] .colab-df-convert:hover {\n",
              "      background-color: #434B5C;\n",
              "      box-shadow: 0px 1px 3px 1px rgba(0, 0, 0, 0.15);\n",
              "      filter: drop-shadow(0px 1px 2px rgba(0, 0, 0, 0.3));\n",
              "      fill: #FFFFFF;\n",
              "    }\n",
              "  </style>\n",
              "\n",
              "      <script>\n",
              "        const buttonEl =\n",
              "          document.querySelector('#df-b4258d72-3129-41cd-871f-77f3b82ea79a button.colab-df-convert');\n",
              "        buttonEl.style.display =\n",
              "          google.colab.kernel.accessAllowed ? 'block' : 'none';\n",
              "\n",
              "        async function convertToInteractive(key) {\n",
              "          const element = document.querySelector('#df-b4258d72-3129-41cd-871f-77f3b82ea79a');\n",
              "          const dataTable =\n",
              "            await google.colab.kernel.invokeFunction('convertToInteractive',\n",
              "                                                     [key], {});\n",
              "          if (!dataTable) return;\n",
              "\n",
              "          const docLinkHtml = 'Like what you see? Visit the ' +\n",
              "            '<a target=\"_blank\" href=https://colab.research.google.com/notebooks/data_table.ipynb>data table notebook</a>'\n",
              "            + ' to learn more about interactive tables.';\n",
              "          element.innerHTML = '';\n",
              "          dataTable['output_type'] = 'display_data';\n",
              "          await google.colab.output.renderOutput(dataTable, element);\n",
              "          const docLink = document.createElement('div');\n",
              "          docLink.innerHTML = docLinkHtml;\n",
              "          element.appendChild(docLink);\n",
              "        }\n",
              "      </script>\n",
              "    </div>\n",
              "  </div>\n",
              "  "
            ],
            "text/plain": [
              "                                                   placeDesc\n",
              "placeFile                                                   \n",
              "place_1    [first, new, york, city, subway, built, operat...\n",
              "place_2    [opened, 1839, highgate, one, london, infamous...\n",
              "place_3    [ornate, 19th, century, painted, roof, cobbled...\n",
              "place_4    [located, jetty, san, francisco, bay, wave, or...\n",
              "place_5    [2004, parisian, police, assigned, training, e..."
            ]
          },
          "metadata": {},
          "output_type": "display_data"
        }
      ],
      "source": [
        "display(reduced_df.head())"
      ]
    },
    {
      "cell_type": "markdown",
      "metadata": {
        "id": "g5gM-xko69dx"
      },
      "source": [
        "We perform the stemming step using `PorterStemmer`:"
      ]
    },
    {
      "cell_type": "code",
      "execution_count": null,
      "metadata": {
        "id": "ChuOUznI41z7"
      },
      "outputs": [],
      "source": [
        "porter_stemmer = PorterStemmer()\n",
        "\n",
        "reduced_df['placeDesc'] = reduced_df['placeDesc'].apply(lambda x: [porter_stemmer.stem(item) for item in x])"
      ]
    },
    {
      "cell_type": "code",
      "execution_count": null,
      "metadata": {
        "colab": {
          "base_uri": "https://localhost:8080/",
          "height": 238
        },
        "id": "seyvH7f75CIS",
        "outputId": "c37ea5da-b37d-4bd1-ad4f-96a88b51cafb"
      },
      "outputs": [
        {
          "data": {
            "text/html": [
              "\n",
              "  <div id=\"df-d0f10c6b-5540-4302-91ac-5ce88d4c86cf\">\n",
              "    <div class=\"colab-df-container\">\n",
              "      <div>\n",
              "<style scoped>\n",
              "    .dataframe tbody tr th:only-of-type {\n",
              "        vertical-align: middle;\n",
              "    }\n",
              "\n",
              "    .dataframe tbody tr th {\n",
              "        vertical-align: top;\n",
              "    }\n",
              "\n",
              "    .dataframe thead th {\n",
              "        text-align: right;\n",
              "    }\n",
              "</style>\n",
              "<table border=\"1\" class=\"dataframe\">\n",
              "  <thead>\n",
              "    <tr style=\"text-align: right;\">\n",
              "      <th></th>\n",
              "      <th>placeDesc</th>\n",
              "    </tr>\n",
              "    <tr>\n",
              "      <th>placeFile</th>\n",
              "      <th></th>\n",
              "    </tr>\n",
              "  </thead>\n",
              "  <tbody>\n",
              "    <tr>\n",
              "      <th>place_1</th>\n",
              "      <td>[first, new, york, citi, subway, built, oper, ...</td>\n",
              "    </tr>\n",
              "    <tr>\n",
              "      <th>place_2</th>\n",
              "      <td>[open, 1839, highgat, one, london, infam, ceme...</td>\n",
              "    </tr>\n",
              "    <tr>\n",
              "      <th>place_3</th>\n",
              "      <td>[ornat, 19th, centuri, paint, roof, cobbl, flo...</td>\n",
              "    </tr>\n",
              "    <tr>\n",
              "      <th>place_4</th>\n",
              "      <td>[locat, jetti, san, francisco, bay, wave, orga...</td>\n",
              "    </tr>\n",
              "    <tr>\n",
              "      <th>place_5</th>\n",
              "      <td>[2004, parisian, polic, assign, train, exercis...</td>\n",
              "    </tr>\n",
              "  </tbody>\n",
              "</table>\n",
              "</div>\n",
              "      <button class=\"colab-df-convert\" onclick=\"convertToInteractive('df-d0f10c6b-5540-4302-91ac-5ce88d4c86cf')\"\n",
              "              title=\"Convert this dataframe to an interactive table.\"\n",
              "              style=\"display:none;\">\n",
              "        \n",
              "  <svg xmlns=\"http://www.w3.org/2000/svg\" height=\"24px\"viewBox=\"0 0 24 24\"\n",
              "       width=\"24px\">\n",
              "    <path d=\"M0 0h24v24H0V0z\" fill=\"none\"/>\n",
              "    <path d=\"M18.56 5.44l.94 2.06.94-2.06 2.06-.94-2.06-.94-.94-2.06-.94 2.06-2.06.94zm-11 1L8.5 8.5l.94-2.06 2.06-.94-2.06-.94L8.5 2.5l-.94 2.06-2.06.94zm10 10l.94 2.06.94-2.06 2.06-.94-2.06-.94-.94-2.06-.94 2.06-2.06.94z\"/><path d=\"M17.41 7.96l-1.37-1.37c-.4-.4-.92-.59-1.43-.59-.52 0-1.04.2-1.43.59L10.3 9.45l-7.72 7.72c-.78.78-.78 2.05 0 2.83L4 21.41c.39.39.9.59 1.41.59.51 0 1.02-.2 1.41-.59l7.78-7.78 2.81-2.81c.8-.78.8-2.07 0-2.86zM5.41 20L4 18.59l7.72-7.72 1.47 1.35L5.41 20z\"/>\n",
              "  </svg>\n",
              "      </button>\n",
              "      \n",
              "  <style>\n",
              "    .colab-df-container {\n",
              "      display:flex;\n",
              "      flex-wrap:wrap;\n",
              "      gap: 12px;\n",
              "    }\n",
              "\n",
              "    .colab-df-convert {\n",
              "      background-color: #E8F0FE;\n",
              "      border: none;\n",
              "      border-radius: 50%;\n",
              "      cursor: pointer;\n",
              "      display: none;\n",
              "      fill: #1967D2;\n",
              "      height: 32px;\n",
              "      padding: 0 0 0 0;\n",
              "      width: 32px;\n",
              "    }\n",
              "\n",
              "    .colab-df-convert:hover {\n",
              "      background-color: #E2EBFA;\n",
              "      box-shadow: 0px 1px 2px rgba(60, 64, 67, 0.3), 0px 1px 3px 1px rgba(60, 64, 67, 0.15);\n",
              "      fill: #174EA6;\n",
              "    }\n",
              "\n",
              "    [theme=dark] .colab-df-convert {\n",
              "      background-color: #3B4455;\n",
              "      fill: #D2E3FC;\n",
              "    }\n",
              "\n",
              "    [theme=dark] .colab-df-convert:hover {\n",
              "      background-color: #434B5C;\n",
              "      box-shadow: 0px 1px 3px 1px rgba(0, 0, 0, 0.15);\n",
              "      filter: drop-shadow(0px 1px 2px rgba(0, 0, 0, 0.3));\n",
              "      fill: #FFFFFF;\n",
              "    }\n",
              "  </style>\n",
              "\n",
              "      <script>\n",
              "        const buttonEl =\n",
              "          document.querySelector('#df-d0f10c6b-5540-4302-91ac-5ce88d4c86cf button.colab-df-convert');\n",
              "        buttonEl.style.display =\n",
              "          google.colab.kernel.accessAllowed ? 'block' : 'none';\n",
              "\n",
              "        async function convertToInteractive(key) {\n",
              "          const element = document.querySelector('#df-d0f10c6b-5540-4302-91ac-5ce88d4c86cf');\n",
              "          const dataTable =\n",
              "            await google.colab.kernel.invokeFunction('convertToInteractive',\n",
              "                                                     [key], {});\n",
              "          if (!dataTable) return;\n",
              "\n",
              "          const docLinkHtml = 'Like what you see? Visit the ' +\n",
              "            '<a target=\"_blank\" href=https://colab.research.google.com/notebooks/data_table.ipynb>data table notebook</a>'\n",
              "            + ' to learn more about interactive tables.';\n",
              "          element.innerHTML = '';\n",
              "          dataTable['output_type'] = 'display_data';\n",
              "          await google.colab.output.renderOutput(dataTable, element);\n",
              "          const docLink = document.createElement('div');\n",
              "          docLink.innerHTML = docLinkHtml;\n",
              "          element.appendChild(docLink);\n",
              "        }\n",
              "      </script>\n",
              "    </div>\n",
              "  </div>\n",
              "  "
            ],
            "text/plain": [
              "                                                   placeDesc\n",
              "placeFile                                                   \n",
              "place_1    [first, new, york, citi, subway, built, oper, ...\n",
              "place_2    [open, 1839, highgat, one, london, infam, ceme...\n",
              "place_3    [ornat, 19th, centuri, paint, roof, cobbl, flo...\n",
              "place_4    [locat, jetti, san, francisco, bay, wave, orga...\n",
              "place_5    [2004, parisian, polic, assign, train, exercis..."
            ]
          },
          "metadata": {},
          "output_type": "display_data"
        }
      ],
      "source": [
        "display(reduced_df.head())"
      ]
    },
    {
      "cell_type": "markdown",
      "metadata": {
        "id": "tC7qVU7po9aK"
      },
      "source": [
        "We keep only words which are longer than 2 letters:"
      ]
    },
    {
      "cell_type": "code",
      "execution_count": null,
      "metadata": {
        "id": "Si-BEv7xo91E"
      },
      "outputs": [],
      "source": [
        "reduced_df['placeDesc'] = reduced_df['placeDesc'].apply(lambda x: [item for item in x if len(item)>2])"
      ]
    },
    {
      "cell_type": "code",
      "execution_count": null,
      "metadata": {
        "colab": {
          "base_uri": "https://localhost:8080/",
          "height": 238
        },
        "id": "VzXL5Ob4pelJ",
        "outputId": "40b21370-5841-473b-a402-5ff58a3c7224"
      },
      "outputs": [
        {
          "data": {
            "text/html": [
              "\n",
              "  <div id=\"df-3fd3f3ea-15a0-4791-95ab-780314ce37e6\">\n",
              "    <div class=\"colab-df-container\">\n",
              "      <div>\n",
              "<style scoped>\n",
              "    .dataframe tbody tr th:only-of-type {\n",
              "        vertical-align: middle;\n",
              "    }\n",
              "\n",
              "    .dataframe tbody tr th {\n",
              "        vertical-align: top;\n",
              "    }\n",
              "\n",
              "    .dataframe thead th {\n",
              "        text-align: right;\n",
              "    }\n",
              "</style>\n",
              "<table border=\"1\" class=\"dataframe\">\n",
              "  <thead>\n",
              "    <tr style=\"text-align: right;\">\n",
              "      <th></th>\n",
              "      <th>placeDesc</th>\n",
              "    </tr>\n",
              "    <tr>\n",
              "      <th>placeFile</th>\n",
              "      <th></th>\n",
              "    </tr>\n",
              "  </thead>\n",
              "  <tbody>\n",
              "    <tr>\n",
              "      <th>place_1</th>\n",
              "      <td>[first, new, york, citi, subway, built, oper, ...</td>\n",
              "    </tr>\n",
              "    <tr>\n",
              "      <th>place_2</th>\n",
              "      <td>[open, 1839, highgat, one, london, infam, ceme...</td>\n",
              "    </tr>\n",
              "    <tr>\n",
              "      <th>place_3</th>\n",
              "      <td>[ornat, 19th, centuri, paint, roof, cobbl, flo...</td>\n",
              "    </tr>\n",
              "    <tr>\n",
              "      <th>place_4</th>\n",
              "      <td>[locat, jetti, san, francisco, bay, wave, orga...</td>\n",
              "    </tr>\n",
              "    <tr>\n",
              "      <th>place_5</th>\n",
              "      <td>[2004, parisian, polic, assign, train, exercis...</td>\n",
              "    </tr>\n",
              "  </tbody>\n",
              "</table>\n",
              "</div>\n",
              "      <button class=\"colab-df-convert\" onclick=\"convertToInteractive('df-3fd3f3ea-15a0-4791-95ab-780314ce37e6')\"\n",
              "              title=\"Convert this dataframe to an interactive table.\"\n",
              "              style=\"display:none;\">\n",
              "        \n",
              "  <svg xmlns=\"http://www.w3.org/2000/svg\" height=\"24px\"viewBox=\"0 0 24 24\"\n",
              "       width=\"24px\">\n",
              "    <path d=\"M0 0h24v24H0V0z\" fill=\"none\"/>\n",
              "    <path d=\"M18.56 5.44l.94 2.06.94-2.06 2.06-.94-2.06-.94-.94-2.06-.94 2.06-2.06.94zm-11 1L8.5 8.5l.94-2.06 2.06-.94-2.06-.94L8.5 2.5l-.94 2.06-2.06.94zm10 10l.94 2.06.94-2.06 2.06-.94-2.06-.94-.94-2.06-.94 2.06-2.06.94z\"/><path d=\"M17.41 7.96l-1.37-1.37c-.4-.4-.92-.59-1.43-.59-.52 0-1.04.2-1.43.59L10.3 9.45l-7.72 7.72c-.78.78-.78 2.05 0 2.83L4 21.41c.39.39.9.59 1.41.59.51 0 1.02-.2 1.41-.59l7.78-7.78 2.81-2.81c.8-.78.8-2.07 0-2.86zM5.41 20L4 18.59l7.72-7.72 1.47 1.35L5.41 20z\"/>\n",
              "  </svg>\n",
              "      </button>\n",
              "      \n",
              "  <style>\n",
              "    .colab-df-container {\n",
              "      display:flex;\n",
              "      flex-wrap:wrap;\n",
              "      gap: 12px;\n",
              "    }\n",
              "\n",
              "    .colab-df-convert {\n",
              "      background-color: #E8F0FE;\n",
              "      border: none;\n",
              "      border-radius: 50%;\n",
              "      cursor: pointer;\n",
              "      display: none;\n",
              "      fill: #1967D2;\n",
              "      height: 32px;\n",
              "      padding: 0 0 0 0;\n",
              "      width: 32px;\n",
              "    }\n",
              "\n",
              "    .colab-df-convert:hover {\n",
              "      background-color: #E2EBFA;\n",
              "      box-shadow: 0px 1px 2px rgba(60, 64, 67, 0.3), 0px 1px 3px 1px rgba(60, 64, 67, 0.15);\n",
              "      fill: #174EA6;\n",
              "    }\n",
              "\n",
              "    [theme=dark] .colab-df-convert {\n",
              "      background-color: #3B4455;\n",
              "      fill: #D2E3FC;\n",
              "    }\n",
              "\n",
              "    [theme=dark] .colab-df-convert:hover {\n",
              "      background-color: #434B5C;\n",
              "      box-shadow: 0px 1px 3px 1px rgba(0, 0, 0, 0.15);\n",
              "      filter: drop-shadow(0px 1px 2px rgba(0, 0, 0, 0.3));\n",
              "      fill: #FFFFFF;\n",
              "    }\n",
              "  </style>\n",
              "\n",
              "      <script>\n",
              "        const buttonEl =\n",
              "          document.querySelector('#df-3fd3f3ea-15a0-4791-95ab-780314ce37e6 button.colab-df-convert');\n",
              "        buttonEl.style.display =\n",
              "          google.colab.kernel.accessAllowed ? 'block' : 'none';\n",
              "\n",
              "        async function convertToInteractive(key) {\n",
              "          const element = document.querySelector('#df-3fd3f3ea-15a0-4791-95ab-780314ce37e6');\n",
              "          const dataTable =\n",
              "            await google.colab.kernel.invokeFunction('convertToInteractive',\n",
              "                                                     [key], {});\n",
              "          if (!dataTable) return;\n",
              "\n",
              "          const docLinkHtml = 'Like what you see? Visit the ' +\n",
              "            '<a target=\"_blank\" href=https://colab.research.google.com/notebooks/data_table.ipynb>data table notebook</a>'\n",
              "            + ' to learn more about interactive tables.';\n",
              "          element.innerHTML = '';\n",
              "          dataTable['output_type'] = 'display_data';\n",
              "          await google.colab.output.renderOutput(dataTable, element);\n",
              "          const docLink = document.createElement('div');\n",
              "          docLink.innerHTML = docLinkHtml;\n",
              "          element.appendChild(docLink);\n",
              "        }\n",
              "      </script>\n",
              "    </div>\n",
              "  </div>\n",
              "  "
            ],
            "text/plain": [
              "                                                   placeDesc\n",
              "placeFile                                                   \n",
              "place_1    [first, new, york, citi, subway, built, oper, ...\n",
              "place_2    [open, 1839, highgat, one, london, infam, ceme...\n",
              "place_3    [ornat, 19th, centuri, paint, roof, cobbl, flo...\n",
              "place_4    [locat, jetti, san, francisco, bay, wave, orga...\n",
              "place_5    [2004, parisian, polic, assign, train, exercis..."
            ]
          },
          "metadata": {},
          "output_type": "display_data"
        }
      ],
      "source": [
        "display(reduced_df.head())"
      ]
    },
    {
      "cell_type": "markdown",
      "metadata": {
        "id": "q6s6AqhvMn3_"
      },
      "source": [
        "## 2.1 Create the Vocabulary"
      ]
    },
    {
      "cell_type": "code",
      "execution_count": null,
      "metadata": {
        "id": "69If-stfMqjD"
      },
      "outputs": [],
      "source": [
        "class Vocabulary():\n",
        "  \"\"\"A vocabulary of words present in pd.DataFrame columns.\n",
        "\n",
        "  Args:\n",
        "    - dataframe (pd.DataFrame): The pd.DataFrame from which to build the vocabulary.\n",
        "    - columns (List[str]): Which columns of the pd.DataFrame to use, if None all columns are used. Default None.\n",
        "\n",
        "  Attributes:\n",
        "    - dataframe (pd.Dataframe): Where it is stored the dataframe input.\n",
        "    - columns (List[str]): Where it is stored the columns input.\n",
        "    - index2word (Dict[str, str]): A dictionary in which we have as keys the index and as values the words.\n",
        "    - word2index (Dict[str, str]): A dictionary in which we have as keys the word and as values the corresponding numbers in the index2word index.\n",
        "    - word2frequency (Dict[str, int]): A dictionary in which we have as keys words and as values the numbers of occurences of that word in the entire corpus.\n",
        "    - num_words (int): Number of total words in the vocabulary.\n",
        "    - maximum_frequency (int): The maximum frequency.\n",
        "    - words_with_maxf (List[str]): The list of words with the maximum frequency.\n",
        "  \"\"\"\n",
        "  def __init__(self,\n",
        "               dataframe: pd.DataFrame,\n",
        "               columns: List[str] = None):\n",
        "\n",
        "    self.index2word = {}\n",
        "    self.word2index = {}\n",
        "    self.word2frequency = {}\n",
        "    self.num_words = 0\n",
        "    self.maximum_frequency = 0\n",
        "    self.words_with_maxf = []\n",
        "\n",
        "    self.columns = columns\n",
        "\n",
        "    if self.columns is None:\n",
        "      self.columns = list(dataframe.columns)\n",
        "    \n",
        "    self.dataframe = dataframe[self.columns]\n",
        "\n",
        "    for column in tqdm(self.columns):\n",
        "      for elem in self.dataframe[column]:\n",
        "        for word in elem:\n",
        "          self.add_word(word)\n",
        "\n",
        "  def __getitem__(self,\n",
        "                  item: Union[int, str]) -> Union[str, int]:\n",
        "      \"\"\"Override of the __getitem__ method:\n",
        "      Given an int as index, it returns the word corresponding to that index.\n",
        "      Given a str as word, it returns the index corresponding to that word.\n",
        "\n",
        "      You could also use 'get_word(index)' method if your searching for a word given an index.\n",
        "      You could also use 'get_index(word)' method if your searching for an index given a word.\n",
        "\n",
        "      Args:\n",
        "        - item (int / str): If int it is index of the word, if str it is the word.\n",
        "\n",
        "      Returns:\n",
        "        - str / int : if item is int, then it returns the corresponding word, while if item is str it returns the corresponding index for that word.\n",
        "      \"\"\"\n",
        "      if isinstance(item, int):\n",
        "        return self.index2word[item]\n",
        "      elif isinstance(item, str):\n",
        "        return self.word2index[item]\n",
        "      else:\n",
        "        raise Exception(\"Item is expected to be an integer if you're searching the corresponding word, or a str if you're searching the index\")\n",
        "\n",
        "  def __str__(self):\n",
        "    \"\"\"An override of the '__str__()' method, in this way we're able to print some informations about the vocabulary.\n",
        "\n",
        "    Returns:\n",
        "      - str : The str rappresentation of the vocabulary.\n",
        "    \"\"\"\n",
        "    return f\"Number of words in the vocabulary: {self.num_words}\\nMaximum frequency value: {self.maximum_frequency} -> List of words with the maximum frequency: {self.words_with_maxf}\"\n",
        "\n",
        "  def __len__(self) -> int:\n",
        "    \"\"\"An ovverride of the '__len__()' method:\n",
        "\n",
        "    Returns:\n",
        "      - self.num_words (int): The number of words present in the Vocabulary.\n",
        "    \"\"\"\n",
        "    return self.num_words\n",
        "\n",
        "  def add_word(self,\n",
        "               word: str) -> None:\n",
        "    \"\"\"A function used to add a word to our vocabulary.\n",
        "\n",
        "    Args:\n",
        "      - word (str): The word to add.\n",
        "    \n",
        "    Returns:\n",
        "      - None\n",
        "    \"\"\"\n",
        "    if word not in self.word2index:\n",
        "      self.word2index[word] = self.num_words\n",
        "      self.word2frequency[word] = 1\n",
        "      self.index2word[self.num_words] = word\n",
        "      self.num_words += 1\n",
        "\n",
        "      if self.word2frequency[word] > self.maximum_frequency:\n",
        "        self.maximum_frequency = self.word2frequency[word]\n",
        "        self.words_with_maxf = [word]\n",
        "      elif self.word2frequency[word] == self.maximum_frequency:\n",
        "        self.words_with_maxf.append([word])\n",
        "\n",
        "    else:\n",
        "\n",
        "      self.word2frequency[word] += 1\n",
        "\n",
        "      if self.word2frequency[word] > self.maximum_frequency:\n",
        "        self.maximum_frequency = self.word2frequency[word]\n",
        "        self.words_with_maxf = [word]\n",
        "      elif self.word2frequency[word] == self.maximum_frequency:\n",
        "        self.words_with_maxf.append(word)\n",
        "\n",
        "    return None\n",
        "\n",
        "  def get_word(self,\n",
        "               index: int) -> str:\n",
        "      \"\"\"Given an int as index, it returns the word corresponding to that index.\n",
        "      You could also use 'Vocabulary[index]'.\n",
        "\n",
        "      Args:\n",
        "        - index (int): The index of the word.\n",
        "\n",
        "      Returns:\n",
        "        - str : The word corresponding to that index.\n",
        "      \"\"\"\n",
        "      return self.index2word[index]\n",
        "\n",
        "  def get_index(self,\n",
        "                word: str) -> int:\n",
        "      \"\"\"Given a str as a word, it returns the index corresponding to that word.\n",
        "      You could also use 'Vocabulary[word]'.\n",
        "\n",
        "      Args:\n",
        "        - word (word): The word.\n",
        "\n",
        "      Returns:\n",
        "        - int : The index corresponding to that word.\n",
        "      \"\"\"\n",
        "      return self.word2index[word]\n",
        "\n",
        "  def get_frequency(self,\n",
        "                    word: str) -> int:\n",
        "    \"\"\"It returns the corresponding frequency of the input word.\n",
        "\n",
        "    Args:\n",
        "      - word (str): A word in the vocabulary.\n",
        "\n",
        "    Returns:\n",
        "      - int : The corresponding frequency.\n",
        "    \"\"\"\n",
        "    return self.word2frequency[word]\n",
        "  \n",
        "  def words(self):\n",
        "    \"\"\"Get the list of words present in the vocabulary.\n",
        "\n",
        "    Returns:\n",
        "      - List[str] : The list of all the words.\n",
        "    \"\"\"\n",
        "    return list(self.word2index.keys())\n",
        "  \n",
        "  def sort_fun(self,\n",
        "               x: str) -> int:\n",
        "    \"\"\"A function used to sort the SortedSet on the created index.\n",
        "\n",
        "    Args:\n",
        "      - x (str): The document.\n",
        "\n",
        "    Returns:\n",
        "      - int : The number code of that document.\n",
        "    \"\"\"\n",
        "    return int(x.split(\"_\")[1])\n",
        "\n",
        "  def create_index(self,\n",
        "                   path: str = None) -> Dict[int, SortedSet]:\n",
        "    \"\"\"A function that returns the index on the corpora of the self.dataframe using the vocabulary.\n",
        "\n",
        "    Args:\n",
        "      - path (str): The name of the pickle file where we save the index, if None the index is not saved. Default None.\n",
        "\n",
        "    Returns:\n",
        "      - index (Dict[int, SortedSet]): The index of the self.dataframe based on the vocabulary.\n",
        "    \"\"\"\n",
        "    index = {}\n",
        "\n",
        "    for word in tqdm(self.words()):\n",
        "      index[self.word2index[word]] = SortedSet(key=self.sort_fun)\n",
        "      for column in self.columns:\n",
        "        index[self.word2index[word]].update(self.dataframe.index[self.dataframe[column].apply(lambda x: word in x)].tolist())\n",
        "\n",
        "    if path:\n",
        "      dump(index, path)\n",
        "\n",
        "    return index\n",
        "\n",
        "  def save(self,\n",
        "           path: str) -> None:\n",
        "    \"\"\"Save the vocabulary as a pickle file.\n",
        "\n",
        "    Args:\n",
        "      - path (str): The name/path where to save the vocabulary.\n",
        "\n",
        "    Returns:\n",
        "      - None\n",
        "    \"\"\"\n",
        "    dump(self, path)\n",
        "    return None\n",
        "\n",
        "  @classmethod\n",
        "  def loader(self,\n",
        "             path: str):\n",
        "    \"\"\"Load the vocabulary from a pickle file.\n",
        "\n",
        "    Args:\n",
        "      - path (str): The path to the picke file.\n",
        "    \"\"\"\n",
        "    return load(path)"
      ]
    },
    {
      "cell_type": "code",
      "execution_count": null,
      "metadata": {
        "colab": {
          "base_uri": "https://localhost:8080/",
          "height": 49,
          "referenced_widgets": [
            "430edabfbc134da184238edb7e34c3e6",
            "18c433b93357474b96b500f0d1e5ac53",
            "cf463a140489423f890c1d7096368436",
            "aca504f527334f56abb82186ead88ba8",
            "0a7b71f07325485da4886adb1c2418eb",
            "32fcfa32f7474242a794133051f4ed63",
            "8bf4614f2ffb41be9858e457d8bb09b6",
            "ae816e23ad254b41be0d68f1a655ad58",
            "cb04c5d7d66741acaa586bc77f8a8202",
            "3382e71b35d046fbbb39d416c4aafa69",
            "041a15cf59b8439483cb0be974a2a9f6"
          ]
        },
        "id": "DMz2PVftXNaj",
        "outputId": "3f91ea21-4eb4-4e80-a437-aa8e80dcdd77"
      },
      "outputs": [
        {
          "data": {
            "application/vnd.jupyter.widget-view+json": {
              "model_id": "430edabfbc134da184238edb7e34c3e6",
              "version_major": 2,
              "version_minor": 0
            },
            "text/plain": [
              "  0%|          | 0/1 [00:00<?, ?it/s]"
            ]
          },
          "metadata": {},
          "output_type": "display_data"
        }
      ],
      "source": [
        "voc = Vocabulary(reduced_df)"
      ]
    },
    {
      "cell_type": "markdown",
      "metadata": {
        "id": "kMBGqrzYHSP7"
      },
      "source": [
        "We can print some info about the vocabulary:"
      ]
    },
    {
      "cell_type": "code",
      "execution_count": null,
      "metadata": {
        "colab": {
          "base_uri": "https://localhost:8080/"
        },
        "id": "_fnWRGuHYs7_",
        "outputId": "a101ba7b-896c-4d01-e4f3-b69d51c64855"
      },
      "outputs": [
        {
          "name": "stdout",
          "output_type": "stream",
          "text": [
            "Number of words in the vocabulary: 39837\n",
            "Maximum frequency value: 6996 -> List of words with the maximum frequency: ['one']\n"
          ]
        }
      ],
      "source": [
        "print(voc)"
      ]
    },
    {
      "cell_type": "markdown",
      "metadata": {
        "id": "b_e_oHBM0WA2"
      },
      "source": [
        "Using the method `save()` of the `Vocabulary` class, we can save the vocabulary:\n",
        "\n",
        "\n",
        "```python\n",
        "voc.save(\"voc.pkl\")\n",
        "```\n",
        "\n",
        "Then we can retrieve it by using the `loader()` method:\n",
        "\n",
        "\n",
        "```python\n",
        "loaded_voc = Vocabulary.load(\"voc.pkl\")\n",
        "```\n",
        "\n",
        "We had downloaded the `voc.pickle` as a .zip file and stored it in the same S3 Bucket ([voc.zip](https://datasciencemep27.s3.amazonaws.com/voc.zip)).\n",
        "\n"
      ]
    },
    {
      "cell_type": "markdown",
      "metadata": {
        "id": "5kW9gv3tHiK1"
      },
      "source": [
        "### 2.1.1 Creating the index:"
      ]
    },
    {
      "cell_type": "code",
      "execution_count": null,
      "metadata": {
        "id": "tZ5Ecg1M3ErH",
        "jupyter": {
          "source_hidden": true
        },
        "tags": []
      },
      "outputs": [],
      "source": [
        "class Index():\n",
        "  \"\"\"An Index that has as keys words and as corresponding values SortedSets of the documents where each word is contained.\n",
        "\n",
        "  Args:\n",
        "    - index (Dict[int, Iterable[str]]): The dictionary to index.\n",
        "\n",
        "  Attributes:\n",
        "    - index (Dict[int, Iterable[str]]): A dictionary that has as key the term_id and as value the SortedSet of documents that contains that word. Default None.\n",
        "    - num_words (int): The number of words in the index.\n",
        "  \"\"\"\n",
        "  def __init__(self,\n",
        "               index: Dict[int, Iterable[str]] = None):\n",
        "    self.index = {}\n",
        "    self.num_words = 0\n",
        "\n",
        "    if index is not None:\n",
        "      for term_id in tqdm(list(index.keys())):\n",
        "        self.index[term_id] = SortedSet(index[term_id], key=self.sort_fun)\n",
        "        self.num_words += 1\n",
        "\n",
        "  def __setitem__(self,\n",
        "                  term_id: int,\n",
        "                  documents: SortedSet) -> None:\n",
        "    \"\"\"An override of the method __setitem__.\n",
        "\n",
        "    Args:\n",
        "      - word (str): The term_id to add in our dictionary.\n",
        "      - documents (SortedSet): The SortedSet of documents in which word is present.\n",
        "    \"\"\"\n",
        "    if not isinstance(term_id, int):\n",
        "      raise Exception(f\"The items in the index should be an int, got a: {type(term_id)}\")\n",
        "    if not isinstance(documents, SortedSet):\n",
        "      raise Exception(f\"The value for each item should be a SortedSet, got a: {type(documents)}\")\n",
        "\n",
        "    self.index[term_id] = documents\n",
        "    self.num_words += 1\n",
        "\n",
        "    return None\n",
        "\n",
        "  def __getitem__(self,\n",
        "                  term_id: int) -> SortedSet:\n",
        "    \"\"\"Override of the __getitem__ method:\n",
        "    Given an int as term_id, it returns the index corresponding documents in which the term is present.\n",
        "\n",
        "    Args:\n",
        "      - term_id (int): The term_id of the word to search for.\n",
        "\n",
        "    Returns:\n",
        "      - SortedSet:  It returns the documents in which that word is present.\n",
        "    \"\"\"\n",
        "    if not isinstance(term_id, int):\n",
        "      raise Exception(\"Item is expected to be an int.\")\n",
        "\n",
        "    try:\n",
        "      result = self.index[term_id]\n",
        "    except:\n",
        "      print(f\"'{term_id}' not found in Index\")\n",
        "      result = SortedSet()\n",
        "\n",
        "    return result\n",
        "\n",
        "  def __str__(self) -> str:\n",
        "    \"\"\"An override of the '__str__()' method:\n",
        "\n",
        "    Returns:\n",
        "      - str : A string view of the Index.\n",
        "    \"\"\"\n",
        "    return f\"{self.index}\"\n",
        "\n",
        "  def __len__(self) -> int:\n",
        "    \"\"\"An override of the __len__ method.\n",
        "\n",
        "    Returns\n",
        "      - self.num_words (int): The number of words present in the Index.\n",
        "    \"\"\"\n",
        "    return self.num_words\n",
        "  \n",
        "  @classmethod\n",
        "  def sort_fun(self,\n",
        "               x: str) -> int:\n",
        "    return int(x.split(\"_\")[1])\n",
        "\n",
        "  def keys(self) -> List[int]:\n",
        "    \"\"\"Get the list of words present in the index.\n",
        "\n",
        "    Returns:\n",
        "      - List[int] : The list of all the words term_id.\n",
        "    \"\"\"\n",
        "    return list(self.index.keys())\n",
        "\n",
        "  def save(self,\n",
        "           path: str) -> None:\n",
        "    \"\"\"To save an Index in a given path.\n",
        "\n",
        "    Args:\n",
        "      - path (str): The path where the index is going to be saved.\n",
        "\n",
        "    Returns:\n",
        "      - None\n",
        "    \"\"\"\n",
        "    dump(self, path)\n",
        "    return None\n",
        "  \n",
        "  @classmethod\n",
        "  def loader(self,\n",
        "             path: str) -> None:\n",
        "    \"\"\"The loader method used to load a saved Index.\n",
        "\n",
        "    Args:\n",
        "      - path (str): The path where the index to load is stored.\n",
        "\n",
        "    Returns:\n",
        "      - None\n",
        "    \"\"\"\n",
        "    index = load(path)\n",
        "\n",
        "    if not isinstance(index, Index):\n",
        "      index = Index(index)\n",
        "\n",
        "    return index"
      ]
    },
    {
      "cell_type": "markdown",
      "metadata": {
        "id": "Mtea3XqnHxno"
      },
      "source": [
        "We can use the method `create_index()` defined in the `Vocabulary` class:\n",
        "\n",
        "\n",
        "```python\n",
        "index = Index(voc.create_index(\"index.pkl\"))\n",
        "```\n",
        "\n",
        "The ouput is an index with the following structure:\n",
        "\n",
        "```\n",
        "{\n",
        "term_id_1:[place_1, place_2, place_4],\n",
        "term_id_2:[place_1, place_3, place_5, place_6],\n",
        "...}\n",
        "```\n",
        "\n",
        "We pass as input a string with the name of the file where we're going to store the index, so that we can zip it and upload it to our S3 Bucket.\n",
        "\n"
      ]
    },
    {
      "cell_type": "code",
      "execution_count": null,
      "metadata": {
        "colab": {
          "base_uri": "https://localhost:8080/"
        },
        "id": "mYv40t24nBTB",
        "outputId": "e0a5b337-ab8b-4f4b-f35c-5618168ae4cd"
      },
      "outputs": [
        {
          "name": "stdout",
          "output_type": "stream",
          "text": [
            "Start download from https://datasciencemep27.s3.amazonaws.com/index.zip...\t[DONE]\n",
            "File saved in /content/index.zip\n",
            "Unzipping index.zip...\t[DONE]\n"
          ]
        }
      ],
      "source": [
        "download_zip(\"https://datasciencemep27.s3.amazonaws.com/index.zip\")"
      ]
    },
    {
      "cell_type": "code",
      "execution_count": null,
      "metadata": {
        "colab": {
          "base_uri": "https://localhost:8080/",
          "height": 49,
          "referenced_widgets": [
            "1d7357dee91c44ca917b6418f42c4dec",
            "98f77f8fd09942608e688fb81c041f3a",
            "d3c9faa911ff47d18840b5808ad85b05",
            "fc604f5b8864486290ee8b64e514a7f2",
            "f299b36b332444f4b8b3f5a81e291852",
            "8915a27529954bc8b80b4c6ae016cc04",
            "b62cf892499a487ca891d10dcc79b767",
            "4be27bd2716342cd94d76f6befccbfbf",
            "3f9889be3249426a9a21b16431dd6a2b",
            "c1834cb4b4de47c7bdef778f192bfda6",
            "f7cb27d0f9bc4ed7b6b69c075e83a026"
          ]
        },
        "id": "EfUjM-6Y1UlH",
        "outputId": "7965245e-9429-4f9f-f18d-51dd8fc4fc3a"
      },
      "outputs": [
        {
          "data": {
            "application/vnd.jupyter.widget-view+json": {
              "model_id": "1d7357dee91c44ca917b6418f42c4dec",
              "version_major": 2,
              "version_minor": 0
            },
            "text/plain": [
              "  0%|          | 0/39837 [00:00<?, ?it/s]"
            ]
          },
          "metadata": {},
          "output_type": "display_data"
        }
      ],
      "source": [
        "index = Index.loader(\"index.pkl\")"
      ]
    },
    {
      "cell_type": "markdown",
      "metadata": {
        "id": "1noX0MquYUkF"
      },
      "source": [
        "### 2.1.2 Execute the query:"
      ]
    },
    {
      "cell_type": "code",
      "execution_count": null,
      "metadata": {
        "id": "njyEdXspKVU2"
      },
      "outputs": [],
      "source": [
        "class SearchEngine():\n",
        "  \"\"\"A class that rappresent a Search Engine, here we find all the methods needed to query on the dataframe.\n",
        "\n",
        "  Args:\n",
        "    - dataframe (pd.DataFrame): The pd.DataFrame to query.\n",
        "    - vocabulary (Vocabulary): The vocabulary of the dataframe.\n",
        "    - index: The index word->documents of the dataframe.\n",
        "\n",
        "  Attributes:\n",
        "    - dataframe (pd.DataFrame): The variable in which we save the dataframe input.\n",
        "    - vocabulary (Vocabulary): The variable in which we save the vocabulary input.\n",
        "    - index (Index): The variable in which we save the index input. \n",
        "  \"\"\"\n",
        "  def __init__(self,\n",
        "               dataframe: pd.DataFrame,\n",
        "               vocabulary: Vocabulary,\n",
        "               index: Index):\n",
        "\n",
        "    print(\"Sanity Check between the Vocabulary and the Index:\", end=\"\\t\")\n",
        "    if not len(vocabulary) == len(index) :\n",
        "      raise Exception(f\"Inconsistency between the number of words in the vocabulary and the number of words in the index.\\nVocabulary: {len(vocabulary)}\\nIndex: {len(index)}\")\n",
        "\n",
        "    print(\"[PASSED]\")\n",
        "\n",
        "    self.index = index\n",
        "    self.dataframe = dataframe\n",
        "    self.vocabulary = vocabulary\n",
        "\n",
        "  def words(self) -> List[str]:\n",
        "    \"\"\"Returns the list of the words.\n",
        "\n",
        "    Returns:\n",
        "      - List[tr]: The list of the words.\n",
        "    \"\"\"\n",
        "    return self.vocabulary.words()\n",
        "\n",
        "  def tf(self,\n",
        "         word: str,\n",
        "         document: str) -> float:\n",
        "    \"\"\"The function that calculates TF of a word and a document.\n",
        "\n",
        "    Args:\n",
        "      - word (str): The word for which we calculate the TF.\n",
        "      - document (str): The document for which we calculate the TF.\n",
        "\n",
        "    Returns:\n",
        "      - float : The TF value for that word and document.\n",
        "    \"\"\"\n",
        "    frq_t_in_d = 0\n",
        "    for column in self.vocabulary.dataframe.columns:\n",
        "      frq_t_in_d += self.vocabulary.dataframe[column][document].count(word)\n",
        "\n",
        "    return 1.0 + math.log10(frq_t_in_d)\n",
        "\n",
        "  def idf(self,\n",
        "          word: str) -> float:\n",
        "    \"\"\"The function that calculates IDF of a word and a document.\n",
        "\n",
        "    Args:\n",
        "      - word (str): The word for which we calculate the IDF.\n",
        "\n",
        "    Returns:\n",
        "      - float : The IDF value for that.\n",
        "    \"\"\"\n",
        "    n_docs_with_word = (len(self.index[self.vocabulary.get_index(word)]))\n",
        "\n",
        "    return math.log10((1.0+len(self.vocabulary.dataframe))/(1.0 + n_docs_with_word))+1.0\n",
        "\n",
        "  def tf_idf(self,\n",
        "             word: str,\n",
        "             document: str) -> float:\n",
        "    \"\"\"The function that calculates TF-IDF of a word and a document.\n",
        "\n",
        "    Args:\n",
        "      - word (str): The word for which we calculate the TF-IDF.\n",
        "      - document (str): The document for which we calculate the TF-IDF.\n",
        "\n",
        "    Returns:\n",
        "      - float : The TF value for that word and document.\n",
        "    \"\"\"\n",
        "    return self.tf(word, document)*self.idf(word)\n",
        "\n",
        "  def create_index_tf_idf(self,\n",
        "                          path: str = None) -> Dict[int, List[Tuple[str, float]]]:\n",
        "    \"\"\"A function that returns the index tf-idf on the corpora of the self.dataframe.\n",
        "\n",
        "    Args:\n",
        "      - path (str): The name of the pickle file where we save the index, if None the index is not saved. Default None.\n",
        "\n",
        "    Returns:\n",
        "      - index_tf_idf (Dict[int, List[Tuple[str, float]]]): The index with the tf-idf.\n",
        "    \"\"\"\n",
        "    self.index_tf_idf = {}\n",
        "    for word in tqdm(self.words()):\n",
        "      self.index_tf_idf[self.vocabulary.get_index(word)] = []\n",
        "      for doc in self.index[self.vocabulary.get_index(word)]:\n",
        "        self.index_tf_idf[self.vocabulary.get_index(word)].append((doc, self.tf_idf(word, doc)))\n",
        "\n",
        "    if path:\n",
        "      dump(self.index_tf_idf, path)\n",
        "\n",
        "    return self.index_tf_idf\n",
        "\n",
        "  def tf_idf_query(self,\n",
        "                   query: List[str]) -> Dict[str, float]:\n",
        "    \"\"\"A function to calculate the TF-IDF for a query.\n",
        "\n",
        "    Args:\n",
        "      - query List[str]: A query.\n",
        "\n",
        "    Returns\n",
        "      - tf_idf_q (Dict[str, float]): The dictionary for the query with the TF-IDF value for each term.\n",
        "    \"\"\"\n",
        "    tf_idf_q = {}\n",
        "    \n",
        "    for word in query:\n",
        "      tf_idf_q[word] =(1.0+math.log10(query.count(word))) * self.idf(word)\n",
        "\n",
        "    return tf_idf_q\n",
        "\n",
        "  def cosine_similarity(self,\n",
        "                         query: List[str],\n",
        "                         document: str) -> float:\n",
        "    \"\"\"Cosine Similarity function.\n",
        "\n",
        "    Args:\n",
        "      - query List[str]: A query. \n",
        "      - document (str): A document.\n",
        "\n",
        "    Returns:\n",
        "      - float : The value of the cosine similarity between the query and the document.\n",
        "    \"\"\"\n",
        "    tf_idf_q = self.tf_idf_query(query)\n",
        "\n",
        "    q_vect = list(tf_idf_q.values())\n",
        "    doc_vect = [self.index_tf_idf[self.vocabulary.get_index(word)][self.binary_search(self.index_tf_idf[self.vocabulary.get_index(word)], document)][1] for word in query]\n",
        "\n",
        "    length_doc = np.linalg.norm(doc_vect)\n",
        "    length_q = np.linalg.norm(q_vect)\n",
        "\n",
        "    num = np.dot(doc_vect, q_vect)\n",
        "    den = length_doc*length_q\n",
        "\n",
        "    return num/den\n",
        "\n",
        "  def binary_search(self,\n",
        "                   alist: Iterable[Tuple[str, Any]],\n",
        "                   document: str) -> int:\n",
        "    \"\"\"An custom version of the binary search method.\n",
        "\n",
        "    Args:\n",
        "      - alist (Iterable[Tuple[str, Any]]): An Iterable of the format (\"document_d\", \"tf_idf_d_w\").\n",
        "      - document (str): The document id we're searching.\n",
        "\n",
        "    Returns:\n",
        "      - pos (int): The position of the document in the alist.\n",
        "    \"\"\"\n",
        "    first = 0\n",
        "    last = len(alist)-1\n",
        "    found = False\n",
        "\n",
        "    while first<=last and not found:\n",
        "      pos = 0\n",
        "      midpoint = (first + last)//2\n",
        "      if alist[midpoint][0] == document:\n",
        "          pos = midpoint\n",
        "          found = True\n",
        "      else:\n",
        "          if int(document.split(\"_\")[1]) < int(alist[midpoint][0].split(\"_\")[1]):\n",
        "              last = midpoint-1\n",
        "          else:\n",
        "              first = midpoint+1\n",
        "\n",
        "    if not found:\n",
        "      raise Exception(f\"Document {document} not in word list.\")\n",
        "\n",
        "    return pos\n",
        "\n",
        "  def load_tf_idf_index(self,\n",
        "                        path: str) -> None:\n",
        "    \"\"\"The loader method used to load a saved Index.\n",
        "\n",
        "    Args:\n",
        "      - path (str): The path where the index to load is stored.\n",
        "\n",
        "    Returns:\n",
        "      - None\n",
        "    \"\"\"\n",
        "    self.index_tf_idf = load(path)\n",
        "    return None\n",
        "\n",
        "  def clean_query(self,\n",
        "                  query: str) -> List[str]:\n",
        "    \"\"\"We follow the same preprocessing steps we have done for the documents, but for the query.\n",
        "\n",
        "    Args:\n",
        "      -  query (str): The query.\n",
        "\n",
        "    Returns:\n",
        "      - List[str] : The cleaned version of the query.\n",
        "    \"\"\"\n",
        "    query = query.lower()\n",
        "\n",
        "    #We tokenize the query\n",
        "    regexp = RegexpTokenizer('\\w+')\n",
        "    query = regexp.tokenize(query)\n",
        "\n",
        "    # We remove stopwords\n",
        "    stopwords = nltk.corpus.stopwords.words(\"english\")\n",
        "    query = [item for item in query if item not in stopwords]\n",
        "\n",
        "    # We execute stemming over the query\n",
        "    porter_stemmer = PorterStemmer()\n",
        "    query = [porter_stemmer.stem(item) for item in query]\n",
        "\n",
        "    # Remove the words with less than 2 terms\n",
        "    query = [item for item in query if len(item)>2]\n",
        "\n",
        "    return query\n",
        "\n",
        "  def query_index(self,\n",
        "                  query) -> SortedSet:\n",
        "    \"\"\"A method to query the index.\n",
        "\n",
        "    Args:\n",
        "      - query (str): The Conjunctive query.\n",
        "\n",
        "    Returns:\n",
        "      - result_set (SortedSet): The result SortedSet of the query.\n",
        "    \"\"\"  \n",
        "    for i, word in enumerate(query):\n",
        "      if i == 0:\n",
        "        result_set = self.index[self.vocabulary.get_index(word)]\n",
        "      else:\n",
        "        result_set = result_set.intersection(self.index[self.vocabulary.get_index(word)])\n",
        "\n",
        "    return result_set\n",
        "\n",
        "  def query_cosine_similarity(self,\n",
        "                              query: str,\n",
        "                              columns: List[str] = None,\n",
        "                              k: int = None) -> List[Tuple[str, float]]:\n",
        "    \"\"\"Return the rows in the dataframe that answer to the query.\n",
        "\n",
        "    Args:\n",
        "      - query (str): The query to search for.\n",
        "      - columns (List[str]): The dataframe columns to display, if none all of them. Default None.\n",
        "      - k (int): Number of desired documents. Default None.\n",
        "\n",
        "    Returns:\n",
        "      - List[Tuple[int, str]] : A list of top-k documents with their ranking.\n",
        "    \"\"\"\n",
        "    query = self.clean_query(query)\n",
        "\n",
        "    if columns is None:\n",
        "      columns = self.dataframe.columns\n",
        "\n",
        "    copy = self.dataframe[columns].loc[self.query_index(query)].copy()\n",
        "    copy[\"Similarity\"] = copy.index.map(lambda x: self.cosine_similarity(query, str(x)))\n",
        "\n",
        "    if k == None or k > len(copy):\n",
        "      k = len(copy)\n",
        "\n",
        "    sorted_copy = copy.sort_values(by=\"Similarity\", ascending=False).head(k)\n",
        "\n",
        "    display(sorted_copy)\n",
        "\n",
        "    return [(i+1, doc) for i, doc in enumerate(sorted_copy.index)]\n",
        "\n",
        "  def query(self,\n",
        "            query: str,\n",
        "            columns: List[str] = None) -> pd.DataFrame:\n",
        "    \"\"\"Return the rows in the dataframe that answer to the query.\n",
        "\n",
        "    Args:\n",
        "      - query (str): The query to search for.\n",
        "      - columns (List[str]): The dataframe columns to display, if none all of them. Default None.\n",
        "\n",
        "    Returns:\n",
        "      - pd.DataFrame : The sub set of the dataframe that answers to the query.\n",
        "    \"\"\"\n",
        "    query = self.clean_query(query)\n",
        "\n",
        "    if columns is None:\n",
        "      columns = self.dataframe.columns\n",
        "\n",
        "    return self.dataframe[columns].loc[self.query_index(query)].sort_index(ascending=False)"
      ]
    },
    {
      "cell_type": "code",
      "execution_count": null,
      "metadata": {
        "colab": {
          "base_uri": "https://localhost:8080/"
        },
        "id": "cdnRqjJHLXDp",
        "outputId": "7b4c2c18-09c7-49e9-d100-d0886ae78bdf"
      },
      "outputs": [
        {
          "name": "stdout",
          "output_type": "stream",
          "text": [
            "Sanity Check between the Vocabulary and the Index:\t[PASSED]\n"
          ]
        }
      ],
      "source": [
        "search_engine = SearchEngine(df, voc, index)"
      ]
    },
    {
      "cell_type": "markdown",
      "metadata": {
        "id": "FFl1EKteYZza"
      },
      "source": [
        "Here are the result for the query `american museum`:"
      ]
    },
    {
      "cell_type": "code",
      "execution_count": null,
      "metadata": {
        "colab": {
          "base_uri": "https://localhost:8080/",
          "height": 455
        },
        "id": "o8QHRJmPMQrt",
        "outputId": "1794754f-ed39-4404-d363-22459d9cea7b"
      },
      "outputs": [
        {
          "data": {
            "text/html": [
              "\n",
              "  <div id=\"df-69ecab8d-057c-400c-858f-deddfa091816\">\n",
              "    <div class=\"colab-df-container\">\n",
              "      <div>\n",
              "<style scoped>\n",
              "    .dataframe tbody tr th:only-of-type {\n",
              "        vertical-align: middle;\n",
              "    }\n",
              "\n",
              "    .dataframe tbody tr th {\n",
              "        vertical-align: top;\n",
              "    }\n",
              "\n",
              "    .dataframe thead th {\n",
              "        text-align: right;\n",
              "    }\n",
              "</style>\n",
              "<table border=\"1\" class=\"dataframe\">\n",
              "  <thead>\n",
              "    <tr style=\"text-align: right;\">\n",
              "      <th></th>\n",
              "      <th>placeName</th>\n",
              "      <th>placeDesc</th>\n",
              "      <th>placeURL</th>\n",
              "    </tr>\n",
              "    <tr>\n",
              "      <th>placeFile</th>\n",
              "      <th></th>\n",
              "      <th></th>\n",
              "      <th></th>\n",
              "    </tr>\n",
              "  </thead>\n",
              "  <tbody>\n",
              "    <tr>\n",
              "      <th>place_986</th>\n",
              "      <td>Horniman Museum and Gardens</td>\n",
              "      <td>London’s Horniman Museum has been showing off ...</td>\n",
              "      <td>https://www.atlasobscura.com/places/horniman-m...</td>\n",
              "    </tr>\n",
              "    <tr>\n",
              "      <th>place_971</th>\n",
              "      <td>Crazy Horse Memorial</td>\n",
              "      <td>When the carving of Mount Rushmore began in 19...</td>\n",
              "      <td>https://www.atlasobscura.com/places/crazy-hors...</td>\n",
              "    </tr>\n",
              "    <tr>\n",
              "      <th>place_955</th>\n",
              "      <td>Biosphere of Montreal</td>\n",
              "      <td>As their contribution to Montreal’s 1967 World...</td>\n",
              "      <td>https://www.atlasobscura.com/places/biosphere-...</td>\n",
              "    </tr>\n",
              "    <tr>\n",
              "      <th>place_913</th>\n",
              "      <td>Mothman Museum</td>\n",
              "      <td>Sitting in a storefront on an otherwise banal ...</td>\n",
              "      <td>https://www.atlasobscura.com/places/mothman-mu...</td>\n",
              "    </tr>\n",
              "    <tr>\n",
              "      <th>place_888</th>\n",
              "      <td>Oak Ridge \"The Secret City\"</td>\n",
              "      <td>The city of Oak Ridge was established by the U...</td>\n",
              "      <td>https://www.atlasobscura.com/places/the-secret...</td>\n",
              "    </tr>\n",
              "    <tr>\n",
              "      <th>...</th>\n",
              "      <td>...</td>\n",
              "      <td>...</td>\n",
              "      <td>...</td>\n",
              "    </tr>\n",
              "    <tr>\n",
              "      <th>place_1087</th>\n",
              "      <td>Albertine</td>\n",
              "      <td>A hand-painted ceiling of celestial scenes cap...</td>\n",
              "      <td>https://www.atlasobscura.com/places/albertine</td>\n",
              "    </tr>\n",
              "    <tr>\n",
              "      <th>place_1073</th>\n",
              "      <td>The Old Patent Model Museum</td>\n",
              "      <td>Before the Smithsonian reopened the building i...</td>\n",
              "      <td>https://www.atlasobscura.com/places/the-old-pa...</td>\n",
              "    </tr>\n",
              "    <tr>\n",
              "      <th>place_1051</th>\n",
              "      <td>Flushing Meadows-Corona Park</td>\n",
              "      <td>After a long ride from Manhattan, most get off...</td>\n",
              "      <td>https://www.atlasobscura.com/places/flushing-m...</td>\n",
              "    </tr>\n",
              "    <tr>\n",
              "      <th>place_1040</th>\n",
              "      <td>Lucky Cat Museum</td>\n",
              "      <td>Probably best known to Americans as the cute p...</td>\n",
              "      <td>https://www.atlasobscura.com/places/lucky-cat-...</td>\n",
              "    </tr>\n",
              "    <tr>\n",
              "      <th>place_1003</th>\n",
              "      <td>Museum of Natural and Other Curiosities</td>\n",
              "      <td>The Old State House in Hartford, Connecticut h...</td>\n",
              "      <td>https://www.atlasobscura.com/places/museum-nat...</td>\n",
              "    </tr>\n",
              "  </tbody>\n",
              "</table>\n",
              "<p>256 rows × 3 columns</p>\n",
              "</div>\n",
              "      <button class=\"colab-df-convert\" onclick=\"convertToInteractive('df-69ecab8d-057c-400c-858f-deddfa091816')\"\n",
              "              title=\"Convert this dataframe to an interactive table.\"\n",
              "              style=\"display:none;\">\n",
              "        \n",
              "  <svg xmlns=\"http://www.w3.org/2000/svg\" height=\"24px\"viewBox=\"0 0 24 24\"\n",
              "       width=\"24px\">\n",
              "    <path d=\"M0 0h24v24H0V0z\" fill=\"none\"/>\n",
              "    <path d=\"M18.56 5.44l.94 2.06.94-2.06 2.06-.94-2.06-.94-.94-2.06-.94 2.06-2.06.94zm-11 1L8.5 8.5l.94-2.06 2.06-.94-2.06-.94L8.5 2.5l-.94 2.06-2.06.94zm10 10l.94 2.06.94-2.06 2.06-.94-2.06-.94-.94-2.06-.94 2.06-2.06.94z\"/><path d=\"M17.41 7.96l-1.37-1.37c-.4-.4-.92-.59-1.43-.59-.52 0-1.04.2-1.43.59L10.3 9.45l-7.72 7.72c-.78.78-.78 2.05 0 2.83L4 21.41c.39.39.9.59 1.41.59.51 0 1.02-.2 1.41-.59l7.78-7.78 2.81-2.81c.8-.78.8-2.07 0-2.86zM5.41 20L4 18.59l7.72-7.72 1.47 1.35L5.41 20z\"/>\n",
              "  </svg>\n",
              "      </button>\n",
              "      \n",
              "  <style>\n",
              "    .colab-df-container {\n",
              "      display:flex;\n",
              "      flex-wrap:wrap;\n",
              "      gap: 12px;\n",
              "    }\n",
              "\n",
              "    .colab-df-convert {\n",
              "      background-color: #E8F0FE;\n",
              "      border: none;\n",
              "      border-radius: 50%;\n",
              "      cursor: pointer;\n",
              "      display: none;\n",
              "      fill: #1967D2;\n",
              "      height: 32px;\n",
              "      padding: 0 0 0 0;\n",
              "      width: 32px;\n",
              "    }\n",
              "\n",
              "    .colab-df-convert:hover {\n",
              "      background-color: #E2EBFA;\n",
              "      box-shadow: 0px 1px 2px rgba(60, 64, 67, 0.3), 0px 1px 3px 1px rgba(60, 64, 67, 0.15);\n",
              "      fill: #174EA6;\n",
              "    }\n",
              "\n",
              "    [theme=dark] .colab-df-convert {\n",
              "      background-color: #3B4455;\n",
              "      fill: #D2E3FC;\n",
              "    }\n",
              "\n",
              "    [theme=dark] .colab-df-convert:hover {\n",
              "      background-color: #434B5C;\n",
              "      box-shadow: 0px 1px 3px 1px rgba(0, 0, 0, 0.15);\n",
              "      filter: drop-shadow(0px 1px 2px rgba(0, 0, 0, 0.3));\n",
              "      fill: #FFFFFF;\n",
              "    }\n",
              "  </style>\n",
              "\n",
              "      <script>\n",
              "        const buttonEl =\n",
              "          document.querySelector('#df-69ecab8d-057c-400c-858f-deddfa091816 button.colab-df-convert');\n",
              "        buttonEl.style.display =\n",
              "          google.colab.kernel.accessAllowed ? 'block' : 'none';\n",
              "\n",
              "        async function convertToInteractive(key) {\n",
              "          const element = document.querySelector('#df-69ecab8d-057c-400c-858f-deddfa091816');\n",
              "          const dataTable =\n",
              "            await google.colab.kernel.invokeFunction('convertToInteractive',\n",
              "                                                     [key], {});\n",
              "          if (!dataTable) return;\n",
              "\n",
              "          const docLinkHtml = 'Like what you see? Visit the ' +\n",
              "            '<a target=\"_blank\" href=https://colab.research.google.com/notebooks/data_table.ipynb>data table notebook</a>'\n",
              "            + ' to learn more about interactive tables.';\n",
              "          element.innerHTML = '';\n",
              "          dataTable['output_type'] = 'display_data';\n",
              "          await google.colab.output.renderOutput(dataTable, element);\n",
              "          const docLink = document.createElement('div');\n",
              "          docLink.innerHTML = docLinkHtml;\n",
              "          element.appendChild(docLink);\n",
              "        }\n",
              "      </script>\n",
              "    </div>\n",
              "  </div>\n",
              "  "
            ],
            "text/plain": [
              "                                          placeName  \\\n",
              "placeFile                                             \n",
              "place_986               Horniman Museum and Gardens   \n",
              "place_971                      Crazy Horse Memorial   \n",
              "place_955                     Biosphere of Montreal   \n",
              "place_913                            Mothman Museum   \n",
              "place_888               Oak Ridge \"The Secret City\"   \n",
              "...                                             ...   \n",
              "place_1087                                Albertine   \n",
              "place_1073              The Old Patent Model Museum   \n",
              "place_1051             Flushing Meadows-Corona Park   \n",
              "place_1040                         Lucky Cat Museum   \n",
              "place_1003  Museum of Natural and Other Curiosities   \n",
              "\n",
              "                                                    placeDesc  \\\n",
              "placeFile                                                       \n",
              "place_986   London’s Horniman Museum has been showing off ...   \n",
              "place_971   When the carving of Mount Rushmore began in 19...   \n",
              "place_955   As their contribution to Montreal’s 1967 World...   \n",
              "place_913   Sitting in a storefront on an otherwise banal ...   \n",
              "place_888   The city of Oak Ridge was established by the U...   \n",
              "...                                                       ...   \n",
              "place_1087  A hand-painted ceiling of celestial scenes cap...   \n",
              "place_1073  Before the Smithsonian reopened the building i...   \n",
              "place_1051  After a long ride from Manhattan, most get off...   \n",
              "place_1040  Probably best known to Americans as the cute p...   \n",
              "place_1003  The Old State House in Hartford, Connecticut h...   \n",
              "\n",
              "                                                     placeURL  \n",
              "placeFile                                                      \n",
              "place_986   https://www.atlasobscura.com/places/horniman-m...  \n",
              "place_971   https://www.atlasobscura.com/places/crazy-hors...  \n",
              "place_955   https://www.atlasobscura.com/places/biosphere-...  \n",
              "place_913   https://www.atlasobscura.com/places/mothman-mu...  \n",
              "place_888   https://www.atlasobscura.com/places/the-secret...  \n",
              "...                                                       ...  \n",
              "place_1087      https://www.atlasobscura.com/places/albertine  \n",
              "place_1073  https://www.atlasobscura.com/places/the-old-pa...  \n",
              "place_1051  https://www.atlasobscura.com/places/flushing-m...  \n",
              "place_1040  https://www.atlasobscura.com/places/lucky-cat-...  \n",
              "place_1003  https://www.atlasobscura.com/places/museum-nat...  \n",
              "\n",
              "[256 rows x 3 columns]"
            ]
          },
          "metadata": {},
          "output_type": "display_data"
        }
      ],
      "source": [
        "display(search_engine.query(\"american museum\", [\"placeName\", \"placeDesc\", \"placeURL\"]))"
      ]
    },
    {
      "cell_type": "markdown",
      "metadata": {
        "id": "7TxTLccSYx11"
      },
      "source": [
        "## 2.2 Conjunctive query & Ranking score"
      ]
    },
    {
      "cell_type": "markdown",
      "metadata": {
        "id": "vbZgeXQdX6wo"
      },
      "source": [
        "### What metrics we're going to use:\n",
        "\n",
        "#### Term Frequency $\\mathrm{tf}$:\n",
        "Term frequency is usually defined as:\n",
        "\n",
        "$$\n",
        "\\mathrm{tf}_{i,d} = \\frac{n_{i,j}}{|d_j|}\n",
        "$$\n",
        "\n",
        "Where $n_{i,j}$ is the number of occurences of the term $i$ in the document $j$ and $|d_j|$ is the dimension (number of terms in the document) of the document $j$.\n",
        "\n",
        "But we decided to implement $\\mathrm{tf}_{i,d}$ using an other commonly used definition based on the following statement:\n",
        "\n",
        "> *While it seems that more is better, a lot\n",
        "isn’t proportionally better than a few...*\n",
        "\n",
        "$$\n",
        "\\mathrm{tf}_{i,d} =\n",
        "\\begin{cases}\n",
        "0.0 & \\text{if the normal } n_{i,j}=0\\\\\n",
        "1.0 + \\log_{10}\\left(n_{i,j}\\right) & \\text{else}\n",
        "\\end{cases}\n",
        "$$\n",
        "\n",
        "#### Inverse Document Frequency $\\mathrm{idf}$\n",
        "The inverse document frequency is defined as:\n",
        "\n",
        "$$\n",
        "\\mathrm{idf}_{i} = \n",
        "\\begin{cases}\n",
        "0.0 & \\text{if }|\\{d\\ :\\ i\\in d\\}| = 0\\\\\n",
        "\\log_{10}\\left(\\frac{|D|}{|\\{d\\ :\\ i\\in d\\}|}\\right) & \\text{else}\n",
        "\\end{cases}\n",
        "$$\n",
        "\n",
        "Where $|D|$ is the number of all the document we have in the corpora, and |$\\{d\\ :\\ i\\in d\\}|$ is the number of document that contain the term $i$.\n",
        "\n",
        "We have used set the [Sklearn's version](https://towardsdatascience.com/how-sklearns-tf-idf-is-different-from-the-standard-tf-idf-275fa582e73d):\n",
        "\n",
        "$$\n",
        "\\mathrm{idf}_{i} = \\log_{10}\\left(\\frac{1.0+|D|}{1.0+|\\{d\\ :\\ i\\in d\\}|}\\right) + 1.0\n",
        "$$"
      ]
    },
    {
      "cell_type": "markdown",
      "metadata": {
        "id": "7Y3BbXXiY6iL"
      },
      "source": [
        "### 2.2.1 Inverted Index"
      ]
    },
    {
      "cell_type": "markdown",
      "metadata": {
        "id": "BHXBndaRg0Wx"
      },
      "source": [
        "We can use the method `create_index_tf_idf()` defined in the `SearchEngine` class:\n",
        "\n",
        "\n",
        "```python\n",
        "index_tf_idf = search_engine.create_index_tf_idf(\"index_tf_idf.pkl\")\n",
        "```\n",
        "\n",
        "The ouput is an index with the following structure:\n",
        "\n",
        "```\n",
        "{...\n",
        "term_id_4:[(place_1, tfIdf_{term, place_1}), (place_2, tfIdf_{term, place_2})],\n",
        "term_id_5:[(place_1, tfIdf_{term, place_1}), (place_3, tfIdf_{term, place_3}), (place_5, tfIdf_{term, place_5}))],\n",
        "...}\n",
        "```\n",
        "\n",
        "We pass as input a string with the name of the file where we're going to store the index, so that we can zip it and upload it to our S3 Bucket."
      ]
    },
    {
      "cell_type": "code",
      "execution_count": null,
      "metadata": {
        "colab": {
          "base_uri": "https://localhost:8080/"
        },
        "id": "McNnXKu-gZ1e",
        "outputId": "9bbc03c9-c807-4b7f-db2a-fba546211041"
      },
      "outputs": [
        {
          "name": "stdout",
          "output_type": "stream",
          "text": [
            "Start download from https://datasciencemep27.s3.amazonaws.com/index_tf_idf.zip...\t[DONE]\n",
            "File saved in /content/index_tf_idf.zip\n",
            "Unzipping index_tf_idf.zip...\t[DONE]\n"
          ]
        }
      ],
      "source": [
        "download_zip(\"https://datasciencemep27.s3.amazonaws.com/index_tf_idf.zip\")"
      ]
    },
    {
      "cell_type": "markdown",
      "metadata": {
        "id": "M2PpAnC8FBnx"
      },
      "source": [
        "We load the new index:"
      ]
    },
    {
      "cell_type": "code",
      "execution_count": null,
      "metadata": {
        "id": "mVGg5EoNWclG"
      },
      "outputs": [],
      "source": [
        "search_engine.load_tf_idf_index(\"index_tf_idf.pkl\")"
      ]
    },
    {
      "cell_type": "markdown",
      "metadata": {
        "id": "l_3fzIA3YHp1"
      },
      "source": [
        "We define an heap data structure for maintaining the top-k documents:"
      ]
    },
    {
      "cell_type": "code",
      "execution_count": null,
      "metadata": {
        "id": "Lw2QzgwuQIPb"
      },
      "outputs": [],
      "source": [
        "class HeapDocs():\n",
        "  \"\"\"An heap data structure to mantain our Top K docs.\n",
        "\n",
        "  Args:\n",
        "    - data (List[Tuple[int, str]]): Our list of (ranking, doc_id).\n",
        "  \n",
        "  Attributes:\n",
        "    - data (List[Tuple[int, str]]): The variable where we store the data input.\n",
        "  \"\"\"\n",
        "  def __init__(self,\n",
        "               data: List[Tuple[int, str]]):\n",
        "    self.data = data\n",
        "    heapq.heapify(data)\n",
        "\n",
        "  def __len__(self) -> int:\n",
        "    \"\"\"An override of the '__len__()' method.\n",
        "\n",
        "    Returns:\n",
        "      - int : The length of our heap.\n",
        "    \"\"\"\n",
        "    return len(self.data)\n",
        "\n",
        "  def __str__(self) -> str:\n",
        "    \"\"\"An override of the '__str__()' method that is going to be used by print().\n",
        "\n",
        "    Returns:\n",
        "      - str : A string rappresentation of our heap\n",
        "    \"\"\"\n",
        "    alist = [k for i, k in self.data]\n",
        "    alist = '\", \"'.join(alist)\n",
        "    return f'[\"{alist}\"]'\n",
        "\n",
        "  def pop(self) -> str:\n",
        "    \"\"\"Pop the biggest element from our heap.\n",
        "\n",
        "    Returns:\n",
        "      - str : The document id with the highest similarity score in the heap.\n",
        "    \"\"\"\n",
        "    return heapq.heappop(self.data)[1]\n",
        "\n",
        "  def top(self) -> str:\n",
        "    \"\"\"Return the biggest element from our heap.\n",
        "\n",
        "    Returns\n",
        "      - str : The document id with the highest similarity score in the heap.\n",
        "    \"\"\"\n",
        "    return self.data[0][1]"
      ]
    },
    {
      "cell_type": "markdown",
      "metadata": {
        "id": "lIUykng2CLs8"
      },
      "source": [
        "### 2.2.2 We execute the query:"
      ]
    },
    {
      "cell_type": "markdown",
      "metadata": {
        "id": "UpXsXef8EsiM"
      },
      "source": [
        "Here are the result for the query `american museum` with the `cosine similarity` and the `tf-idf`:"
      ]
    },
    {
      "cell_type": "code",
      "execution_count": null,
      "metadata": {
        "colab": {
          "base_uri": "https://localhost:8080/",
          "height": 394
        },
        "id": "DcQU8nKfEYAm",
        "outputId": "2f69fa75-a7c1-4117-a689-c93d7e56be18"
      },
      "outputs": [
        {
          "data": {
            "text/html": [
              "\n",
              "  <div id=\"df-7e385f6b-49ea-4e4e-9673-6ed1d3c20493\">\n",
              "    <div class=\"colab-df-container\">\n",
              "      <div>\n",
              "<style scoped>\n",
              "    .dataframe tbody tr th:only-of-type {\n",
              "        vertical-align: middle;\n",
              "    }\n",
              "\n",
              "    .dataframe tbody tr th {\n",
              "        vertical-align: top;\n",
              "    }\n",
              "\n",
              "    .dataframe thead th {\n",
              "        text-align: right;\n",
              "    }\n",
              "</style>\n",
              "<table border=\"1\" class=\"dataframe\">\n",
              "  <thead>\n",
              "    <tr style=\"text-align: right;\">\n",
              "      <th></th>\n",
              "      <th>placeName</th>\n",
              "      <th>placeDesc</th>\n",
              "      <th>placeURL</th>\n",
              "      <th>Similarity</th>\n",
              "    </tr>\n",
              "    <tr>\n",
              "      <th>placeFile</th>\n",
              "      <th></th>\n",
              "      <th></th>\n",
              "      <th></th>\n",
              "      <th></th>\n",
              "    </tr>\n",
              "  </thead>\n",
              "  <tbody>\n",
              "    <tr>\n",
              "      <th>place_2078</th>\n",
              "      <td>Mitsitam Native Foods Cafe</td>\n",
              "      <td>A visit to the National Mall in Washington, D....</td>\n",
              "      <td>https://www.atlasobscura.com/places/mitsitam-n...</td>\n",
              "      <td>1.0</td>\n",
              "    </tr>\n",
              "    <tr>\n",
              "      <th>place_4622</th>\n",
              "      <td>American Space Museum</td>\n",
              "      <td>This small space museum, located not far from ...</td>\n",
              "      <td>https://www.atlasobscura.com/places/american-s...</td>\n",
              "      <td>1.0</td>\n",
              "    </tr>\n",
              "    <tr>\n",
              "      <th>place_3692</th>\n",
              "      <td>Jesse James Home Museum</td>\n",
              "      <td>This simple Missouri home went down in America...</td>\n",
              "      <td>https://www.atlasobscura.com/places/jesse-jame...</td>\n",
              "      <td>1.0</td>\n",
              "    </tr>\n",
              "    <tr>\n",
              "      <th>place_1963</th>\n",
              "      <td>Off the Rez Cafe</td>\n",
              "      <td>The U.S. government’s forced relocation of Nat...</td>\n",
              "      <td>https://www.atlasobscura.com/places/off-the-re...</td>\n",
              "      <td>1.0</td>\n",
              "    </tr>\n",
              "    <tr>\n",
              "      <th>place_1891</th>\n",
              "      <td>Old Slave Mart</td>\n",
              "      <td>Built in 1859, the Old Slave Mart was actually...</td>\n",
              "      <td>https://www.atlasobscura.com/places/old-slave-...</td>\n",
              "      <td>1.0</td>\n",
              "    </tr>\n",
              "    <tr>\n",
              "      <th>place_5149</th>\n",
              "      <td>Harriet Beecher Stowe, Slavery to Freedom Museum</td>\n",
              "      <td>This early brick Georgian townhouse sits incon...</td>\n",
              "      <td>https://www.atlasobscura.com/places/harriet-be...</td>\n",
              "      <td>1.0</td>\n",
              "    </tr>\n",
              "    <tr>\n",
              "      <th>place_2835</th>\n",
              "      <td>American Museum of Western Art</td>\n",
              "      <td>Housed in the old Navarre building across from...</td>\n",
              "      <td>https://www.atlasobscura.com/places/american-m...</td>\n",
              "      <td>1.0</td>\n",
              "    </tr>\n",
              "    <tr>\n",
              "      <th>place_60</th>\n",
              "      <td>The Witch House of Salem</td>\n",
              "      <td>The Salem witchcraft trials took place between...</td>\n",
              "      <td>https://www.atlasobscura.com/places/witch-hous...</td>\n",
              "      <td>1.0</td>\n",
              "    </tr>\n",
              "    <tr>\n",
              "      <th>place_3770</th>\n",
              "      <td>Double Negative</td>\n",
              "      <td>“There is nothing there, yet it is still a scu...</td>\n",
              "      <td>https://www.atlasobscura.com/places/double-neg...</td>\n",
              "      <td>1.0</td>\n",
              "    </tr>\n",
              "    <tr>\n",
              "      <th>place_3536</th>\n",
              "      <td>Unto These Hills Cherokee Theatre</td>\n",
              "      <td>Since 1950, members of the local Cherokee trib...</td>\n",
              "      <td>https://www.atlasobscura.com/places/unto-these...</td>\n",
              "      <td>1.0</td>\n",
              "    </tr>\n",
              "  </tbody>\n",
              "</table>\n",
              "</div>\n",
              "      <button class=\"colab-df-convert\" onclick=\"convertToInteractive('df-7e385f6b-49ea-4e4e-9673-6ed1d3c20493')\"\n",
              "              title=\"Convert this dataframe to an interactive table.\"\n",
              "              style=\"display:none;\">\n",
              "        \n",
              "  <svg xmlns=\"http://www.w3.org/2000/svg\" height=\"24px\"viewBox=\"0 0 24 24\"\n",
              "       width=\"24px\">\n",
              "    <path d=\"M0 0h24v24H0V0z\" fill=\"none\"/>\n",
              "    <path d=\"M18.56 5.44l.94 2.06.94-2.06 2.06-.94-2.06-.94-.94-2.06-.94 2.06-2.06.94zm-11 1L8.5 8.5l.94-2.06 2.06-.94-2.06-.94L8.5 2.5l-.94 2.06-2.06.94zm10 10l.94 2.06.94-2.06 2.06-.94-2.06-.94-.94-2.06-.94 2.06-2.06.94z\"/><path d=\"M17.41 7.96l-1.37-1.37c-.4-.4-.92-.59-1.43-.59-.52 0-1.04.2-1.43.59L10.3 9.45l-7.72 7.72c-.78.78-.78 2.05 0 2.83L4 21.41c.39.39.9.59 1.41.59.51 0 1.02-.2 1.41-.59l7.78-7.78 2.81-2.81c.8-.78.8-2.07 0-2.86zM5.41 20L4 18.59l7.72-7.72 1.47 1.35L5.41 20z\"/>\n",
              "  </svg>\n",
              "      </button>\n",
              "      \n",
              "  <style>\n",
              "    .colab-df-container {\n",
              "      display:flex;\n",
              "      flex-wrap:wrap;\n",
              "      gap: 12px;\n",
              "    }\n",
              "\n",
              "    .colab-df-convert {\n",
              "      background-color: #E8F0FE;\n",
              "      border: none;\n",
              "      border-radius: 50%;\n",
              "      cursor: pointer;\n",
              "      display: none;\n",
              "      fill: #1967D2;\n",
              "      height: 32px;\n",
              "      padding: 0 0 0 0;\n",
              "      width: 32px;\n",
              "    }\n",
              "\n",
              "    .colab-df-convert:hover {\n",
              "      background-color: #E2EBFA;\n",
              "      box-shadow: 0px 1px 2px rgba(60, 64, 67, 0.3), 0px 1px 3px 1px rgba(60, 64, 67, 0.15);\n",
              "      fill: #174EA6;\n",
              "    }\n",
              "\n",
              "    [theme=dark] .colab-df-convert {\n",
              "      background-color: #3B4455;\n",
              "      fill: #D2E3FC;\n",
              "    }\n",
              "\n",
              "    [theme=dark] .colab-df-convert:hover {\n",
              "      background-color: #434B5C;\n",
              "      box-shadow: 0px 1px 3px 1px rgba(0, 0, 0, 0.15);\n",
              "      filter: drop-shadow(0px 1px 2px rgba(0, 0, 0, 0.3));\n",
              "      fill: #FFFFFF;\n",
              "    }\n",
              "  </style>\n",
              "\n",
              "      <script>\n",
              "        const buttonEl =\n",
              "          document.querySelector('#df-7e385f6b-49ea-4e4e-9673-6ed1d3c20493 button.colab-df-convert');\n",
              "        buttonEl.style.display =\n",
              "          google.colab.kernel.accessAllowed ? 'block' : 'none';\n",
              "\n",
              "        async function convertToInteractive(key) {\n",
              "          const element = document.querySelector('#df-7e385f6b-49ea-4e4e-9673-6ed1d3c20493');\n",
              "          const dataTable =\n",
              "            await google.colab.kernel.invokeFunction('convertToInteractive',\n",
              "                                                     [key], {});\n",
              "          if (!dataTable) return;\n",
              "\n",
              "          const docLinkHtml = 'Like what you see? Visit the ' +\n",
              "            '<a target=\"_blank\" href=https://colab.research.google.com/notebooks/data_table.ipynb>data table notebook</a>'\n",
              "            + ' to learn more about interactive tables.';\n",
              "          element.innerHTML = '';\n",
              "          dataTable['output_type'] = 'display_data';\n",
              "          await google.colab.output.renderOutput(dataTable, element);\n",
              "          const docLink = document.createElement('div');\n",
              "          docLink.innerHTML = docLinkHtml;\n",
              "          element.appendChild(docLink);\n",
              "        }\n",
              "      </script>\n",
              "    </div>\n",
              "  </div>\n",
              "  "
            ],
            "text/plain": [
              "                                                   placeName  \\\n",
              "placeFile                                                      \n",
              "place_2078                        Mitsitam Native Foods Cafe   \n",
              "place_4622                             American Space Museum   \n",
              "place_3692                           Jesse James Home Museum   \n",
              "place_1963                                  Off the Rez Cafe   \n",
              "place_1891                                    Old Slave Mart   \n",
              "place_5149  Harriet Beecher Stowe, Slavery to Freedom Museum   \n",
              "place_2835                    American Museum of Western Art   \n",
              "place_60                            The Witch House of Salem   \n",
              "place_3770                                   Double Negative   \n",
              "place_3536                 Unto These Hills Cherokee Theatre   \n",
              "\n",
              "                                                    placeDesc  \\\n",
              "placeFile                                                       \n",
              "place_2078  A visit to the National Mall in Washington, D....   \n",
              "place_4622  This small space museum, located not far from ...   \n",
              "place_3692  This simple Missouri home went down in America...   \n",
              "place_1963  The U.S. government’s forced relocation of Nat...   \n",
              "place_1891  Built in 1859, the Old Slave Mart was actually...   \n",
              "place_5149  This early brick Georgian townhouse sits incon...   \n",
              "place_2835  Housed in the old Navarre building across from...   \n",
              "place_60    The Salem witchcraft trials took place between...   \n",
              "place_3770  “There is nothing there, yet it is still a scu...   \n",
              "place_3536  Since 1950, members of the local Cherokee trib...   \n",
              "\n",
              "                                                     placeURL  Similarity  \n",
              "placeFile                                                                  \n",
              "place_2078  https://www.atlasobscura.com/places/mitsitam-n...         1.0  \n",
              "place_4622  https://www.atlasobscura.com/places/american-s...         1.0  \n",
              "place_3692  https://www.atlasobscura.com/places/jesse-jame...         1.0  \n",
              "place_1963  https://www.atlasobscura.com/places/off-the-re...         1.0  \n",
              "place_1891  https://www.atlasobscura.com/places/old-slave-...         1.0  \n",
              "place_5149  https://www.atlasobscura.com/places/harriet-be...         1.0  \n",
              "place_2835  https://www.atlasobscura.com/places/american-m...         1.0  \n",
              "place_60    https://www.atlasobscura.com/places/witch-hous...         1.0  \n",
              "place_3770  https://www.atlasobscura.com/places/double-neg...         1.0  \n",
              "place_3536  https://www.atlasobscura.com/places/unto-these...         1.0  "
            ]
          },
          "metadata": {},
          "output_type": "display_data"
        }
      ],
      "source": [
        "top_k_docs = HeapDocs(search_engine.query_cosine_similarity(\"american museum\", [\"placeName\", \"placeDesc\", \"placeURL\"], 10))"
      ]
    },
    {
      "cell_type": "markdown",
      "metadata": {
        "id": "ngqnz7H2Xz98"
      },
      "source": [
        "We try printing our heap:"
      ]
    },
    {
      "cell_type": "code",
      "execution_count": null,
      "metadata": {
        "colab": {
          "base_uri": "https://localhost:8080/"
        },
        "id": "aYw60InUHjMv",
        "outputId": "b1be0114-8e83-4c2f-fc4d-d2ca44fa152d"
      },
      "outputs": [
        {
          "name": "stdout",
          "output_type": "stream",
          "text": [
            "[\"place_2078\", \"place_4622\", \"place_3692\", \"place_1963\", \"place_1891\", \"place_5149\", \"place_2835\", \"place_60\", \"place_3770\", \"place_3536\"]\n"
          ]
        }
      ],
      "source": [
        "print(top_k_docs)"
      ]
    },
    {
      "cell_type": "markdown",
      "metadata": {
        "id": "fSB2wOzhYS0x"
      },
      "source": [
        "We view the top document curently in our heap with the `top()` method:"
      ]
    },
    {
      "cell_type": "code",
      "execution_count": null,
      "metadata": {
        "colab": {
          "base_uri": "https://localhost:8080/"
        },
        "id": "-TZSVlGSYSB6",
        "outputId": "9d3519a1-3074-4d32-853f-0c782c66bea4"
      },
      "outputs": [
        {
          "name": "stdout",
          "output_type": "stream",
          "text": [
            "place_2078\n"
          ]
        }
      ],
      "source": [
        "print(top_k_docs.top())"
      ]
    },
    {
      "cell_type": "markdown",
      "metadata": {
        "id": "y_SPjIzkX5DL"
      },
      "source": [
        "Try getting the document following the ranking with the `pop()` method:"
      ]
    },
    {
      "cell_type": "code",
      "execution_count": null,
      "metadata": {
        "colab": {
          "base_uri": "https://localhost:8080/"
        },
        "id": "UM9jen_KVHvC",
        "outputId": "92510fca-d29f-418e-8bff-1b1c7100eafc"
      },
      "outputs": [
        {
          "name": "stdout",
          "output_type": "stream",
          "text": [
            "place_2078\n",
            "place_4622\n",
            "place_3692\n",
            "place_1963\n",
            "place_1891\n",
            "place_5149\n",
            "place_2835\n",
            "place_60\n",
            "place_3770\n",
            "place_3536\n"
          ]
        }
      ],
      "source": [
        "for _ in range(len(top_k_docs)):\n",
        "  print(top_k_docs.pop())"
      ]
    },
    {
      "cell_type": "markdown",
      "metadata": {
        "id": "CqbZ8AHlWEPJ"
      },
      "source": [
        "# 3. Define a new score!"
      ]
    },
    {
      "cell_type": "markdown",
      "metadata": {
        "id": "MTDBLv9G5qhk"
      },
      "source": [
        "## We create a custom reduced df:"
      ]
    },
    {
      "cell_type": "markdown",
      "metadata": {
        "id": "ybiaruK3auln"
      },
      "source": [
        "We perform the same preprocessing that we have done previously:\n",
        "1. We lower all the strings.\n",
        "2. We tokenize all the sentences.\n",
        "3. We remove stopwords.\n",
        "4. We perform stemming.\n",
        "5. We remove words smaller than 2 caracters."
      ]
    },
    {
      "cell_type": "code",
      "execution_count": null,
      "metadata": {
        "id": "Gng0ZhmaATAO"
      },
      "outputs": [],
      "source": [
        "\n",
        "custom_score_df = df[[\"placeName\", \"placeTags\", \"placeDesc\", \"placeAddress\"]].copy()\n",
        "\n",
        "custom_score_df[\"placeTags\"] = custom_score_df[\"placeTags\"].apply(lambda x: x if isinstance(x, list) else [])\n",
        "custom_score_df.replace(np.nan, \"\")\n",
        "\n",
        "custom_score_df[\"placeName\"] = custom_score_df[\"placeName\"].astype(str).str.lower()\n",
        "custom_score_df[\"placeTags\"] = custom_score_df[\"placeTags\"].apply(lambda x: [item.lower() for item in x])\n",
        "custom_score_df[\"placeDesc\"] = custom_score_df[\"placeDesc\"].astype(str).str.lower()\n",
        "custom_score_df[\"placeAddress\"] = custom_score_df[\"placeAddress\"].astype(str).str.lower()\n",
        "\n",
        "custom_score_df[\"placeName\"] = custom_score_df[\"placeName\"].apply(regexp.tokenize)\n",
        "custom_score_df[\"placeTags\"] = custom_score_df[\"placeTags\"].apply(lambda x: [elem for lista in [regexp.tokenize(item) for item in x] for elem in lista])\n",
        "custom_score_df[\"placeDesc\"] = custom_score_df[\"placeDesc\"].apply(regexp.tokenize)\n",
        "custom_score_df[\"placeAddress\"] = custom_score_df[\"placeAddress\"].apply(regexp.tokenize)\n",
        "\n",
        "custom_score_df['placeName'] = custom_score_df['placeName'].apply(lambda x: [item for item in x if item not in stopwords])\n",
        "custom_score_df['placeTags'] = custom_score_df['placeTags'].apply(lambda x: [item for item in x if item not in stopwords])\n",
        "custom_score_df['placeDesc'] = custom_score_df['placeDesc'].apply(lambda x: [item for item in x if item not in stopwords])\n",
        "custom_score_df['placeAddress'] = custom_score_df['placeAddress'].apply(lambda x: [item for item in x if item not in stopwords])\n",
        "\n",
        "custom_score_df['placeName'] = custom_score_df['placeName'].apply(lambda x: [porter_stemmer.stem(item) for item in x])\n",
        "custom_score_df['placeTags'] = custom_score_df['placeTags'].apply(lambda x: [porter_stemmer.stem(item) for item in x])\n",
        "custom_score_df['placeDesc'] = custom_score_df['placeDesc'].apply(lambda x: [porter_stemmer.stem(item) for item in x])\n",
        "custom_score_df['placeAddress'] = custom_score_df['placeAddress'].apply(lambda x: [porter_stemmer.stem(item) for item in x])\n",
        "\n",
        "custom_score_df['placeName'] = custom_score_df['placeName'].apply(lambda x: [item for item in x if len(item)>2])\n",
        "custom_score_df['placeTags'] = custom_score_df['placeTags'].apply(lambda x: [item for item in x if len(item)>2])\n",
        "custom_score_df['placeDesc'] = custom_score_df['placeDesc'].apply(lambda x: [item for item in x if len(item)>2])\n",
        "custom_score_df['placeAddress'] = custom_score_df['placeAddress'].apply(lambda x: [item for item in x if len(item)>2])"
      ]
    },
    {
      "cell_type": "markdown",
      "metadata": {
        "id": "7wcDpYqR5u24"
      },
      "source": [
        "## We create a new Vocabolary:"
      ]
    },
    {
      "cell_type": "markdown",
      "metadata": {
        "id": "X7qMNVjBd9_X"
      },
      "source": [
        "We can use the same Vocabulary class that we have used before:"
      ]
    },
    {
      "cell_type": "code",
      "execution_count": null,
      "metadata": {
        "colab": {
          "base_uri": "https://localhost:8080/",
          "height": 49,
          "referenced_widgets": [
            "4c27bd8fe2454547929803ad92b1ce56",
            "9e2da4c1a3bd43519ef672f170ecf8b2",
            "1e75d322d8164028bf185dee4ad8b969",
            "783f0ca4c9994da38f53ca6f0e940156",
            "f62046f244c24208837b07b4ef4eaa3a",
            "31bc2d8a37cb4191b709bdfa7bc1cccc",
            "cc9c197d22744757b0eb69b549f4d49b",
            "fd72a5c6c1444452ae5d7117e07f962d",
            "86e0ed72322b43fba282ed648ed5cfde",
            "1ad98b2a7cd34e68a0e1039152e03202",
            "ed7c912dc4154f1bbaee63fe75fc6bc0"
          ]
        },
        "id": "ytTLbVYzsyY2",
        "outputId": "594ff06f-a947-453d-9dba-a642869bb229"
      },
      "outputs": [
        {
          "data": {
            "application/vnd.jupyter.widget-view+json": {
              "model_id": "4c27bd8fe2454547929803ad92b1ce56",
              "version_major": 2,
              "version_minor": 0
            },
            "text/plain": [
              "  0%|          | 0/4 [00:00<?, ?it/s]"
            ]
          },
          "metadata": {},
          "output_type": "display_data"
        }
      ],
      "source": [
        "bigger_voc = Vocabulary(custom_score_df)"
      ]
    },
    {
      "cell_type": "markdown",
      "metadata": {
        "id": "hspVDvFSeEvm"
      },
      "source": [
        "We have saved a zipped copy on our S3 bucket ([bigger_voc](https://datasciencemep27.s3.amazonaws.com/bigger_voc.zip))."
      ]
    },
    {
      "cell_type": "markdown",
      "metadata": {
        "id": "g0AqnGYd5zF_"
      },
      "source": [
        "## We create a new Index:"
      ]
    },
    {
      "cell_type": "markdown",
      "metadata": {
        "id": "s-btJMZxeY57"
      },
      "source": [
        "We can proceed now on creating the index by using the `create_index()` method of our vocabulary:\n",
        "\n",
        "```python\n",
        "bigger_index = bigger_voc.create_index(\"bigger_index.pkl\")\n",
        "```\n",
        "\n",
        "We have already done this, and we've saved the resulting file in a zipped copyon our S3 bucket so we can download it from there:\n"
      ]
    },
    {
      "cell_type": "code",
      "execution_count": null,
      "metadata": {
        "colab": {
          "base_uri": "https://localhost:8080/"
        },
        "id": "BLhYFzF_e6Br",
        "outputId": "31aafcfd-aac6-463d-b0a9-1f931d1c50f4"
      },
      "outputs": [
        {
          "name": "stdout",
          "output_type": "stream",
          "text": [
            "Start download from https://datasciencemep27.s3.amazonaws.com/bigger_index.zip...\t[DONE]\n",
            "File saved in /content/bigger_index.zip\n",
            "Unzipping bigger_index.zip...\t[DONE]\n"
          ]
        }
      ],
      "source": [
        "download_zip(\"https://datasciencemep27.s3.amazonaws.com/bigger_index.zip\")"
      ]
    },
    {
      "cell_type": "code",
      "execution_count": null,
      "metadata": {
        "colab": {
          "base_uri": "https://localhost:8080/",
          "height": 49,
          "referenced_widgets": [
            "e6d52c4102ec47168ffa4006502efa0c",
            "93f45fd1c2474793a8be77ac8c0ecebe",
            "95d9437e2468408f94dbd84948b78376",
            "494995e0341149258337d351cae630ff",
            "a5ec874fa2c1445d9b960e03c0f7b310",
            "afbf1545f4b0484095ad8942934b3824",
            "918c52c934084304a54af0c6e53f738a",
            "faab77aaec6944188054ea6ceacbc8d6",
            "921a6fa926974cc7b1b66c6d93ce0fdb",
            "cb8ca80999c34dea93ed2c9eb102c29f",
            "c757a9947d75491cba2d45e663dabb26"
          ]
        },
        "id": "Cn2E0aqU5yZz",
        "outputId": "4063f16c-43fb-4ff6-cb23-283d8b4d76ba"
      },
      "outputs": [
        {
          "data": {
            "application/vnd.jupyter.widget-view+json": {
              "model_id": "e6d52c4102ec47168ffa4006502efa0c",
              "version_major": 2,
              "version_minor": 0
            },
            "text/plain": [
              "  0%|          | 0/47102 [00:00<?, ?it/s]"
            ]
          },
          "metadata": {},
          "output_type": "display_data"
        }
      ],
      "source": [
        "bigger_index = Index.loader(\"bigger_index.pkl\")"
      ]
    },
    {
      "cell_type": "markdown",
      "metadata": {
        "id": "sYrra9Q05-v_"
      },
      "source": [
        "## We create a new SearchEngine:"
      ]
    },
    {
      "cell_type": "code",
      "execution_count": null,
      "metadata": {
        "id": "UWjnua9i9XBj"
      },
      "outputs": [],
      "source": [
        "class OurSearchEngine():\n",
        "  \"\"\"A class that rappresent our Search Engine, here we find all the methods needed to query on the dataframe.\n",
        "\n",
        "  Args:\n",
        "    - dataframe (pd.DataFrame): The pd.DataFrame to query.\n",
        "    - vocabulary (Vocabulary): The vocabulary of the dataframe.\n",
        "    - index: The index word->documents of the dataframe.\n",
        "\n",
        "  Attributes:\n",
        "    - dataframe (pd.DataFrame): The variable in which we save the dataframe input.\n",
        "    - vocabulary (Vocabulary): The variable in which we save the vocabulary input.\n",
        "    - index (Index): The variable in which we save the index input. \n",
        "  \"\"\"\n",
        "  def __init__(self,\n",
        "               dataframe: pd.DataFrame,\n",
        "               vocabulary: Vocabulary,\n",
        "               index: Index):\n",
        "\n",
        "    print(\"Sanity Check between the Vocabulary and the Index:\", end=\"\\t\")\n",
        "    if not len(vocabulary) == len(index) :\n",
        "      raise Exception(f\"Inconsistency between the number of words in the vocabulary and the number of words in the index.\\nVocabulary: {len(vocabulary)}\\nIndex: {len(index)}\")\n",
        "\n",
        "    print(\"[PASSED]\")\n",
        "\n",
        "    self.index = index\n",
        "    self.dataframe = dataframe\n",
        "    self.vocabulary = vocabulary\n",
        "\n",
        "  def words(self) -> List[str]:\n",
        "    \"\"\"Returns the list of the words.\n",
        "\n",
        "    Returns:\n",
        "      - List[tr]: The list of the words.\n",
        "    \"\"\"\n",
        "    return self.vocabulary.words()\n",
        "\n",
        "  def tf(self,\n",
        "         word: str,\n",
        "         document: str,\n",
        "         column: str) -> float:\n",
        "    \"\"\"The function that calculates TF of a word and a document.\n",
        "\n",
        "    Args:\n",
        "      - word (str): The word for which we calculate the TF.\n",
        "      - document (str): The document for which we calculate the TF.\n",
        "      - column (str): The dataframe column on which we calculate the TF. \n",
        "\n",
        "    Returns:\n",
        "      - float : The TF value for that word and document.\n",
        "    \"\"\"\n",
        "    frq_t_in_d = self.vocabulary.dataframe[column][document].count(word)\n",
        "\n",
        "    if frq_t_in_d != 0:\n",
        "      frq_t_in_d = 1.0 + math.log10(frq_t_in_d)\n",
        "      \n",
        "    return frq_t_in_d\n",
        "\n",
        "  def idf(self,\n",
        "          word: str) -> float:\n",
        "    \"\"\"The function that calculates IDF of a word and a document.\n",
        "\n",
        "    Args:\n",
        "      - word (str): The word for which we calculate the IDF.\n",
        "\n",
        "    Returns:\n",
        "      - float : The IDF value for that.\n",
        "    \"\"\"\n",
        "    n_docs_with_word = len(self.index[self.vocabulary.get_index(word)])\n",
        "\n",
        "    return math.log10((1.0+len(self.vocabulary.dataframe))/(1.0 + n_docs_with_word))+1.0\n",
        "\n",
        "  def tf_idf(self,\n",
        "             word: str,\n",
        "             document: str,\n",
        "             column: str) -> float:\n",
        "    \"\"\"The function that calculates TF-IDF of a word and a document.\n",
        "\n",
        "    Args:\n",
        "      - word (str): The word for which we calculate the TF-IDF.\n",
        "      - document (str): The document for which we calculate the TF-IDF.\n",
        "      - column (str): The dataframe column on which we calculate the TF. \n",
        "\n",
        "    Returns:\n",
        "      - float : The TF value for that word and document.\n",
        "    \"\"\"\n",
        "    return self.tf(word, document, column)*self.idf(word)\n",
        "\n",
        "  def create_index_tf_idf(self,\n",
        "                          columns: List[str] = None,\n",
        "                          path: str = None) -> Dict[str, List[Tuple[str, float]]]:\n",
        "    \"\"\"A function that returns the index tf-idf on the corpora of the self.dataframe.\n",
        "\n",
        "    Args:\n",
        "      - path (str): The name of the pickle file where we save the index, if None the index is not saved. Default None.\n",
        "      - columns (List[str]): The columns on which we create the index_tf_idf. If None we use all the dataframe columns. Default None. \n",
        "\n",
        "    Returns:\n",
        "      - index_tf_idf (Dict[str, List[Tuple[str, float]]]): The index with the tf-idf.\n",
        "    \"\"\"\n",
        "    if columns is None:\n",
        "      columns = self.vocabulary.dataframe.columns\n",
        "\n",
        "    print(f\"The index is of the type:\\nTerm_id -> [(document_id, {list(columns)})]\")\n",
        "\n",
        "    self.index_tf_idf = {}\n",
        "    for word in tqdm(self.words()):\n",
        "      self.index_tf_idf[self.vocabulary.get_index(word)] = []\n",
        "      for doc in self.index[self.vocabulary.get_index(word)]:\n",
        "        self.index_tf_idf[self.vocabulary.get_index(word)].append((doc, [self.tf_idf(word, doc, column) for column in columns]))\n",
        "\n",
        "    if path:\n",
        "      dump(self.index_tf_idf, path)\n",
        "\n",
        "    return self.index_tf_idf\n",
        "\n",
        "  def tf_idf_query(self,\n",
        "                   query: List[str]) -> Dict[str, float]:\n",
        "    \"\"\"A function to calculate the TF-IDF for a query.\n",
        "\n",
        "    Args:\n",
        "      - query List[str]: A query.\n",
        "\n",
        "    Returns\n",
        "      - tf_idf_q (Dict[str, float]): The dictionary for the query with the TF-IDF value for each term.\n",
        "    \"\"\"\n",
        "    tf_idf_q = {}\n",
        "    \n",
        "    for word in query:\n",
        "      tf_idf_q[word] =(1.0+math.log10(query.count(word))) * self.idf(word)\n",
        "\n",
        "    return tf_idf_q\n",
        "\n",
        "  def cosine_similarity(self,\n",
        "                        query: List[str],\n",
        "                        document: str,\n",
        "                        k: int) -> float:\n",
        "    \"\"\"Cosine Similarity function.\n",
        "\n",
        "    Args:\n",
        "      - query List[str]: A query.\n",
        "      - document (str): A document.\n",
        "      - k (int): The element on which we calculate the cosine similarity.\n",
        "\n",
        "    Returns:\n",
        "      - float : The value of the cosine similarity between the query and the document.\n",
        "    \"\"\"\n",
        "    tf_idf_q = self.tf_idf_query(query)\n",
        "\n",
        "    q_vect = list(tf_idf_q.values())\n",
        "    doc_vect = [self.index_tf_idf[self.vocabulary.get_index(word)][self.binary_search(self.index_tf_idf[self.vocabulary.get_index(word)], document)][1][k] for word in query]\n",
        "\n",
        "    length_doc = np.linalg.norm(doc_vect)\n",
        "    length_q = np.linalg.norm(q_vect)\n",
        "\n",
        "    num = np.dot(doc_vect, q_vect)\n",
        "    den = length_doc*length_q\n",
        "\n",
        "    if den == 0.0:\n",
        "      result = 0.0\n",
        "    else:\n",
        "      result = num/den\n",
        "\n",
        "    return result\n",
        "\n",
        "  def binary_search(self,\n",
        "                   alist: Iterable[Tuple[str, Any]],\n",
        "                   document: str) -> int:\n",
        "    \"\"\"An custom version of the binary search method.\n",
        "\n",
        "    Args:\n",
        "      - alist (Iterable[Tuple[str, Any]]): An Iterable of the format (\"document_d\", \"tf_idf_d_w\").\n",
        "      - document (str): The document id we're searching.\n",
        "\n",
        "    Returns:\n",
        "      - pos (int): The position of the document in the alist.\n",
        "    \"\"\"\n",
        "    first = 0\n",
        "    last = len(alist)-1\n",
        "    found = False\n",
        "\n",
        "    while first<=last and not found:\n",
        "      pos = 0\n",
        "      midpoint = (first + last)//2\n",
        "      if alist[midpoint][0] == document:\n",
        "          pos = midpoint\n",
        "          found = True\n",
        "      else:\n",
        "          if int(document.split(\"_\")[1]) < int(alist[midpoint][0].split(\"_\")[1]):\n",
        "              last = midpoint-1\n",
        "          else:\n",
        "              first = midpoint+1\n",
        "\n",
        "    if not found:\n",
        "      raise Exception(f\"Document {document} not in word list.\")\n",
        "\n",
        "    return pos\n",
        "\n",
        "  def load_tf_idf_index(self,\n",
        "                        path: str) -> None:\n",
        "    \"\"\"The loader method used to load a saved Index.\n",
        "\n",
        "    Args:\n",
        "      - path (str): The path where the index to load is stored.\n",
        "\n",
        "    Returns:\n",
        "      - None\n",
        "    \"\"\"\n",
        "    self.index_tf_idf = load(path)\n",
        "    return None\n",
        "\n",
        "  def clean_query(self,\n",
        "                  query: str) -> List[str]:\n",
        "    \"\"\"We follow the same preprocessing steps we have done for the documents, but for the query.\n",
        "\n",
        "    Args:\n",
        "      -  query (str): The query.\n",
        "\n",
        "    Returns:\n",
        "      - List[str] : The cleaned version of the query.\n",
        "    \"\"\"\n",
        "    query = query.lower()\n",
        "\n",
        "    #We tokenize the query\n",
        "    regexp = RegexpTokenizer('\\w+')\n",
        "    query = regexp.tokenize(query)\n",
        "\n",
        "    # We remove stopwords\n",
        "    stopwords = nltk.corpus.stopwords.words(\"english\")\n",
        "    query = [item for item in query if item not in stopwords]\n",
        "\n",
        "    # We execute stemming over the query\n",
        "    porter_stemmer = PorterStemmer()\n",
        "    query = [porter_stemmer.stem(item) for item in query]\n",
        "\n",
        "    # Remove the words with less than 2 terms\n",
        "    query = [item for item in query if len(item)>2]\n",
        "\n",
        "    return query\n",
        "\n",
        "  def query_index(self,\n",
        "                  query) -> SortedSet:\n",
        "    \"\"\"A method to query the index.\n",
        "\n",
        "    Args:\n",
        "      - query (str): The Conjunctive query.\n",
        "\n",
        "    Returns:\n",
        "      - result_set (SortedSet): The result SortedSet of the query.\n",
        "    \"\"\"  \n",
        "    for i, word in enumerate(query):\n",
        "      if i == 0:\n",
        "        result_set = self.index[self.vocabulary.get_index(word)]\n",
        "      else:\n",
        "        result_set = result_set.intersection(self.index[self.vocabulary.get_index(word)])\n",
        "\n",
        "    return result_set\n",
        "\n",
        "  def our_score(self,\n",
        "                query: List[str],\n",
        "                document: str) -> float:\n",
        "    \"\"\"Cosine Similarity function.\n",
        "\n",
        "    Args:\n",
        "      - query List[str]: A query.\n",
        "      - document (str): A document.\n",
        "\n",
        "    Returns:\n",
        "      - float : The value of our score between the query and the document.\n",
        "    \"\"\"\n",
        "    return self.cosine_similarity(query, document, 2)*((1+self.cosine_similarity(query, document, 0)+self.cosine_similarity(query, document, 1)+self.cosine_similarity(query, document, 3))/4)\n",
        "\n",
        "  def query_with_our_similarity(self,\n",
        "                                query: str,\n",
        "                                columns: List[str] = None,\n",
        "                                k: int = None) -> List[Tuple[str, float]]:\n",
        "    \"\"\"Return the rows in the dataframe that answer to the query.\n",
        "\n",
        "    Args:\n",
        "      - query (str): The query to search for.\n",
        "      - columns (List[str]): The dataframe columns to display, if none all of them. Default None.\n",
        "      - k (int): Number of desired documents. Default None.\n",
        "\n",
        "    Returns:\n",
        "      - List[Tuple[int, str]] : A list of top-k documents with their ranking.\n",
        "    \"\"\"\n",
        "    query = self.clean_query(query)\n",
        "\n",
        "    if columns is None:\n",
        "      columns = self.dataframe.columns\n",
        "\n",
        "    copy = self.dataframe[columns].loc[self.query_index(query)].copy()\n",
        "    copy[\"Similarity\"] = copy.index.map(lambda x: self.our_score(query, str(x)))\n",
        "\n",
        "    if k == None or k > len(copy):\n",
        "      k = len(copy)\n",
        "\n",
        "    sorted_copy = copy.sort_values(by=\"Similarity\", ascending=False).head(k)\n",
        "\n",
        "    display(sorted_copy)\n",
        "\n",
        "    return [(i+1, doc) for i, doc in enumerate(sorted_copy.index)]\n",
        "\n",
        "  def query(self,\n",
        "            query: str,\n",
        "            columns: List[str] = None) -> pd.DataFrame:\n",
        "    \"\"\"Return the rows in the dataframe that answer to the query.\n",
        "\n",
        "    Args:\n",
        "      - query (str): The query to search for.\n",
        "      - columns (List[str]): The dataframe columns to display, if none all of them. Default None.\n",
        "\n",
        "    Returns:\n",
        "      - pd.DataFrame : The sub set of the dataframe that answers to the query.\n",
        "    \"\"\"\n",
        "    query = self.clean_query(query)\n",
        "\n",
        "    if columns is None:\n",
        "      columns = self.dataframe.columns\n",
        "\n",
        "    return self.dataframe[columns].loc[self.query_index(query)].sort_index(ascending=False)"
      ]
    },
    {
      "cell_type": "markdown",
      "metadata": {
        "id": "4mDE659aJeW5"
      },
      "source": [
        "We initialize `OurSearchEngine()`:"
      ]
    },
    {
      "cell_type": "code",
      "execution_count": null,
      "metadata": {
        "colab": {
          "base_uri": "https://localhost:8080/"
        },
        "id": "yjizxZb0CjNm",
        "outputId": "4a860f76-53d6-40fc-b334-8552152a0cb7"
      },
      "outputs": [
        {
          "name": "stdout",
          "output_type": "stream",
          "text": [
            "Sanity Check between the Vocabulary and the Index:\t[PASSED]\n"
          ]
        }
      ],
      "source": [
        "our_search_engine = OurSearchEngine(df, bigger_voc, bigger_index)"
      ]
    },
    {
      "cell_type": "markdown",
      "metadata": {
        "id": "2iqQB21jJKIn"
      },
      "source": [
        "\n",
        "We now can create a new type of TF-IDF index, using the method `create_index_tf_idf()` of `OurSearchEngine()` class:\n",
        "\n",
        "```python\n",
        "bigger_tf_idf_index = our_search_engine.create_index_tf_idf(path=\"bigger_tf_idf_index.pkl\")\n",
        "```\n",
        "\n",
        "The resulting index is of the type:\n",
        "\n",
        "\n",
        "\n",
        "```\n",
        "The index is of the type:\n",
        "term_id -> [(document_id, [tf_idf_placeName, tf_idf_placeTags, tf_idf_placeDesc, tf_idf_placeAddress])]\n",
        "```\n",
        "We have already created the index and upload it on our S3 bucket, so retrieving it is easier:"
      ]
    },
    {
      "cell_type": "code",
      "execution_count": null,
      "metadata": {
        "colab": {
          "base_uri": "https://localhost:8080/"
        },
        "id": "cTw64N8kJDa8",
        "outputId": "ff2c3880-1219-4798-9c3d-8064ed8fc1d3"
      },
      "outputs": [
        {
          "name": "stdout",
          "output_type": "stream",
          "text": [
            "Start download from https://datasciencemep27.s3.amazonaws.com/bigger_tf_idf_index.zip...\t[DONE]\n",
            "File saved in /content/bigger_tf_idf_index.zip\n",
            "Unzipping bigger_tf_idf_index.zip...\t[DONE]\n"
          ]
        }
      ],
      "source": [
        "download_zip(\"https://datasciencemep27.s3.amazonaws.com/bigger_tf_idf_index.zip\")"
      ]
    },
    {
      "cell_type": "code",
      "execution_count": null,
      "metadata": {
        "id": "Gsqa5vTAKUbL"
      },
      "outputs": [],
      "source": [
        "our_search_engine.load_tf_idf_index(\"bigger_tf_idf_index.pkl\")"
      ]
    },
    {
      "cell_type": "markdown",
      "metadata": {
        "id": "sr0d_3RgbYht"
      },
      "source": [
        "The idea for our score is using the same cosine similarity that we have defined before, but calculating it over each column and combining each result in a special way:\n",
        "\n",
        "$$\n",
        "\\text{our_score}(\\text{query}, \\text{document}_j) = \\text{cos_sim}_\\text{placeDesc}*\\frac{1+\\text{cos_sim}_\\text{placeName}+\\text{cos_sim}_\\text{placeTags}+\\text{cos_sim}_\\text{placeAddress}}{4} \n",
        "$$\n",
        "\n",
        "In this way if $\\text{cos_sim}_\\text{placeDesc}=0$ the overall score is equal to zero, while if some of the other cosine similarities is equal to zero (even all of them) the moltiplicative contribution is at least $\\frac14$. This score come from the idea:\n",
        "\n",
        "> If the documents doesn't talk about the query, it is not a good document.\n",
        "If in the name, in the tags or in the address there are words that match with the query it is better.\n",
        "\n",
        "It is worth noticing that in reality in our search engine we calculate our score only on document that have alle the query terms inside the describtion, so for this special set of documents $\\text{cos_sim}_\\text{placeDesc}$ is not going to ever be zero, but we have still defined our score in this way to have some flexibility."
      ]
    },
    {
      "cell_type": "markdown",
      "metadata": {
        "id": "B3a3vSi66HEh"
      },
      "source": [
        "## We perform the query:"
      ]
    },
    {
      "cell_type": "code",
      "execution_count": null,
      "metadata": {
        "colab": {
          "base_uri": "https://localhost:8080/",
          "height": 394
        },
        "id": "4L7eRw42jZEe",
        "outputId": "c676e57b-6b9c-4d7f-b4e0-a345c81de4eb"
      },
      "outputs": [
        {
          "data": {
            "text/html": [
              "\n",
              "  <div id=\"df-b0f749fd-acbb-4e66-bce3-39ec839e4d4d\">\n",
              "    <div class=\"colab-df-container\">\n",
              "      <div>\n",
              "<style scoped>\n",
              "    .dataframe tbody tr th:only-of-type {\n",
              "        vertical-align: middle;\n",
              "    }\n",
              "\n",
              "    .dataframe tbody tr th {\n",
              "        vertical-align: top;\n",
              "    }\n",
              "\n",
              "    .dataframe thead th {\n",
              "        text-align: right;\n",
              "    }\n",
              "</style>\n",
              "<table border=\"1\" class=\"dataframe\">\n",
              "  <thead>\n",
              "    <tr style=\"text-align: right;\">\n",
              "      <th></th>\n",
              "      <th>placeName</th>\n",
              "      <th>placeDesc</th>\n",
              "      <th>placeURL</th>\n",
              "      <th>Similarity</th>\n",
              "    </tr>\n",
              "    <tr>\n",
              "      <th>placeFile</th>\n",
              "      <th></th>\n",
              "      <th></th>\n",
              "      <th></th>\n",
              "      <th></th>\n",
              "    </tr>\n",
              "  </thead>\n",
              "  <tbody>\n",
              "    <tr>\n",
              "      <th>place_6431</th>\n",
              "      <td>Berman Museum of World History</td>\n",
              "      <td>The museum was started by an a Farley Berman, ...</td>\n",
              "      <td>https://www.atlasobscura.com/places/berman-mus...</td>\n",
              "      <td>0.575443</td>\n",
              "    </tr>\n",
              "    <tr>\n",
              "      <th>place_2659</th>\n",
              "      <td>Milwaukee Art Museum</td>\n",
              "      <td>Like the Guggenheim in New York and the Oaklan...</td>\n",
              "      <td>https://www.atlasobscura.com/places/milwaukee-...</td>\n",
              "      <td>0.568692</td>\n",
              "    </tr>\n",
              "    <tr>\n",
              "      <th>place_142</th>\n",
              "      <td>Museum of the Weird</td>\n",
              "      <td>The dime or dime store museum is by all accoun...</td>\n",
              "      <td>https://www.atlasobscura.com/places/museum-weird</td>\n",
              "      <td>0.568396</td>\n",
              "    </tr>\n",
              "    <tr>\n",
              "      <th>place_691</th>\n",
              "      <td>Maryhill Museum and Stonehenge</td>\n",
              "      <td>“What in Sam Hill?” This odd expression, of wh...</td>\n",
              "      <td>https://www.atlasobscura.com/places/maryhill-m...</td>\n",
              "      <td>0.564857</td>\n",
              "    </tr>\n",
              "    <tr>\n",
              "      <th>place_2194</th>\n",
              "      <td>Roanoke Pinball Museum</td>\n",
              "      <td>In downtown Roanoke inside the “Center in the ...</td>\n",
              "      <td>https://www.atlasobscura.com/places/roanoke-pi...</td>\n",
              "      <td>0.555003</td>\n",
              "    </tr>\n",
              "    <tr>\n",
              "      <th>place_2078</th>\n",
              "      <td>Mitsitam Native Foods Cafe</td>\n",
              "      <td>A visit to the National Mall in Washington, D....</td>\n",
              "      <td>https://www.atlasobscura.com/places/mitsitam-n...</td>\n",
              "      <td>0.500000</td>\n",
              "    </tr>\n",
              "    <tr>\n",
              "      <th>place_2835</th>\n",
              "      <td>American Museum of Western Art</td>\n",
              "      <td>Housed in the old Navarre building across from...</td>\n",
              "      <td>https://www.atlasobscura.com/places/american-m...</td>\n",
              "      <td>0.500000</td>\n",
              "    </tr>\n",
              "    <tr>\n",
              "      <th>place_4381</th>\n",
              "      <td>Grace Hopper's Bug</td>\n",
              "      <td>On September 9, 1947, Harvard’s Mark II Aiken ...</td>\n",
              "      <td>https://www.atlasobscura.com/places/grace-hopp...</td>\n",
              "      <td>0.500000</td>\n",
              "    </tr>\n",
              "    <tr>\n",
              "      <th>place_4622</th>\n",
              "      <td>American Space Museum</td>\n",
              "      <td>This small space museum, located not far from ...</td>\n",
              "      <td>https://www.atlasobscura.com/places/american-s...</td>\n",
              "      <td>0.500000</td>\n",
              "    </tr>\n",
              "    <tr>\n",
              "      <th>place_6239</th>\n",
              "      <td>The American Pigeon Museum</td>\n",
              "      <td>Many people, especially in big cities, view pi...</td>\n",
              "      <td>https://www.atlasobscura.com/places/the-americ...</td>\n",
              "      <td>0.497860</td>\n",
              "    </tr>\n",
              "  </tbody>\n",
              "</table>\n",
              "</div>\n",
              "      <button class=\"colab-df-convert\" onclick=\"convertToInteractive('df-b0f749fd-acbb-4e66-bce3-39ec839e4d4d')\"\n",
              "              title=\"Convert this dataframe to an interactive table.\"\n",
              "              style=\"display:none;\">\n",
              "        \n",
              "  <svg xmlns=\"http://www.w3.org/2000/svg\" height=\"24px\"viewBox=\"0 0 24 24\"\n",
              "       width=\"24px\">\n",
              "    <path d=\"M0 0h24v24H0V0z\" fill=\"none\"/>\n",
              "    <path d=\"M18.56 5.44l.94 2.06.94-2.06 2.06-.94-2.06-.94-.94-2.06-.94 2.06-2.06.94zm-11 1L8.5 8.5l.94-2.06 2.06-.94-2.06-.94L8.5 2.5l-.94 2.06-2.06.94zm10 10l.94 2.06.94-2.06 2.06-.94-2.06-.94-.94-2.06-.94 2.06-2.06.94z\"/><path d=\"M17.41 7.96l-1.37-1.37c-.4-.4-.92-.59-1.43-.59-.52 0-1.04.2-1.43.59L10.3 9.45l-7.72 7.72c-.78.78-.78 2.05 0 2.83L4 21.41c.39.39.9.59 1.41.59.51 0 1.02-.2 1.41-.59l7.78-7.78 2.81-2.81c.8-.78.8-2.07 0-2.86zM5.41 20L4 18.59l7.72-7.72 1.47 1.35L5.41 20z\"/>\n",
              "  </svg>\n",
              "      </button>\n",
              "      \n",
              "  <style>\n",
              "    .colab-df-container {\n",
              "      display:flex;\n",
              "      flex-wrap:wrap;\n",
              "      gap: 12px;\n",
              "    }\n",
              "\n",
              "    .colab-df-convert {\n",
              "      background-color: #E8F0FE;\n",
              "      border: none;\n",
              "      border-radius: 50%;\n",
              "      cursor: pointer;\n",
              "      display: none;\n",
              "      fill: #1967D2;\n",
              "      height: 32px;\n",
              "      padding: 0 0 0 0;\n",
              "      width: 32px;\n",
              "    }\n",
              "\n",
              "    .colab-df-convert:hover {\n",
              "      background-color: #E2EBFA;\n",
              "      box-shadow: 0px 1px 2px rgba(60, 64, 67, 0.3), 0px 1px 3px 1px rgba(60, 64, 67, 0.15);\n",
              "      fill: #174EA6;\n",
              "    }\n",
              "\n",
              "    [theme=dark] .colab-df-convert {\n",
              "      background-color: #3B4455;\n",
              "      fill: #D2E3FC;\n",
              "    }\n",
              "\n",
              "    [theme=dark] .colab-df-convert:hover {\n",
              "      background-color: #434B5C;\n",
              "      box-shadow: 0px 1px 3px 1px rgba(0, 0, 0, 0.15);\n",
              "      filter: drop-shadow(0px 1px 2px rgba(0, 0, 0, 0.3));\n",
              "      fill: #FFFFFF;\n",
              "    }\n",
              "  </style>\n",
              "\n",
              "      <script>\n",
              "        const buttonEl =\n",
              "          document.querySelector('#df-b0f749fd-acbb-4e66-bce3-39ec839e4d4d button.colab-df-convert');\n",
              "        buttonEl.style.display =\n",
              "          google.colab.kernel.accessAllowed ? 'block' : 'none';\n",
              "\n",
              "        async function convertToInteractive(key) {\n",
              "          const element = document.querySelector('#df-b0f749fd-acbb-4e66-bce3-39ec839e4d4d');\n",
              "          const dataTable =\n",
              "            await google.colab.kernel.invokeFunction('convertToInteractive',\n",
              "                                                     [key], {});\n",
              "          if (!dataTable) return;\n",
              "\n",
              "          const docLinkHtml = 'Like what you see? Visit the ' +\n",
              "            '<a target=\"_blank\" href=https://colab.research.google.com/notebooks/data_table.ipynb>data table notebook</a>'\n",
              "            + ' to learn more about interactive tables.';\n",
              "          element.innerHTML = '';\n",
              "          dataTable['output_type'] = 'display_data';\n",
              "          await google.colab.output.renderOutput(dataTable, element);\n",
              "          const docLink = document.createElement('div');\n",
              "          docLink.innerHTML = docLinkHtml;\n",
              "          element.appendChild(docLink);\n",
              "        }\n",
              "      </script>\n",
              "    </div>\n",
              "  </div>\n",
              "  "
            ],
            "text/plain": [
              "                                 placeName  \\\n",
              "placeFile                                    \n",
              "place_6431  Berman Museum of World History   \n",
              "place_2659            Milwaukee Art Museum   \n",
              "place_142              Museum of the Weird   \n",
              "place_691   Maryhill Museum and Stonehenge   \n",
              "place_2194          Roanoke Pinball Museum   \n",
              "place_2078      Mitsitam Native Foods Cafe   \n",
              "place_2835  American Museum of Western Art   \n",
              "place_4381              Grace Hopper's Bug   \n",
              "place_4622           American Space Museum   \n",
              "place_6239      The American Pigeon Museum   \n",
              "\n",
              "                                                    placeDesc  \\\n",
              "placeFile                                                       \n",
              "place_6431  The museum was started by an a Farley Berman, ...   \n",
              "place_2659  Like the Guggenheim in New York and the Oaklan...   \n",
              "place_142   The dime or dime store museum is by all accoun...   \n",
              "place_691   “What in Sam Hill?” This odd expression, of wh...   \n",
              "place_2194  In downtown Roanoke inside the “Center in the ...   \n",
              "place_2078  A visit to the National Mall in Washington, D....   \n",
              "place_2835  Housed in the old Navarre building across from...   \n",
              "place_4381  On September 9, 1947, Harvard’s Mark II Aiken ...   \n",
              "place_4622  This small space museum, located not far from ...   \n",
              "place_6239  Many people, especially in big cities, view pi...   \n",
              "\n",
              "                                                     placeURL  Similarity  \n",
              "placeFile                                                                  \n",
              "place_6431  https://www.atlasobscura.com/places/berman-mus...    0.575443  \n",
              "place_2659  https://www.atlasobscura.com/places/milwaukee-...    0.568692  \n",
              "place_142    https://www.atlasobscura.com/places/museum-weird    0.568396  \n",
              "place_691   https://www.atlasobscura.com/places/maryhill-m...    0.564857  \n",
              "place_2194  https://www.atlasobscura.com/places/roanoke-pi...    0.555003  \n",
              "place_2078  https://www.atlasobscura.com/places/mitsitam-n...    0.500000  \n",
              "place_2835  https://www.atlasobscura.com/places/american-m...    0.500000  \n",
              "place_4381  https://www.atlasobscura.com/places/grace-hopp...    0.500000  \n",
              "place_4622  https://www.atlasobscura.com/places/american-s...    0.500000  \n",
              "place_6239  https://www.atlasobscura.com/places/the-americ...    0.497860  "
            ]
          },
          "metadata": {},
          "output_type": "display_data"
        }
      ],
      "source": [
        "top_k_docs = HeapDocs(our_search_engine.query_with_our_similarity(\"american museum\", [\"placeName\", \"placeDesc\", \"placeURL\"], 10))"
      ]
    },
    {
      "cell_type": "markdown",
      "metadata": {
        "id": "MI_jMx5Yiql8"
      },
      "source": [
        "## Explain and Compare Results:"
      ]
    },
    {
      "cell_type": "markdown",
      "metadata": {
        "id": "WkdgNPg1i2v3"
      },
      "source": [
        "Looking at the results we notice that with our score we have reached better results:\n",
        "- All results from the engine with out score are museums.\n",
        "- In this results there are more actual museums. \n",
        "- With our score we are still able to find results that doesn't have museum in the title, but are strongly related to museums:\n",
        "  - Mitsitam Native Foods Cafe: a cafe inside the National Museum of the American Indian.\n",
        "  - Grace Hopper's Bug: an attraction inside the Smithsonian’s Museum of American History in Washington."
      ]
    },
    {
      "cell_type": "markdown",
      "metadata": {
        "id": "kBPqEYQSV-nf"
      },
      "source": [
        "# 4. Visualizing the most relevant places"
      ]
    },
    {
      "cell_type": "code",
      "execution_count": null,
      "metadata": {
        "id": "AyEqOq_aynbl"
      },
      "outputs": [],
      "source": [
        "number_docs = len(top_k_docs)\n",
        "map_df = df.loc[[top_k_docs.pop() for _ in range(len(top_k_docs))]].copy()\n",
        "\n",
        "map_df[\"City\"] = map_df[\"placeTags\"].apply(lambda x: x[0])\n",
        "map_df[\"Country\"] = map_df[\"placeTags\"].apply(lambda x: x[1])"
      ]
    },
    {
      "cell_type": "code",
      "execution_count": null,
      "metadata": {
        "colab": {
          "base_uri": "https://localhost:8080/",
          "height": 317
        },
        "id": "OUfEJAsfbpDG",
        "outputId": "b1b0eb5f-3ca2-4300-c42a-754ef0371ae1"
      },
      "outputs": [
        {
          "data": {
            "text/html": [
              "<html>\n",
              "<head><meta charset=\"utf-8\" /></head>\n",
              "<body>\n",
              "    <div>            <script src=\"https://cdnjs.cloudflare.com/ajax/libs/mathjax/2.7.5/MathJax.js?config=TeX-AMS-MML_SVG\"></script><script type=\"text/javascript\">if (window.MathJax) {MathJax.Hub.Config({SVG: {font: \"STIX-Web\"}});}</script>                <script type=\"text/javascript\">window.PlotlyConfig = {MathJaxConfig: 'local'};</script>\n",
              "        <script src=\"https://cdn.plot.ly/plotly-2.8.3.min.js\"></script>                <div id=\"6af10d46-2e37-453d-9452-82f5fcfd58b7\" class=\"plotly-graph-div\" style=\"height:300px; width:100%;\"></div>            <script type=\"text/javascript\">                                    window.PLOTLYENV=window.PLOTLYENV || {};                                    if (document.getElementById(\"6af10d46-2e37-453d-9452-82f5fcfd58b7\")) {                    Plotly.newPlot(                        \"6af10d46-2e37-453d-9452-82f5fcfd58b7\",                        [{\"customdata\":[[184,\"      840 Museum Dr. Anniston, Alabama, 36201 United States \",\"Anniston\",\"Alabama\"],[1647,\"      700 N. Art Museum Dr. Milwaukee, Wisconsin, 53202 United States \",\"Milwaukee\",\"Wisconsin\"],[1013,\"      Museum of the Weird 412 E 6th St. Austin, Texas, 78701 United States \",\"Austin\",\"Texas\"],[942,\"      35 Maryhill Museum Drive Goldendale, Washington, 98620 United States \",\"Goldendale\",\"Washington\"],[232,\"      One Market Square SE Roanoke Pinball Museum Roanoke, Virginia United States \",\"Roanoke\",\"Virginia\"],[747,\"      National Museum of the American Indian Fourth Street & Independence Ave., S.W. Washington, District of Columbia, 20560 United States \",\"Washington\",\"D.C.\"],[322,\"      1727 Tremont Place Denver, Colorado United States \",\"Denver\",\"Colorado\"],[110,\"      Smithsonian's Museum of American History 14th St and Constitution Ave, NW Washington, District of Columbia United States \",\"Washington\",\"D.C.\"],[315,\"      308 Pine Street Titusville, Florida United States \",\"Titusville\",\"Florida\"],[136,\"      2300 NE 63rd St Oklahoma City, Oklahoma, 73111 United States \",\"Oklahoma City\",\"Oklahoma\"]],\"hovertemplate\":\"<b>%{hovertext}</b><br><br>Number of visitors=%{marker.color}<br>Lat.=%{lat}<br>Long.=%{lon}<br>Address=%{customdata[1]}<br>City=%{customdata[2]}<br>Country=%{customdata[3]}<extra></extra>\",\"hovertext\":[\"Berman Museum of World History\",\"Milwaukee Art Museum\",\"Museum of the Weird\",\"Maryhill Museum and Stonehenge\",\"Roanoke Pinball Museum\",\"Mitsitam Native Foods Cafe\",\"American Museum of Western Art\",\"Grace Hopper's Bug\",\"American Space Museum\",\"The American Pigeon Museum\"],\"lat\":[33.6949,43.0385,30.267,45.6775,37.2715,38.8883,39.7447,38.8921,28.6105,35.5361],\"legendgroup\":\"\",\"lon\":[-85.8191,-87.8975,-97.7387,-120.8648,-79.9395,-77.0165,-104.9881,-77.032,-80.8087,-97.4703],\"marker\":{\"color\":[184,1647,1013,942,232,747,322,110,315,136],\"coloraxis\":\"coloraxis\",\"size\":[184,1647,1013,942,232,747,322,110,315,136],\"sizemode\":\"area\",\"sizeref\":4.1175},\"mode\":\"markers\",\"name\":\"\",\"showlegend\":false,\"subplot\":\"mapbox\",\"type\":\"scattermapbox\"}],                        {\"template\":{\"data\":{\"bar\":[{\"error_x\":{\"color\":\"#2a3f5f\"},\"error_y\":{\"color\":\"#2a3f5f\"},\"marker\":{\"line\":{\"color\":\"#E5ECF6\",\"width\":0.5},\"pattern\":{\"fillmode\":\"overlay\",\"size\":10,\"solidity\":0.2}},\"type\":\"bar\"}],\"barpolar\":[{\"marker\":{\"line\":{\"color\":\"#E5ECF6\",\"width\":0.5},\"pattern\":{\"fillmode\":\"overlay\",\"size\":10,\"solidity\":0.2}},\"type\":\"barpolar\"}],\"carpet\":[{\"aaxis\":{\"endlinecolor\":\"#2a3f5f\",\"gridcolor\":\"white\",\"linecolor\":\"white\",\"minorgridcolor\":\"white\",\"startlinecolor\":\"#2a3f5f\"},\"baxis\":{\"endlinecolor\":\"#2a3f5f\",\"gridcolor\":\"white\",\"linecolor\":\"white\",\"minorgridcolor\":\"white\",\"startlinecolor\":\"#2a3f5f\"},\"type\":\"carpet\"}],\"choropleth\":[{\"colorbar\":{\"outlinewidth\":0,\"ticks\":\"\"},\"type\":\"choropleth\"}],\"contour\":[{\"colorbar\":{\"outlinewidth\":0,\"ticks\":\"\"},\"colorscale\":[[0.0,\"#0d0887\"],[0.1111111111111111,\"#46039f\"],[0.2222222222222222,\"#7201a8\"],[0.3333333333333333,\"#9c179e\"],[0.4444444444444444,\"#bd3786\"],[0.5555555555555556,\"#d8576b\"],[0.6666666666666666,\"#ed7953\"],[0.7777777777777778,\"#fb9f3a\"],[0.8888888888888888,\"#fdca26\"],[1.0,\"#f0f921\"]],\"type\":\"contour\"}],\"contourcarpet\":[{\"colorbar\":{\"outlinewidth\":0,\"ticks\":\"\"},\"type\":\"contourcarpet\"}],\"heatmap\":[{\"colorbar\":{\"outlinewidth\":0,\"ticks\":\"\"},\"colorscale\":[[0.0,\"#0d0887\"],[0.1111111111111111,\"#46039f\"],[0.2222222222222222,\"#7201a8\"],[0.3333333333333333,\"#9c179e\"],[0.4444444444444444,\"#bd3786\"],[0.5555555555555556,\"#d8576b\"],[0.6666666666666666,\"#ed7953\"],[0.7777777777777778,\"#fb9f3a\"],[0.8888888888888888,\"#fdca26\"],[1.0,\"#f0f921\"]],\"type\":\"heatmap\"}],\"heatmapgl\":[{\"colorbar\":{\"outlinewidth\":0,\"ticks\":\"\"},\"colorscale\":[[0.0,\"#0d0887\"],[0.1111111111111111,\"#46039f\"],[0.2222222222222222,\"#7201a8\"],[0.3333333333333333,\"#9c179e\"],[0.4444444444444444,\"#bd3786\"],[0.5555555555555556,\"#d8576b\"],[0.6666666666666666,\"#ed7953\"],[0.7777777777777778,\"#fb9f3a\"],[0.8888888888888888,\"#fdca26\"],[1.0,\"#f0f921\"]],\"type\":\"heatmapgl\"}],\"histogram\":[{\"marker\":{\"pattern\":{\"fillmode\":\"overlay\",\"size\":10,\"solidity\":0.2}},\"type\":\"histogram\"}],\"histogram2d\":[{\"colorbar\":{\"outlinewidth\":0,\"ticks\":\"\"},\"colorscale\":[[0.0,\"#0d0887\"],[0.1111111111111111,\"#46039f\"],[0.2222222222222222,\"#7201a8\"],[0.3333333333333333,\"#9c179e\"],[0.4444444444444444,\"#bd3786\"],[0.5555555555555556,\"#d8576b\"],[0.6666666666666666,\"#ed7953\"],[0.7777777777777778,\"#fb9f3a\"],[0.8888888888888888,\"#fdca26\"],[1.0,\"#f0f921\"]],\"type\":\"histogram2d\"}],\"histogram2dcontour\":[{\"colorbar\":{\"outlinewidth\":0,\"ticks\":\"\"},\"colorscale\":[[0.0,\"#0d0887\"],[0.1111111111111111,\"#46039f\"],[0.2222222222222222,\"#7201a8\"],[0.3333333333333333,\"#9c179e\"],[0.4444444444444444,\"#bd3786\"],[0.5555555555555556,\"#d8576b\"],[0.6666666666666666,\"#ed7953\"],[0.7777777777777778,\"#fb9f3a\"],[0.8888888888888888,\"#fdca26\"],[1.0,\"#f0f921\"]],\"type\":\"histogram2dcontour\"}],\"mesh3d\":[{\"colorbar\":{\"outlinewidth\":0,\"ticks\":\"\"},\"type\":\"mesh3d\"}],\"parcoords\":[{\"line\":{\"colorbar\":{\"outlinewidth\":0,\"ticks\":\"\"}},\"type\":\"parcoords\"}],\"pie\":[{\"automargin\":true,\"type\":\"pie\"}],\"scatter\":[{\"marker\":{\"colorbar\":{\"outlinewidth\":0,\"ticks\":\"\"}},\"type\":\"scatter\"}],\"scatter3d\":[{\"line\":{\"colorbar\":{\"outlinewidth\":0,\"ticks\":\"\"}},\"marker\":{\"colorbar\":{\"outlinewidth\":0,\"ticks\":\"\"}},\"type\":\"scatter3d\"}],\"scattercarpet\":[{\"marker\":{\"colorbar\":{\"outlinewidth\":0,\"ticks\":\"\"}},\"type\":\"scattercarpet\"}],\"scattergeo\":[{\"marker\":{\"colorbar\":{\"outlinewidth\":0,\"ticks\":\"\"}},\"type\":\"scattergeo\"}],\"scattergl\":[{\"marker\":{\"colorbar\":{\"outlinewidth\":0,\"ticks\":\"\"}},\"type\":\"scattergl\"}],\"scattermapbox\":[{\"marker\":{\"colorbar\":{\"outlinewidth\":0,\"ticks\":\"\"}},\"type\":\"scattermapbox\"}],\"scatterpolar\":[{\"marker\":{\"colorbar\":{\"outlinewidth\":0,\"ticks\":\"\"}},\"type\":\"scatterpolar\"}],\"scatterpolargl\":[{\"marker\":{\"colorbar\":{\"outlinewidth\":0,\"ticks\":\"\"}},\"type\":\"scatterpolargl\"}],\"scatterternary\":[{\"marker\":{\"colorbar\":{\"outlinewidth\":0,\"ticks\":\"\"}},\"type\":\"scatterternary\"}],\"surface\":[{\"colorbar\":{\"outlinewidth\":0,\"ticks\":\"\"},\"colorscale\":[[0.0,\"#0d0887\"],[0.1111111111111111,\"#46039f\"],[0.2222222222222222,\"#7201a8\"],[0.3333333333333333,\"#9c179e\"],[0.4444444444444444,\"#bd3786\"],[0.5555555555555556,\"#d8576b\"],[0.6666666666666666,\"#ed7953\"],[0.7777777777777778,\"#fb9f3a\"],[0.8888888888888888,\"#fdca26\"],[1.0,\"#f0f921\"]],\"type\":\"surface\"}],\"table\":[{\"cells\":{\"fill\":{\"color\":\"#EBF0F8\"},\"line\":{\"color\":\"white\"}},\"header\":{\"fill\":{\"color\":\"#C8D4E3\"},\"line\":{\"color\":\"white\"}},\"type\":\"table\"}]},\"layout\":{\"annotationdefaults\":{\"arrowcolor\":\"#2a3f5f\",\"arrowhead\":0,\"arrowwidth\":1},\"autotypenumbers\":\"strict\",\"coloraxis\":{\"colorbar\":{\"outlinewidth\":0,\"ticks\":\"\"}},\"colorscale\":{\"diverging\":[[0,\"#8e0152\"],[0.1,\"#c51b7d\"],[0.2,\"#de77ae\"],[0.3,\"#f1b6da\"],[0.4,\"#fde0ef\"],[0.5,\"#f7f7f7\"],[0.6,\"#e6f5d0\"],[0.7,\"#b8e186\"],[0.8,\"#7fbc41\"],[0.9,\"#4d9221\"],[1,\"#276419\"]],\"sequential\":[[0.0,\"#0d0887\"],[0.1111111111111111,\"#46039f\"],[0.2222222222222222,\"#7201a8\"],[0.3333333333333333,\"#9c179e\"],[0.4444444444444444,\"#bd3786\"],[0.5555555555555556,\"#d8576b\"],[0.6666666666666666,\"#ed7953\"],[0.7777777777777778,\"#fb9f3a\"],[0.8888888888888888,\"#fdca26\"],[1.0,\"#f0f921\"]],\"sequentialminus\":[[0.0,\"#0d0887\"],[0.1111111111111111,\"#46039f\"],[0.2222222222222222,\"#7201a8\"],[0.3333333333333333,\"#9c179e\"],[0.4444444444444444,\"#bd3786\"],[0.5555555555555556,\"#d8576b\"],[0.6666666666666666,\"#ed7953\"],[0.7777777777777778,\"#fb9f3a\"],[0.8888888888888888,\"#fdca26\"],[1.0,\"#f0f921\"]]},\"colorway\":[\"#636efa\",\"#EF553B\",\"#00cc96\",\"#ab63fa\",\"#FFA15A\",\"#19d3f3\",\"#FF6692\",\"#B6E880\",\"#FF97FF\",\"#FECB52\"],\"font\":{\"color\":\"#2a3f5f\"},\"geo\":{\"bgcolor\":\"white\",\"lakecolor\":\"white\",\"landcolor\":\"#E5ECF6\",\"showlakes\":true,\"showland\":true,\"subunitcolor\":\"white\"},\"hoverlabel\":{\"align\":\"left\"},\"hovermode\":\"closest\",\"mapbox\":{\"style\":\"light\"},\"paper_bgcolor\":\"white\",\"plot_bgcolor\":\"#E5ECF6\",\"polar\":{\"angularaxis\":{\"gridcolor\":\"white\",\"linecolor\":\"white\",\"ticks\":\"\"},\"bgcolor\":\"#E5ECF6\",\"radialaxis\":{\"gridcolor\":\"white\",\"linecolor\":\"white\",\"ticks\":\"\"}},\"scene\":{\"xaxis\":{\"backgroundcolor\":\"#E5ECF6\",\"gridcolor\":\"white\",\"gridwidth\":2,\"linecolor\":\"white\",\"showbackground\":true,\"ticks\":\"\",\"zerolinecolor\":\"white\"},\"yaxis\":{\"backgroundcolor\":\"#E5ECF6\",\"gridcolor\":\"white\",\"gridwidth\":2,\"linecolor\":\"white\",\"showbackground\":true,\"ticks\":\"\",\"zerolinecolor\":\"white\"},\"zaxis\":{\"backgroundcolor\":\"#E5ECF6\",\"gridcolor\":\"white\",\"gridwidth\":2,\"linecolor\":\"white\",\"showbackground\":true,\"ticks\":\"\",\"zerolinecolor\":\"white\"}},\"shapedefaults\":{\"line\":{\"color\":\"#2a3f5f\"}},\"ternary\":{\"aaxis\":{\"gridcolor\":\"white\",\"linecolor\":\"white\",\"ticks\":\"\"},\"baxis\":{\"gridcolor\":\"white\",\"linecolor\":\"white\",\"ticks\":\"\"},\"bgcolor\":\"#E5ECF6\",\"caxis\":{\"gridcolor\":\"white\",\"linecolor\":\"white\",\"ticks\":\"\"}},\"title\":{\"x\":0.05},\"xaxis\":{\"automargin\":true,\"gridcolor\":\"white\",\"linecolor\":\"white\",\"ticks\":\"\",\"title\":{\"standoff\":15},\"zerolinecolor\":\"white\",\"zerolinewidth\":2},\"yaxis\":{\"automargin\":true,\"gridcolor\":\"white\",\"linecolor\":\"white\",\"ticks\":\"\",\"title\":{\"standoff\":15},\"zerolinecolor\":\"white\",\"zerolinewidth\":2}}},\"mapbox\":{\"domain\":{\"x\":[0.0,1.0],\"y\":[0.0,1.0]},\"center\":{\"lat\":37.16211,\"lon\":-90.95752},\"zoom\":2.5,\"style\":\"open-street-map\"},\"coloraxis\":{\"colorbar\":{\"title\":{\"text\":\"Number of visitors\"}},\"colorscale\":[[0.0,\"#0d0887\"],[0.1111111111111111,\"#46039f\"],[0.2222222222222222,\"#7201a8\"],[0.3333333333333333,\"#9c179e\"],[0.4444444444444444,\"#bd3786\"],[0.5555555555555556,\"#d8576b\"],[0.6666666666666666,\"#ed7953\"],[0.7777777777777778,\"#fb9f3a\"],[0.8888888888888888,\"#fdca26\"],[1.0,\"#f0f921\"]]},\"legend\":{\"tracegroupgap\":0,\"itemsizing\":\"constant\"},\"margin\":{\"t\":0,\"r\":0,\"l\":0,\"b\":0},\"height\":300},                        {\"responsive\": true}                    ).then(function(){\n",
              "                            \n",
              "var gd = document.getElementById('6af10d46-2e37-453d-9452-82f5fcfd58b7');\n",
              "var x = new MutationObserver(function (mutations, observer) {{\n",
              "        var display = window.getComputedStyle(gd).display;\n",
              "        if (!display || display === 'none') {{\n",
              "            console.log([gd, 'removed!']);\n",
              "            Plotly.purge(gd);\n",
              "            observer.disconnect();\n",
              "        }}\n",
              "}});\n",
              "\n",
              "// Listen for the removal of the full notebook cells\n",
              "var notebookContainer = gd.closest('#notebook-container');\n",
              "if (notebookContainer) {{\n",
              "    x.observe(notebookContainer, {childList: true});\n",
              "}}\n",
              "\n",
              "// Listen for the clearing of the current output cell\n",
              "var outputEl = gd.closest('.output');\n",
              "if (outputEl) {{\n",
              "    x.observe(outputEl, {childList: true});\n",
              "}}\n",
              "\n",
              "                        })                };                            </script>        </div>\n",
              "</body>\n",
              "</html>"
            ]
          },
          "metadata": {},
          "output_type": "display_data"
        }
      ],
      "source": [
        "fig = px.scatter_mapbox(map_df, lat=\"placeAlt\",\n",
        "                        lon=\"placeLong\",\n",
        "                        hover_name=\"placeName\",\n",
        "                        hover_data=[\"numPeopleVisited\",\n",
        "                                    \"placeAddress\",\n",
        "                                    \"City\",\n",
        "                                    \"Country\"],\n",
        "                        color=\"numPeopleVisited\",\n",
        "                        zoom=2.5,\n",
        "                        height=300,\n",
        "                        size=\"numPeopleVisited\",\n",
        "                        labels={\"placeAlt\":\"Lat.\",\n",
        "                                \"placeLong\":\"Long.\",\n",
        "                                \"placeAddress\":\"Address\",\n",
        "                                \"numPeopleVisited\":\"Number of visitors\"})\n",
        "fig.update_layout(mapbox_style=\"open-street-map\")\n",
        "fig.update_layout(margin={\"r\":0,\"t\":0,\"l\":0,\"b\":0})\n",
        "fig.show()"
      ]
    },
    {
      "cell_type": "markdown",
      "metadata": {
        "id": "-EzfnuOz2-lV"
      },
      "source": [
        "Here an example of the map visualization:\n",
        "\n",
        "![](https://datasciencemep27.s3.amazonaws.com/map.png)"
      ]
    },
    {
      "cell_type": "markdown",
      "metadata": {
        "id": "4gbl7wpyUhZG"
      },
      "source": [
        "# 6. Command Line Question:"
      ]
    },
    {
      "cell_type": "markdown",
      "metadata": {
        "id": "seqLtfU7Z-6p"
      },
      "source": [
        "As done in the previous assignment, we encourage using the command as a feature that Data Scientists must master.\n",
        "\n",
        "In this question, you should use command line tools such as grep (or any other commands) to answer the following question:\n",
        "\n",
        "- For the countries Italy, Spain, France, England, and the United States, report the following (using the information scraped in point 1.3):\n",
        "\n",
        "  1. How many places can be found in each country?\n",
        "\n",
        "  2. How many people, on average, have visited the places in each country?\n",
        "\n",
        "  3. How many people in total want to visit the places in each country?\n",
        "\n",
        "**Note**: You may work on this question in any environment (AWS, your PC command line, Jupyter notebook, etc.), but the final script must be placed in CommandLine.sh, which must be executable."
      ]
    },
    {
      "cell_type": "code",
      "execution_count": null,
      "metadata": {
        "id": "wI7S-Ydefaai"
      },
      "outputs": [],
      "source": [
        "sh = \"\"\"\n",
        "# We check if the directory where the .tsv files exists, otherwise we download it\n",
        "if [ ! -d places/ ]; then\n",
        "\n",
        "  echo \"We download the files:\"\n",
        "\n",
        "  # Download the folder with all the .tsv files\n",
        "  wget https://datasciencemep27.s3.amazonaws.com/places.zip\n",
        "\n",
        "  # Unzip the places.zip file\n",
        "  unzip -q places.zip\n",
        "\n",
        "  # Remove the places.zip file\n",
        "  rm places.zip\n",
        "fi\n",
        "\n",
        "#concatenate the tsv of each scraped place to have only one file mantaining the header of the first file only\n",
        "head -n 1 places/place_1.tsv > merged.tsv\n",
        "for F in places/place*.tsv ; do tail -n +2 ${F} >> merged.tsv ; done\n",
        "\n",
        "#extract the columns of interest for the analysis \n",
        "cut -f3,4,8 merged.tsv > columns.tsv\n",
        "#count the number of rows containing the string corresponding to the name of the country to obtain the number of places\n",
        "echo 'The number of places in England are:'\n",
        "grep -c 'England' columns.tsv\n",
        "echo 'The number of places in Italy are:'\n",
        "grep -c 'Italy' columns.tsv\n",
        "echo 'The number of places in Spain are:'\n",
        "grep -c 'Spain' columns.tsv\n",
        "echo 'The number of places in France are:'\n",
        "grep -c 'France' columns.tsv\n",
        "echo 'The number of places in the United States are:'\n",
        "grep -c 'United States' columns.tsv\n",
        "\n",
        "#extract the rows corresponding to places in the selected countries\n",
        "\n",
        "awk -F\"\\t\" '/England/ {print $0}' columns.tsv > england.tsv\n",
        "awk -F\"\\t\" '/Italy/ {print $0}' columns.tsv > italy.tsv \n",
        "awk -F\"\\t\" '/Spain/ {print $0}' columns.tsv > spain.tsv\n",
        "awk -F\"\\t\" '/France/ {print $0}' columns.tsv > france.tsv\n",
        "awk -F\"\\t\" '/United States/ {print $0}' columns.tsv > united_states.tsv\n",
        "\n",
        "#compute the average of the number of people who visited places in each country\n",
        "\n",
        "echo 'The average number of people who visited places in England is:'\n",
        "awk '{s+=$1} END {printf(\"%0.f\\n\", s/NR);}' england.tsv\n",
        "echo 'The average number of people who visited places in Italy is:'\n",
        "awk '{s+=$1} END {printf(\"%0.f\\n\", s/NR);}' italy.tsv \n",
        "echo 'The average number of people who visited places in Spain is:'\n",
        "awk '{s+=$1} END {printf(\"%0.f\\n\", s/NR);}' spain.tsv\n",
        "echo 'The average number of people who visited places in France is:'\n",
        "awk '{s+=$1} END {printf(\"%.0f\\n\", s/NR);}' france.tsv\n",
        "echo 'The average number of people who visited places in the United States is:'\n",
        "awk '{s+=$1} END {printf(\"%.0f\\n\", s/NR);}' united_states.tsv\n",
        "\n",
        "#sum all the values corresponding to the number of people wanting to visit places in each country\n",
        " \n",
        "echo 'The total number of people wanting to visit places in England is:'\n",
        "awk '{s+=$2} END {print s}' england.tsv\n",
        "echo 'The total number of people wanting to visit places in Italy is:'\n",
        "awk '{s+=$2} END {print s}' italy.tsv \n",
        "echo 'The total number of people wanting to visit places in Spain is:'\n",
        "awk '{s+=$2} END {print s}' spain.tsv\n",
        "echo 'The total number of people wanting to visit places in France is:'\n",
        "awk '{s+=$2} END {print s}' france.tsv\n",
        "echo 'The total number of people wanting to visit places in the United States is:'\n",
        "awk '{s+=$2} END {print s}' united_states.tsv\n",
        "\"\"\"\n",
        "\n",
        "with open('CommandLine.sh', 'w') as f:\n",
        "  f.write(sh)\n"
      ]
    },
    {
      "cell_type": "markdown",
      "metadata": {
        "id": "iLQaYmIGVAIk"
      },
      "source": [
        "We make `CommandLine.sh` executable:"
      ]
    },
    {
      "cell_type": "code",
      "execution_count": null,
      "metadata": {
        "colab": {
          "base_uri": "https://localhost:8080/"
        },
        "id": "84y82cb4U0fC",
        "outputId": "422aca45-12f8-48e7-a6d5-fa8b56a3333e"
      },
      "outputs": [
        {
          "data": {
            "text/plain": [
              "0"
            ]
          },
          "execution_count": 53,
          "metadata": {},
          "output_type": "execute_result"
        }
      ],
      "source": [
        "os.system(\"chmod +x CommandLine.sh\")"
      ]
    },
    {
      "cell_type": "markdown",
      "metadata": {
        "id": "PCNDXCX4VFYr"
      },
      "source": [
        "We run the shell script with:"
      ]
    },
    {
      "cell_type": "code",
      "execution_count": null,
      "metadata": {
        "colab": {
          "base_uri": "https://localhost:8080/"
        },
        "id": "CXQjBM6geY1o",
        "outputId": "3f8e5be6-928b-46c2-c4b6-ba91c88b416d"
      },
      "outputs": [
        {
          "name": "stdout",
          "output_type": "stream",
          "text": [
            "The number of places in England are:\n",
            "364\n",
            "The number of places in Italy are:\n",
            "210\n",
            "The number of places in Spain are:\n",
            "91\n",
            "The number of places in France are:\n",
            "206\n",
            "The number of places in the United States are:\n",
            "4612\n",
            "The average number of people who visited places in England is:\n",
            "The average number of people who visited places in Italy is:\n",
            "The average number of people who visited places in Spain is:\n",
            "The average number of people who visited places in France is:\n",
            "The average number of people who visited places in the United States is:\n",
            "The total number of people wanting to visit places in England is:\n",
            "386628\n",
            "The total number of people wanting to visit places in Italy is:\n",
            "182271\n",
            "The total number of people wanting to visit places in Spain is:\n",
            "71216\n",
            "The total number of people wanting to visit places in France is:\n",
            "204659\n",
            "The total number of people wanting to visit places in the United States is:\n",
            "4333791\n",
            "\n"
          ]
        }
      ],
      "source": [
        "print(os.popen('./CommandLine.sh').read())"
      ]
    },
    {
      "cell_type": "markdown",
      "metadata": {
        "id": "b7aff269-05bd-4443-b1c2-21cf151700a5"
      },
      "source": [
        "## 7. Theoretical question"
      ]
    },
    {
      "cell_type": "markdown",
      "metadata": {
        "id": "BYsVFJ92dzBp"
      },
      "source": [
        "We download the ApplicantsInfo.txt file:"
      ]
    },
    {
      "cell_type": "code",
      "execution_count": null,
      "metadata": {
        "id": "UE7Cb1RRdxdx"
      },
      "outputs": [],
      "source": [
        "my_input = wget.download(\"https://adm2022.s3.amazonaws.com/ApplicantsInfo.txt\")"
      ]
    },
    {
      "cell_type": "markdown",
      "metadata": {
        "id": "e66e2356-3333-457a-b939-a8009cec86a2"
      },
      "source": [
        "### 1. Try solving the problem mentioned above using three different sorting algorithms (do not use any MapReduce algorithm). (Note: Built-in Python functions (like .mean, .sort, etc.) are not allowed to be used. You must implement the algorithms from scratch)."
      ]
    },
    {
      "cell_type": "markdown",
      "metadata": {
        "id": "0fd78b6c-7028-4bfc-a797-858fbad1c4c1"
      },
      "source": [
        "In every algorithm we inserted the file opening and the writing of the new one because, in this way, we can evaluate the time taken for each oh them."
      ]
    },
    {
      "cell_type": "markdown",
      "metadata": {
        "id": "2acf569b-26a0-4e49-b434-f756635cfe71"
      },
      "source": [
        "### Our Bubble Sort \n",
        "\n",
        "This algorithm arranges the values by iterating over the list multiple times, causing larger values to bubble to the top or end of the list. To obtain the ascending order two successive elements are compared with each other, and if the left element is larger than the right one they are swapped. To obtain the reversed order, the descending one will do the viceversa."
      ]
    },
    {
      "cell_type": "code",
      "execution_count": null,
      "metadata": {
        "id": "7e9008c0-e51f-4c07-8651-1258193e31c6"
      },
      "outputs": [],
      "source": [
        "def our_bubbleSort(file_name):             # the function takes in input the name of the file\n",
        "    \n",
        "    with open(file_name, \"r\") as file:     # open the file and read all the lines\n",
        "        lines = file.readlines()\n",
        "\n",
        "    for line in lines[0:1]:                # take the first line and we save number of students and number of grades\n",
        "        n,m = map(int,line.split())\n",
        "    \n",
        "    if n< 0 or n> 50000 or m < 1 or m > 1000:    # do a check on the given input\n",
        "        return 'insert a valid input'\n",
        "    \n",
        "    theList = []                                   # inizialize an empty list to store students and their mean\n",
        "    \n",
        "    # Now we create a list of lists where the inner lists contains student's name and surname\n",
        "    # and the mean of his grades. At the end of the process theList will contain n lists.\n",
        "    \n",
        "    for L in lines[1:]:\n",
        "        line = L.split()\n",
        "        line = line[0:2] + list(map(int, line[2:]))\n",
        "        somma = 0\n",
        "        for i in line[2:]:\n",
        "            somma += i\n",
        "        theList.append([line[0] + ' ' + line[1]] + [round(somma/len(line[2:]),2)])\n",
        "        \n",
        "    # Looping from size of the list from last index[-1] to index [0] because we want to sort\n",
        "    # the students on their average points in descending order\n",
        "    \n",
        "    for i in range(n-1, 0, -1):\n",
        "        for j in range(i):\n",
        "            if theList[j][0] > theList[j + 1][0]:\n",
        "                theList[j], theList[j + 1] = theList[j + 1], theList[j]             \n",
        "    \n",
        "    # Now we want to sort the students on their name and surname in\n",
        "    # ascending order to have the final sorted list  \n",
        "    for i in range(n-1,0,-1):\n",
        "        for j in range(i):\n",
        "            if theList[j][1] < theList[j+1][1]:\n",
        "                tmp = theList[j]\n",
        "                theList[j] = theList[j+1]\n",
        "                theList[j+1] = tmp\n",
        "                \n",
        "    file_out = open(\"RankingList.txt\",\"w\")                         # open a new file with write mode\n",
        "    \n",
        "    for student in theList:\n",
        "        file_out.write(student[0] + ' ' + str(student[1]) + '\\n')  # write all the line in the new file in the correct format\n",
        "        \n",
        "    file_out.close()                                               # is important to close the file\n",
        "    \n",
        "    return None"
      ]
    },
    {
      "cell_type": "markdown",
      "metadata": {
        "id": "b973c4c5-6263-44bd-88b1-b38844d7fbb1"
      },
      "source": [
        "#### If you want to try the algorithm and generate the Ranking.txt, uncomment the following cell"
      ]
    },
    {
      "cell_type": "code",
      "execution_count": null,
      "metadata": {
        "id": "4d61035f-a55f-435a-8804-b17e62471582"
      },
      "outputs": [],
      "source": [
        "#our_bubbleSort(my_input)"
      ]
    },
    {
      "cell_type": "markdown",
      "metadata": {
        "id": "0e65a6ad-5e88-4359-b4e5-09f03d3fe1ab"
      },
      "source": [
        "### Our Insertion Sort\n",
        "\n",
        "The insertion sort mantains a collection of sorted items and a collection of item to be sorted within the same sequence structure. The algorithm keeps the list of sorted items at the front of the sequence and picks the next unsorted item from the first of those yet to be positioned. To position the next item, the correct spost within the sequence of sorted items is found by performing a search. After finding the proper position, the slot has to be opened by shifting the items down one position. \n"
      ]
    },
    {
      "cell_type": "code",
      "execution_count": null,
      "metadata": {
        "id": "f9fee4c2-7856-4844-8074-f7ece3c764d2"
      },
      "outputs": [],
      "source": [
        "def our_InsertionSort(file_name):               # the function takes in input the name of the file\n",
        "    \n",
        "    with open(file_name, \"r\") as file:          # open the file and read all the lines\n",
        "        lines = file.readlines()\n",
        "\n",
        "    for line in lines[0:1]:                     # take the first line and we save number of students and number of grades\n",
        "        n,m = map(int,line.split())\n",
        "    \n",
        "    # we do a check on the given input\n",
        "    \n",
        "    if n< 0 or n> 50000 or m < 1 or m > 1000:    # do a check on the given input\n",
        "        return 'insert a valid input'\n",
        "    \n",
        "    theList = []                                  # inizialize an empty list to store students and their mean\n",
        "    \n",
        "    \n",
        "    # Now we create a list of lists where the inner list contain student's name and surname\n",
        "    # and the mean of his grades. At the end of the process theList will contain n list. \n",
        "    \n",
        "\n",
        "    for L in lines[1:]:\n",
        "        line = L.split()\n",
        "        line = line[0:2] + list(map(int, line[2:]))\n",
        "        somma = 0\n",
        "        for i in line[2:]:\n",
        "            somma += i\n",
        "        theList.append([line[0] + ' ' + line[1]] + [round(somma/len(line[2:]),2)])\n",
        "        \n",
        "        \n",
        "    # Looping from size of the list from 1 to n and we want to sort\n",
        "    # the students on their name and surname in ascending order  \n",
        "    \n",
        "    for i in range(1,n):\n",
        "        value = theList[i]\n",
        "        pos = i\n",
        "        while pos > 0 and value[0] < theList[pos-1][0]:\n",
        "            theList[pos] = theList[pos-1]\n",
        "            pos -= 1\n",
        "        theList[pos] = value\n",
        "    \n",
        "    # Looping from size of the list from 1 to n and we want to sort\n",
        "    # the students on their average points in descending order  \n",
        "    \n",
        "    for i in range(1, n):\n",
        "        temp = theList[i]\n",
        "        # Shift elements of array[0 to i-1], that are\n",
        "        # greater than temp, to one position ahead\n",
        "        # of their current position\n",
        "        j = i-1\n",
        "        while j >= 0 and temp[1] > theList[j][1]:\n",
        "                theList[j+1] = theList[j]\n",
        "                j -= 1\n",
        "        theList[j+1] = temp\n",
        "    \n",
        "    file_out = open(\"RankingList.txt\",\"w\")                        # open a new file with write mode\n",
        "    \n",
        "    for student in theList:\n",
        "        file_out.write(student[0] + ' ' + str(student[1]) + '\\n') # write all the line in the new file in the correct format\n",
        "        \n",
        "        \n",
        "    file_out.close()                                              # is important to close the file\n",
        "    \n",
        "    return None\n",
        "    "
      ]
    },
    {
      "cell_type": "markdown",
      "metadata": {
        "id": "3b12638f-517d-471f-805b-e38d6380813f"
      },
      "source": [
        "#### If you want to try the algorithm and generate the Ranking.txt, uncomment the following cell"
      ]
    },
    {
      "cell_type": "code",
      "execution_count": null,
      "metadata": {
        "id": "ccdb14dd-a465-4400-b370-11afa90ef6a9"
      },
      "outputs": [],
      "source": [
        "#our_InsertionSort(my_input)"
      ]
    },
    {
      "cell_type": "markdown",
      "metadata": {
        "id": "afbdca74-0daa-4420-960a-af90b511c434"
      },
      "source": [
        "### Our Quick Sort"
      ]
    },
    {
      "cell_type": "markdown",
      "metadata": {
        "id": "09cdf5bd-f974-4122-b978-24bbb214106a"
      },
      "source": [
        "Quicksort works according to the \"divide and conquer\" principle:\n",
        "\n",
        "First, we divide the elements to be sorted into two sections - one with small elements and one with large elements.\n",
        "The so-called pivot element determines which elements are small and which are large. The pivot element can be any element from the input array. \n",
        "\n",
        "The pivot strategy determines which one is chosen, in our algorithm we use the \"last element\" pivot strategy\n",
        "\n",
        "The array will be rearranged so that:\n",
        "\n",
        "- the elements that are smaller than the pivot element end up in the left section,\n",
        "- the elements that are larger than the pivot element end up in the right section,\n",
        "- the pivot element is positioned between the two sections - which also is its final position."
      ]
    },
    {
      "cell_type": "code",
      "execution_count": null,
      "metadata": {
        "id": "858ad685-0af1-435d-b483-79c6d3675b9f"
      },
      "outputs": [],
      "source": [
        "def partition(array, low, high):\n",
        "    \n",
        "    # Choose the rightmost element as pivot              # this is the strategy called \"last element\" pivot\n",
        "    pivot = array[high]\n",
        "\n",
        "    # Pointer for greater element\n",
        "    i = low - 1\n",
        "\n",
        "    # Traverse through all elements\n",
        "    # compare each element with pivot\n",
        "    for j in range(low, high):\n",
        "        if array[j][1] > pivot[1]:                      # doing the first check on the average grade of the students\n",
        "            i = i + 1\n",
        "            (array[i], array[j]) = (array[j], array[i])\n",
        "        elif array[j][1] == pivot[1]:                   # if the average between the element in position j and the average of\n",
        "                                                        # the pivot element is equal is needed another check evaluation to sort\n",
        "                                                        # by the name and surname in ascending order\n",
        "                \n",
        "            if array[j][0] < pivot[0]:                 # now we want to swap the elements of the array only if the string name                                          #\n",
        "                i = i + 1                                     # and surname of the element j results lower than the string name and \n",
        "                (array[i], array[j]) = (array[j], array[i])   # surname of the element chosen as pivot\n",
        "    \n",
        "    (array[i + 1], array[high]) = (array[high], array[i + 1])\n",
        "    \n",
        "    # Return the position from where partition is done\n",
        "    return i + 1\n",
        "\n",
        "\n",
        "def quick(array, low, high):\n",
        "    if low < high:\n",
        "\n",
        "    # Find pivot element such that\n",
        "    # element smaller than pivot are on the left\n",
        "    # element greater than pivot are on the right\n",
        "        pi = partition(array, low, high)\n",
        "\n",
        "        # Recursive call on the left of pivot\n",
        "        quick(array, low, pi - 1)\n",
        "\n",
        "        # Recursive call on the right of pivot\n",
        "        quick(array, pi + 1, high)\n",
        "    \n",
        "\n",
        "def our_quickSort(file_name):\n",
        "    \n",
        "    with open(file_name, \"r\") as file: \n",
        "        lines = file.readlines()\n",
        "\n",
        "    for line in lines[0:1]:\n",
        "        n,m = map(int,line.split())\n",
        "    \n",
        "    if n< 0 or n> 50000 or m < 1 or m > 1000:\n",
        "        return 'insert a valid input'\n",
        "    \n",
        "    theList = []\n",
        "    \n",
        "    # Now we create a list of lists where the inner list contain student's name and surname\n",
        "    # and the mean of his grades. At the end of the process theList will contain n list.\n",
        "    \n",
        "    for L in lines[1:]:\n",
        "        line = L.split()\n",
        "        line = line[0:2] + list(map(int, line[2:]))\n",
        "        somma = 0\n",
        "        for i in line[2:]:\n",
        "             somma += i\n",
        "        theList.append([line[0] + ' ' + line[1]] + [round(somma/len(line[2:]),2)])\n",
        "        \n",
        "    quick(theList, 0, len(theList)-1)\n",
        "    \n",
        "    file_out = open(\"RankingList.txt\",\"w\") #write mode\n",
        "    \n",
        "    for student in theList:\n",
        "        file_out.write(student[0] + ' ' + str(student[1]) + '\\n')\n",
        "        \n",
        "    file_out.close()\n",
        "    \n",
        "    return None\n"
      ]
    },
    {
      "cell_type": "markdown",
      "metadata": {
        "id": "9447691f-7cb4-45f7-8aae-a9e8fef4836d"
      },
      "source": [
        "#### If you want to try the algorithm and generate the Ranking.txt, uncomment the following cell"
      ]
    },
    {
      "cell_type": "code",
      "execution_count": null,
      "metadata": {
        "id": "f0ff320a-42fc-4f2c-a5dd-184a267cc9b1"
      },
      "outputs": [],
      "source": [
        "#our_quickSort(my_input)"
      ]
    },
    {
      "cell_type": "markdown",
      "metadata": {
        "id": "f7a5dd9b-5c4e-400e-b843-b846a85daa04"
      },
      "source": [
        "### 2. What is the time complexity of each algorithm you have used?"
      ]
    },
    {
      "cell_type": "markdown",
      "metadata": {
        "id": "fed59ddf-cf41-44a5-80bb-9a5c91b72ecf"
      },
      "source": [
        "## Time complexity of Our BubbleSort\n",
        "The algorithm is mainly composed by 3 nested for loop composed each one by 2 loops. The first nested loop is used to calculate the mean of the grades of the students and this operation takes $O(nm)$ where $n$ is the number of students and $m$ is the number of grades. The second nested loop is used to sort the students in descending order by their average grade and it takes $O(n^2)$ and the third nested loop is used to sort the students in ascending order by their name and surname and this requires again $O(n^2)$. We used two times the generic bubble sort algorithm to respect the two different direction of ordering.  <br>\n",
        "\n",
        "$$T(n) = O(nm) + O(n^2) + O(n^2) = O(n^2)$$"
      ]
    },
    {
      "cell_type": "markdown",
      "metadata": {
        "id": "0aeff0ae-6d5d-45ad-ba39-cb181085ac43"
      },
      "source": [
        "## Time complexity of Our Insertion Sort\n",
        "The algorithm is mainly composed by 3 nested loops composed each one by 2 loops. The first nested loop is used to calculate the mean of the grades of the students and this operation takes $O(nm)$ where $n$ is the number of students and $m$ is the number of grades. The second nested loop is used to sort the students in  ascending order by their name and surname and it takes $O(n^2)$ .The third nested loop is used to sort the students in descending order by their average grade and this requires again $O(n^2)$. In this algorithm, in the last both cases the inner loop is a while loop. We used two times the generic bubble sort algorithm to respect the two different direction of ordering, but this time in reverse order from the previous algorithm due the nature and logic of the insertion sort.\n",
        "<br>\n",
        "\n",
        "$$T(n) = O(nm) + O(n^2) + O(n^2) = O(n^2)$$"
      ]
    },
    {
      "cell_type": "markdown",
      "metadata": {
        "id": "93e335c7-54b3-4dd3-bb36-1f8030ce6c3f"
      },
      "source": [
        "## Time complexity of Our Quick Sort\n",
        "The algorithm is initially composed by a nested for loop , composed by 2 loops, that is used to calculate the mean of the grades of the students and this operation takes $O(nm)$ where $n$ is the number of students and $m$ is the number of grades. Then, if the pivot element is always the smallest or largest element of the (sub)array (e.g. because our input data is already sorted and we always choose the last one as the pivot element), the array would not be divided into two approximately equally sized partitions, but one of length $0$ (since no element is larger than the pivot element) and one of length $n-1$ (all elements except the pivot element). Therefore we need $n$ partitioning levels with a partitioning effort of size $n, n-1, n-2$, etc. The partitioning effort decreases linearly from $n$ to $0$ – on average, it is, therefore, $ ½ n$. Thus, with $n$ partitioning levels, the total effort is $n × ½ n = ½ n²$. Therefore:\n",
        "<br>\n",
        "\n",
        "$$T(n) = O(nm) + O(n^2) = O(n^2)$$"
      ]
    },
    {
      "cell_type": "markdown",
      "metadata": {
        "id": "dc1b6693-5b8b-4879-9c95-15ecfdb56e25"
      },
      "source": [
        "### 3. Evaluate the time taken for each of your implementations to answer the query stored in the ApplicantsInfo.txt file and visualize them."
      ]
    },
    {
      "cell_type": "code",
      "execution_count": null,
      "metadata": {
        "id": "b32dc3cd-751d-41b5-b796-9afd859979d7"
      },
      "outputs": [],
      "source": [
        "import time\n",
        "import numpy as np\n",
        "import matplotlib.pyplot as plt"
      ]
    },
    {
      "cell_type": "code",
      "execution_count": null,
      "metadata": {
        "id": "776c11e9-2b3a-44be-9c12-dbee1a370c5d"
      },
      "outputs": [],
      "source": [
        "our_time = []"
      ]
    },
    {
      "cell_type": "code",
      "execution_count": null,
      "metadata": {
        "id": "c7aed73b-b81e-4f55-9f25-1abb94dd171a"
      },
      "outputs": [],
      "source": [
        "time_start = time.time()\n",
        "our_bubbleSort(my_input)\n",
        "time_end = time.time()\n",
        "our_time.append(time_end-time_start)\n",
        "\n",
        "time_start = time.time()\n",
        "our_InsertionSort(my_input)\n",
        "time_end = time.time()\n",
        "our_time.append(time_end-time_start)\n",
        "\n",
        "time_start = time.time()\n",
        "our_quickSort(my_input)\n",
        "time_end = time.time()\n",
        "our_time.append(time_end-time_start)"
      ]
    },
    {
      "cell_type": "code",
      "execution_count": null,
      "metadata": {
        "colab": {
          "base_uri": "https://localhost:8080/"
        },
        "id": "e7163e9d-42cb-419e-baa9-536698d299f1",
        "outputId": "8139d7da-3e33-46c2-dd9a-bb2149ff93f5"
      },
      "outputs": [
        {
          "data": {
            "text/plain": [
              "[1175.0958490371704, 604.1571383476257, 11.360676288604736]"
            ]
          },
          "execution_count": 65,
          "metadata": {},
          "output_type": "execute_result"
        }
      ],
      "source": [
        "our_time"
      ]
    },
    {
      "cell_type": "markdown",
      "metadata": {
        "id": "7e9672a2-74d7-49a9-831d-d7111d86ac8d"
      },
      "source": [
        "This is the time taken from each algorithm to answer the query"
      ]
    },
    {
      "cell_type": "code",
      "execution_count": null,
      "metadata": {
        "colab": {
          "base_uri": "https://localhost:8080/",
          "height": 279
        },
        "id": "e051fb4a-dccf-491e-94bd-16a69b99990c",
        "outputId": "cc652b72-034a-4f05-b12f-9531501b8154"
      },
      "outputs": [
        {
          "data": {
            "image/png": "[encoded data removed]",
            "text/plain": [
              "<Figure size 432x288 with 1 Axes>"
            ]
          },
          "metadata": {
            "needs_background": "light"
          },
          "output_type": "display_data"
        }
      ],
      "source": [
        "x_pos = np.arange(len(our_time))\n",
        "\n",
        "fig, ax = plt.subplots()\n",
        "# Create bars with different colors\n",
        "plt.bar(x_pos, our_time, color=['red', 'green', 'cyan'], edgecolor = 'black')\n",
        "plt.xticks(x_pos, ('Bubble','Insertion', 'Quick'))\n",
        "ax.set_xlabel('Type of Algorithm')\n",
        "ax.set_ylabel('Time(s)')\n",
        "# Show graph\n",
        "plt.show()"
      ]
    },
    {
      "cell_type": "markdown",
      "metadata": {
        "id": "87a3e306-db0e-48ed-8112-a85610a35831"
      },
      "source": [
        "### 4. What is the most optimal algorithm, in your opinion, and why?"
      ]
    },
    {
      "cell_type": "markdown",
      "metadata": {
        "id": "2522baad-2b73-49fd-8e9b-9ab5a0728273"
      },
      "source": [
        "As we can see from the upper graph, although the algorithms have the same worse complexity, the query is executed in very different times. \n",
        "\n",
        "The algorithm that takes longer is the Bubble Sort, in fact the latter has an average time complexity $O(n^2)$. \n",
        "\n",
        "The second algorithm takes almost half time than the previous one to answer the query, but he has an average complexity time $O(n^2)$ too. \n",
        "\n",
        "In my opinion, the most optimal algorithm among these three is the \"Our_QuickSortreal\" because it is true that as the worst case it has complexity $O(n^2)$ , but its average complexity is different. \n",
        "#### Explanation\n",
        "To sort an array of n distinct elements, Quicksort takes $O(n(log(n))$ time in expectation, averaged over all $n!$ permutations of $n$ elements with equal probability. We used the \"last element\" pivot strategy and its advantage is to obtain as a simplified algorithm. Since the pivot element is guaranteed to be in the right section in this strategy, we do not need to consider it in the comparison and exchange operations. Furthermore, in the final step of partitioning, we can safely swap the first element of the right section with the pivot element to set it to its final position. In practice, this strategy leads to problems with presorted input data. In an array sorted in ascending order, the pivot element would be the largest element in each iteration and this would decrease performance significantly, but in our case we are assuming that the input is not presorted and for this reason, we can do this choice. \n",
        "\n",
        "I think that there should be other sorting algorithm that can do better than this, for example we should try to use Merge Sort or Heap Sort that in general have as worse case time complexity $O(n(log(n))$, but we should in any case run them on the query to get a correct answer.\n",
        "\n"
      ]
    },
    {
      "cell_type": "markdown",
      "metadata": {
        "id": "b352a94c-a845-42e3-9295-0a445737b59d"
      },
      "source": [
        "### 5. Implement a sorting algorithm using MapReduce and compare it against the three algorithms previously implemented using the ApplicantsInfo.txt file."
      ]
    },
    {
      "cell_type": "code",
      "execution_count": null,
      "metadata": {
        "id": "0ac952d4-ede1-4534-8f97-3ed852d8dd47"
      },
      "outputs": [],
      "source": [
        "from collections import defaultdict"
      ]
    },
    {
      "cell_type": "code",
      "execution_count": null,
      "metadata": {
        "id": "25d807ff-4995-431e-8e4f-03f85e112608"
      },
      "outputs": [],
      "source": [
        "def my_map(line):\n",
        "    \"\"\" \n",
        "       The map function takes in input a line and compute \n",
        "       the average of the grades for each student and return a dictionary\n",
        "       with an inverted index: the key is the mean of the student\n",
        "       and the value is the name_surname of the student.\n",
        "    \"\"\"\n",
        "   \n",
        "    line = line.split()\n",
        "    name = \" \".join(line[0:2])\n",
        "    grades = list(map(int, line[2:]))\n",
        "    single_dict = {}\n",
        "    somma = 0\n",
        "    for g in grades:\n",
        "        somma += g\n",
        "    single_dict[round(somma/len(grades),2)] = name   # we use round because we want only two decimal positions\n",
        "    \n",
        "    return single_dict \n",
        "    \n",
        "def shuffle(file_name):\n",
        "    \"\"\"\n",
        "        This function takes in input the file_name,then opens \n",
        "        the file and save the content. Moreover, checks the \n",
        "        number of students and the number of grades. Finally, \n",
        "        the function does the shuffle and sort, it recalls map\n",
        "        and the output will be a sorted dictionary by key where the\n",
        "        key is the average of the grades of the student and the value\n",
        "        is a list that contains all the name_surname that have the same\n",
        "        mean.\n",
        "    \"\"\"\n",
        "    \n",
        "    with open(file_name, \"r\") as file: \n",
        "        lines = file.readlines()\n",
        "\n",
        "    for line in lines[0:1]:\n",
        "        n,m = map(int,line.split())\n",
        "        \n",
        "    if n< 0 or n> 50000 or m < 1 or m > 1000:\n",
        "        return 'insert a valid input'    \n",
        "        \n",
        "    diz = defaultdict(list)\n",
        "    \n",
        "    for line in lines[1:]:\n",
        "        key = list(my_map(line).keys())[0]\n",
        "        diz[key].append(my_map(line)[key])\n",
        "    \n",
        "    return dict(sorted(diz.items(), reverse = True))\n",
        "\n",
        "\n",
        "def reduce(diz):\n",
        "    \"\"\"\n",
        "    This function will do the action of reduce, in this\n",
        "    case is needed to sort the values of the dictionary created by shuffle.\n",
        "    At the end all the lists associated with the keys will be sorted.\n",
        "    \"\"\"\n",
        "    for key in diz:\n",
        "        diz[key].sort()\n",
        "    return diz\n",
        "\n",
        "def query(file_name):\n",
        "    \"\"\"\n",
        "    This is the function that will be used to answer the query.\n",
        "    It takes in input the file_name and uses the function reduce\n",
        "    on the output of the function shuffle(that uses map).\n",
        "    Finilly, the function creates a new file and writes the \n",
        "    desired result\n",
        "    \"\"\"\n",
        "    \n",
        "    result = reduce(shuffle(file_name))\n",
        "    \n",
        "    file_out = open(\"RankingList2.txt\",\"w\") #write mode\n",
        "    \n",
        "    for grade in result:\n",
        "        for name_surname in result[grade]:\n",
        "            file_out.write(name_surname + ' ' + str(grade) + '\\n')\n",
        "        \n",
        "    file_out.close()\n",
        "    \n",
        "    return None\n",
        "    \n"
      ]
    },
    {
      "cell_type": "markdown",
      "metadata": {
        "id": "4c53a646-0a15-460b-b00f-27825094c3c7"
      },
      "source": [
        "#### If you want to try the algorithm and generate the Ranking.txt, uncomment the following cell"
      ]
    },
    {
      "cell_type": "code",
      "execution_count": null,
      "metadata": {
        "id": "5b382979-be06-4e47-a848-78833cef419b"
      },
      "outputs": [],
      "source": [
        "#query(my_input)"
      ]
    },
    {
      "cell_type": "code",
      "execution_count": null,
      "metadata": {
        "id": "0b351969-5bad-4179-9033-ee91baeded14"
      },
      "outputs": [],
      "source": [
        "time_start = time.time()\n",
        "query(my_input)\n",
        "time_end = time.time()\n",
        "our_time.append(time_end-time_start)"
      ]
    },
    {
      "cell_type": "code",
      "execution_count": null,
      "metadata": {
        "colab": {
          "base_uri": "https://localhost:8080/"
        },
        "id": "cd485db9-18e5-4ed9-9a76-6cd73e91bdc4",
        "outputId": "599774e0-db75-4455-a2ff-dfd18d20ebef"
      },
      "outputs": [
        {
          "data": {
            "text/plain": [
              "[1175.0958490371704, 604.1571383476257, 11.360676288604736, 23.232707738876343]"
            ]
          },
          "execution_count": 71,
          "metadata": {},
          "output_type": "execute_result"
        }
      ],
      "source": [
        "our_time"
      ]
    },
    {
      "cell_type": "code",
      "execution_count": null,
      "metadata": {
        "colab": {
          "base_uri": "https://localhost:8080/",
          "height": 279
        },
        "id": "4314997b-c949-4a28-ac74-0e681ea1f061",
        "outputId": "d045a677-463a-41ac-b9ec-5510c2a9acea"
      },
      "outputs": [
        {
          "data": {
            "image/png": "[encoded data removed]",
            "text/plain": [
              "<Figure size 432x288 with 1 Axes>"
            ]
          },
          "metadata": {
            "needs_background": "light"
          },
          "output_type": "display_data"
        }
      ],
      "source": [
        "x_pos = np.arange(len(our_time))\n",
        "\n",
        "fig, ax = plt.subplots()\n",
        "# Create bars with different colors\n",
        "plt.bar(x_pos, our_time, color=['red', 'green', 'cyan','purple'], edgecolor = 'black')\n",
        "plt.xticks(x_pos, ('Bubble','Insertion', 'Quick', 'MapReduce'))\n",
        "ax.set_xlabel('Type of Algorithm')\n",
        "ax.set_ylabel('Time(s)')\n",
        "# Show graph\n",
        "plt.show()"
      ]
    },
    {
      "cell_type": "markdown",
      "metadata": {
        "id": "b4501606-97a9-44b5-9c5b-f711d7fcc537"
      },
      "source": [
        "We have added to the previous graph the time taken of the algorithm that uses mapreduce. The latter algorithm takes less time than bubble sort and insertion sort but still more than quick sort, just over double."
      ]
    },
    {
      "cell_type": "markdown",
      "metadata": {
        "id": "5332fc05-fb26-48ca-aebd-31bd1b9e98ed",
        "tags": []
      },
      "source": [
        "## This is the code that we used to do MapReduce using Spark."
      ]
    },
    {
      "cell_type": "markdown",
      "source": [
        "To execute these cells we must be on Spark, so here we use them as an example, if we run these cells here in python they'll return us an error."
      ],
      "metadata": {
        "id": "2bcC9DXJ98OO"
      }
    },
    {
      "cell_type": "code",
      "execution_count": null,
      "metadata": {
        "colab": {
          "referenced_widgets": [
            "cea3d15471454025b935c7d3d3162d0d",
            ""
          ]
        },
        "execution": {
          "iopub.execute_input": "2022-11-20T09:20:57.273059Z",
          "iopub.status.busy": "2022-11-20T09:20:57.272826Z",
          "iopub.status.idle": "2022-11-20T09:21:42.339443Z",
          "shell.execute_reply": "2022-11-20T09:21:42.338804Z",
          "shell.execute_reply.started": "2022-11-20T09:20:57.273032Z"
        },
        "id": "08073a5b-5f6f-4dd2-b6f7-44d61417dac2",
        "outputId": "317af6f0-a02b-46ba-ed8c-033203cba558",
        "tags": []
      },
      "outputs": [
        {
          "data": {
            "application/vnd.jupyter.widget-view+json": {
              "model_id": "cea3d15471454025b935c7d3d3162d0d",
              "version_major": 2,
              "version_minor": 0
            },
            "text/plain": [
              "VBox()"
            ]
          },
          "metadata": {},
          "output_type": "display_data"
        },
        {
          "name": "stdout",
          "output_type": "stream",
          "text": [
            "Starting Spark application\n"
          ]
        },
        {
          "data": {
            "text/html": [
              "<table>\n",
              "<tr><th>ID</th><th>YARN Application ID</th><th>Kind</th><th>State</th><th>Spark UI</th><th>Driver log</th><th>User</th><th>Current session?</th></tr><tr><td>0</td><td>application_1668935077063_0001</td><td>pyspark</td><td>idle</td><td><a target=\"_blank\" href=\"http://ip-172-31-92-92.ec2.internal:20888/proxy/application_1668935077063_0001/\" class=\"emr-proxy-link\" emr-resource=\"j-Z0KX5KRQKQWH\n",
              "\" application-id=\"application_1668935077063_0001\">Link</a></td><td><a target=\"_blank\" href=\"http://ip-172-31-90-36.ec2.internal:8042/node/containerlogs/container_1668935077063_0001_01_000001/livy\" >Link</a></td><td>None</td><td>✔</td></tr></table>"
            ],
            "text/plain": [
              "<IPython.core.display.HTML object>"
            ]
          },
          "metadata": {},
          "output_type": "display_data"
        },
        {
          "data": {
            "application/vnd.jupyter.widget-view+json": {
              "model_id": "",
              "version_major": 2,
              "version_minor": 0
            },
            "text/plain": [
              "FloatProgress(value=0.0, bar_style='info', description='Progress:', layout=Layout(height='25px', width='50%'),…"
            ]
          },
          "metadata": {},
          "output_type": "display_data"
        },
        {
          "name": "stdout",
          "output_type": "stream",
          "text": [
            "SparkSession available as 'spark'.\n"
          ]
        },
        {
          "data": {
            "application/vnd.jupyter.widget-view+json": {
              "model_id": "",
              "version_major": 2,
              "version_minor": 0
            },
            "text/plain": [
              "FloatProgress(value=0.0, bar_style='info', description='Progress:', layout=Layout(height='25px', width='50%'),…"
            ]
          },
          "metadata": {},
          "output_type": "display_data"
        }
      ],
      "source": [
        "file = sc.textFile('s3://amichetto30/ApplicantsInfo.txt')    # we are reading the file ApplicantsInfo.txt that is stored in our bucket on S3"
      ]
    },
    {
      "cell_type": "code",
      "execution_count": null,
      "metadata": {
        "colab": {
          "referenced_widgets": [
            "ff43c50ac8994027988e04724ce304af",
            ""
          ]
        },
        "execution": {
          "iopub.execute_input": "2022-11-20T09:21:54.715351Z",
          "iopub.status.busy": "2022-11-20T09:21:54.715121Z",
          "iopub.status.idle": "2022-11-20T09:21:54.785400Z",
          "shell.execute_reply": "2022-11-20T09:21:54.784796Z",
          "shell.execute_reply.started": "2022-11-20T09:21:54.715326Z"
        },
        "id": "8f44979c-af29-41c4-8db7-71825233fda3",
        "outputId": "230ba691-73bb-4ed9-9427-4b8e89f821de",
        "tags": []
      },
      "outputs": [
        {
          "data": {
            "application/vnd.jupyter.widget-view+json": {
              "model_id": "ff43c50ac8994027988e04724ce304af",
              "version_major": 2,
              "version_minor": 0
            },
            "text/plain": [
              "VBox()"
            ]
          },
          "metadata": {},
          "output_type": "display_data"
        },
        {
          "data": {
            "application/vnd.jupyter.widget-view+json": {
              "model_id": "",
              "version_major": 2,
              "version_minor": 0
            },
            "text/plain": [
              "FloatProgress(value=0.0, bar_style='info', description='Progress:', layout=Layout(height='25px', width='50%'),…"
            ]
          },
          "metadata": {},
          "output_type": "display_data"
        }
      ],
      "source": [
        "def sortMP(file):\n",
        "    first_line = file.collect()[0]\n",
        "    grades = float(first_line.split(' ')[1])\n",
        "    students = int(first_line.split(' ')[0])\n",
        "    final = file.filter(lambda row : row != first_line)\\\n",
        "    .map(lambda row: row.split())\\\n",
        "    .map(lambda row: (round(sum([float(grade) for grade in row[2:]])/(grades),2), row[0], row[1]))\\\n",
        "    .takeOrdered(students,(lambda row : (-row[0], row[1], row[2])))\n",
        "    return final"
      ]
    },
    {
      "cell_type": "code",
      "execution_count": null,
      "metadata": {
        "colab": {
          "referenced_widgets": [
            "d42c014adb164d709ad2874893f16999",
            ""
          ]
        },
        "execution": {
          "iopub.execute_input": "2022-11-20T09:23:26.600643Z",
          "iopub.status.busy": "2022-11-20T09:23:26.600154Z",
          "iopub.status.idle": "2022-11-20T09:23:36.006537Z",
          "shell.execute_reply": "2022-11-20T09:23:36.005671Z",
          "shell.execute_reply.started": "2022-11-20T09:23:26.600597Z"
        },
        "id": "113f74ca-ae0f-4a07-9c92-870c394f57c3",
        "outputId": "71a6dabb-c719-42f9-fbf4-80ae89ff51fb",
        "tags": []
      },
      "outputs": [
        {
          "data": {
            "application/vnd.jupyter.widget-view+json": {
              "model_id": "d42c014adb164d709ad2874893f16999",
              "version_major": 2,
              "version_minor": 0
            },
            "text/plain": [
              "VBox()"
            ]
          },
          "metadata": {},
          "output_type": "display_data"
        },
        {
          "data": {
            "application/vnd.jupyter.widget-view+json": {
              "model_id": "",
              "version_major": 2,
              "version_minor": 0
            },
            "text/plain": [
              "FloatProgress(value=0.0, bar_style='info', description='Progress:', layout=Layout(height='25px', width='50%'),…"
            ]
          },
          "metadata": {},
          "output_type": "display_data"
        }
      ],
      "source": [
        "time_start = time.time()\n",
        "result = sortMP(file)\n",
        "time_end = time.time()"
      ]
    },
    {
      "cell_type": "code",
      "execution_count": null,
      "metadata": {
        "colab": {
          "referenced_widgets": [
            "9042fc8d6a814956bfef52181dea32d9",
            ""
          ]
        },
        "execution": {
          "iopub.execute_input": "2022-11-20T09:23:37.487072Z",
          "iopub.status.busy": "2022-11-20T09:23:37.486785Z",
          "iopub.status.idle": "2022-11-20T09:23:37.557180Z",
          "shell.execute_reply": "2022-11-20T09:23:37.556598Z",
          "shell.execute_reply.started": "2022-11-20T09:23:37.487041Z"
        },
        "id": "40eb603d-3a43-4f32-9175-edb8efe6c2f1",
        "outputId": "8baa69a5-b20d-4983-e127-6ae24d50d258",
        "tags": []
      },
      "outputs": [
        {
          "data": {
            "application/vnd.jupyter.widget-view+json": {
              "model_id": "9042fc8d6a814956bfef52181dea32d9",
              "version_major": 2,
              "version_minor": 0
            },
            "text/plain": [
              "VBox()"
            ]
          },
          "metadata": {},
          "output_type": "display_data"
        },
        {
          "data": {
            "application/vnd.jupyter.widget-view+json": {
              "model_id": "",
              "version_major": 2,
              "version_minor": 0
            },
            "text/plain": [
              "FloatProgress(value=0.0, bar_style='info', description='Progress:', layout=Layout(height='25px', width='50%'),…"
            ]
          },
          "metadata": {},
          "output_type": "display_data"
        },
        {
          "name": "stdout",
          "output_type": "stream",
          "text": [
            "8.439563274383545"
          ]
        }
      ],
      "source": [
        "print(time_end - time_start)"
      ]
    },
    {
      "cell_type": "markdown",
      "metadata": {
        "id": "0ae0d7b0-8b9f-491f-8b08-44e58a60031e"
      },
      "source": [
        "We visualize only the first then rows of the desidered output: name and surname ( in ascending order), average (in descending order)"
      ]
    },
    {
      "cell_type": "code",
      "execution_count": null,
      "metadata": {
        "colab": {
          "referenced_widgets": [
            "60f6b44bc36642e28b2a158a59e13ce3",
            ""
          ]
        },
        "execution": {
          "iopub.execute_input": "2022-11-20T09:59:32.746126Z",
          "iopub.status.busy": "2022-11-20T09:59:32.745751Z",
          "iopub.status.idle": "2022-11-20T09:59:32.804129Z",
          "shell.execute_reply": "2022-11-20T09:59:32.803478Z",
          "shell.execute_reply.started": "2022-11-20T09:59:32.746099Z"
        },
        "id": "95765240-e0a8-44f3-8c14-b5b4193b691d",
        "outputId": "2fceca83-a986-496f-83d4-c460c3171a1b",
        "tags": []
      },
      "outputs": [
        {
          "data": {
            "application/vnd.jupyter.widget-view+json": {
              "model_id": "60f6b44bc36642e28b2a158a59e13ce3",
              "version_major": 2,
              "version_minor": 0
            },
            "text/plain": [
              "VBox()"
            ]
          },
          "metadata": {},
          "output_type": "display_data"
        },
        {
          "data": {
            "application/vnd.jupyter.widget-view+json": {
              "model_id": "",
              "version_major": 2,
              "version_minor": 0
            },
            "text/plain": [
              "FloatProgress(value=0.0, bar_style='info', description='Progress:', layout=Layout(height='25px', width='50%'),…"
            ]
          },
          "metadata": {},
          "output_type": "display_data"
        },
        {
          "name": "stdout",
          "output_type": "stream",
          "text": [
            "Patricia Witten 24.49\n",
            "\n",
            "Bruce Johnson 24.45\n",
            "\n",
            "Doreen Richmond 24.45\n",
            "\n",
            "David Niederberger 24.44\n",
            "\n",
            "Keisha Keene 24.44\n",
            "\n",
            "Steven Boston 24.44\n",
            "\n",
            "John Johnson 24.42\n",
            "\n",
            "Marvin Ramirez 24.42\n",
            "\n",
            "Melody Sanchez 24.42"
          ]
        }
      ],
      "source": [
        "for tupla in result[1:10]:\n",
        "            print(tupla[1] + ' ' + tupla[2]  + ' ' + str(tupla[0]) + '\\n')"
      ]
    },
    {
      "cell_type": "markdown",
      "metadata": {
        "id": "a3fdf4aa-d355-42a7-997e-73b2b0d1d9e9"
      },
      "source": [
        "### Now we do the comparison with the other algorithms on Python (we can run these cells)"
      ]
    },
    {
      "cell_type": "markdown",
      "metadata": {
        "id": "ff15b2cc-ef33-4a53-b006-9e0969c61c3f"
      },
      "source": [
        "Time taken with mapreduce using spark (Copied by the Spark Notebook).\n"
      ]
    },
    {
      "cell_type": "code",
      "execution_count": null,
      "metadata": {
        "id": "24a8af39-bc06-45e4-8182-c301f17815b2"
      },
      "outputs": [],
      "source": [
        "tmp_spark = 8.439563274383545"
      ]
    },
    {
      "cell_type": "markdown",
      "source": [
        "We append this time to `our_time` array:"
      ],
      "metadata": {
        "id": "0tCNam8e9Rcl"
      }
    },
    {
      "cell_type": "code",
      "execution_count": null,
      "metadata": {
        "id": "ccb6dfba-94e3-41eb-a853-f277c4d51c92"
      },
      "outputs": [],
      "source": [
        "our_time.append(tmp_spark)"
      ]
    },
    {
      "cell_type": "code",
      "execution_count": null,
      "metadata": {
        "id": "d46a2252-56e8-488d-a9d3-9ee86dd6d338",
        "outputId": "912218c6-27bb-4d57-afd7-db6bb293403f"
      },
      "outputs": [
        {
          "data": {
            "image/png": "[encoded data removed]",
            "text/plain": [
              "<Figure size 640x480 with 1 Axes>"
            ]
          },
          "metadata": {},
          "output_type": "display_data"
        }
      ],
      "source": [
        "x_pos = np.arange(len(our_time))\n",
        "\n",
        "fig, ax = plt.subplots()\n",
        "# Create bars with different colors\n",
        "plt.bar(x_pos, our_time, color=['red', 'green', 'cyan','purple','orange'], edgecolor = 'black')\n",
        "plt.xticks(x_pos, ('Bubble','Insertion', 'Quick', 'MapReduce','MP_spark'))\n",
        "ax.set_xlabel('Type of Algorithm')\n",
        "ax.set_ylabel('Time(s)')\n",
        "# Show graph\n",
        "plt.show()"
      ]
    },
    {
      "cell_type": "markdown",
      "metadata": {
        "id": "d513ad7b-6614-49f7-8e6f-fe15d4c0d571"
      },
      "source": [
        "The MapReduce that uses spark is the fastest among these algorithms. "
      ]
    }
  ],
  "metadata": {
    "colab": {
      "collapsed_sections": [
        "f7a5dd9b-5c4e-400e-b843-b846a85daa04",
        "fed59ddf-cf41-44a5-80bb-9a5c91b72ecf",
        "0aeff0ae-6d5d-45ad-ba39-cb181085ac43",
        "2522baad-2b73-49fd-8e9b-9ab5a0728273"
      ],
      "provenance": []
    },
    "kernelspec": {
      "display_name": "Python 3 (ipykernel)",
      "language": "python",
      "name": "python3"
    },
    "language_info": {
      "codemirror_mode": {
        "name": "ipython",
        "version": 3
      },
      "file_extension": ".py",
      "mimetype": "text/x-python",
      "name": "python",
      "nbconvert_exporter": "python",
      "pygments_lexer": "ipython3",
      "version": "3.10.7"
    },
    "widgets": {
      "application/vnd.jupyter.widget-state+json": {
        "041a15cf59b8439483cb0be974a2a9f6": {
          "model_module": "@jupyter-widgets/controls",
          "model_module_version": "1.5.0",
          "model_name": "DescriptionStyleModel",
          "state": {
            "_model_module": "@jupyter-widgets/controls",
            "_model_module_version": "1.5.0",
            "_model_name": "DescriptionStyleModel",
            "_view_count": null,
            "_view_module": "@jupyter-widgets/base",
            "_view_module_version": "1.2.0",
            "_view_name": "StyleView",
            "description_width": ""
          }
        },
        "0a7b71f07325485da4886adb1c2418eb": {
          "model_module": "@jupyter-widgets/base",
          "model_module_version": "1.2.0",
          "model_name": "LayoutModel",
          "state": {
            "_model_module": "@jupyter-widgets/base",
            "_model_module_version": "1.2.0",
            "_model_name": "LayoutModel",
            "_view_count": null,
            "_view_module": "@jupyter-widgets/base",
            "_view_module_version": "1.2.0",
            "_view_name": "LayoutView",
            "align_content": null,
            "align_items": null,
            "align_self": null,
            "border": null,
            "bottom": null,
            "display": null,
            "flex": null,
            "flex_flow": null,
            "grid_area": null,
            "grid_auto_columns": null,
            "grid_auto_flow": null,
            "grid_auto_rows": null,
            "grid_column": null,
            "grid_gap": null,
            "grid_row": null,
            "grid_template_areas": null,
            "grid_template_columns": null,
            "grid_template_rows": null,
            "height": null,
            "justify_content": null,
            "justify_items": null,
            "left": null,
            "margin": null,
            "max_height": null,
            "max_width": null,
            "min_height": null,
            "min_width": null,
            "object_fit": null,
            "object_position": null,
            "order": null,
            "overflow": null,
            "overflow_x": null,
            "overflow_y": null,
            "padding": null,
            "right": null,
            "top": null,
            "visibility": null,
            "width": null
          }
        },
        "18c433b93357474b96b500f0d1e5ac53": {
          "model_module": "@jupyter-widgets/controls",
          "model_module_version": "1.5.0",
          "model_name": "HTMLModel",
          "state": {
            "_dom_classes": [],
            "_model_module": "@jupyter-widgets/controls",
            "_model_module_version": "1.5.0",
            "_model_name": "HTMLModel",
            "_view_count": null,
            "_view_module": "@jupyter-widgets/controls",
            "_view_module_version": "1.5.0",
            "_view_name": "HTMLView",
            "description": "",
            "description_tooltip": null,
            "layout": "IPY_MODEL_32fcfa32f7474242a794133051f4ed63",
            "placeholder": "​",
            "style": "IPY_MODEL_8bf4614f2ffb41be9858e457d8bb09b6",
            "value": "100%"
          }
        },
        "1ad98b2a7cd34e68a0e1039152e03202": {
          "model_module": "@jupyter-widgets/base",
          "model_module_version": "1.2.0",
          "model_name": "LayoutModel",
          "state": {
            "_model_module": "@jupyter-widgets/base",
            "_model_module_version": "1.2.0",
            "_model_name": "LayoutModel",
            "_view_count": null,
            "_view_module": "@jupyter-widgets/base",
            "_view_module_version": "1.2.0",
            "_view_name": "LayoutView",
            "align_content": null,
            "align_items": null,
            "align_self": null,
            "border": null,
            "bottom": null,
            "display": null,
            "flex": null,
            "flex_flow": null,
            "grid_area": null,
            "grid_auto_columns": null,
            "grid_auto_flow": null,
            "grid_auto_rows": null,
            "grid_column": null,
            "grid_gap": null,
            "grid_row": null,
            "grid_template_areas": null,
            "grid_template_columns": null,
            "grid_template_rows": null,
            "height": null,
            "justify_content": null,
            "justify_items": null,
            "left": null,
            "margin": null,
            "max_height": null,
            "max_width": null,
            "min_height": null,
            "min_width": null,
            "object_fit": null,
            "object_position": null,
            "order": null,
            "overflow": null,
            "overflow_x": null,
            "overflow_y": null,
            "padding": null,
            "right": null,
            "top": null,
            "visibility": null,
            "width": null
          }
        },
        "1d7357dee91c44ca917b6418f42c4dec": {
          "model_module": "@jupyter-widgets/controls",
          "model_module_version": "1.5.0",
          "model_name": "HBoxModel",
          "state": {
            "_dom_classes": [],
            "_model_module": "@jupyter-widgets/controls",
            "_model_module_version": "1.5.0",
            "_model_name": "HBoxModel",
            "_view_count": null,
            "_view_module": "@jupyter-widgets/controls",
            "_view_module_version": "1.5.0",
            "_view_name": "HBoxView",
            "box_style": "",
            "children": [
              "IPY_MODEL_98f77f8fd09942608e688fb81c041f3a",
              "IPY_MODEL_d3c9faa911ff47d18840b5808ad85b05",
              "IPY_MODEL_fc604f5b8864486290ee8b64e514a7f2"
            ],
            "layout": "IPY_MODEL_f299b36b332444f4b8b3f5a81e291852"
          }
        },
        "1e75d322d8164028bf185dee4ad8b969": {
          "model_module": "@jupyter-widgets/controls",
          "model_module_version": "1.5.0",
          "model_name": "FloatProgressModel",
          "state": {
            "_dom_classes": [],
            "_model_module": "@jupyter-widgets/controls",
            "_model_module_version": "1.5.0",
            "_model_name": "FloatProgressModel",
            "_view_count": null,
            "_view_module": "@jupyter-widgets/controls",
            "_view_module_version": "1.5.0",
            "_view_name": "ProgressView",
            "bar_style": "success",
            "description": "",
            "description_tooltip": null,
            "layout": "IPY_MODEL_fd72a5c6c1444452ae5d7117e07f962d",
            "max": 4,
            "min": 0,
            "orientation": "horizontal",
            "style": "IPY_MODEL_86e0ed72322b43fba282ed648ed5cfde",
            "value": 4
          }
        },
        "28b7d0dd2b1a47baa67ef52d556931c9": {
          "model_module": "@jupyter-widgets/controls",
          "model_module_version": "1.5.0",
          "model_name": "DescriptionStyleModel",
          "state": {
            "_model_module": "@jupyter-widgets/controls",
            "_model_module_version": "1.5.0",
            "_model_name": "DescriptionStyleModel",
            "_view_count": null,
            "_view_module": "@jupyter-widgets/base",
            "_view_module_version": "1.2.0",
            "_view_name": "StyleView",
            "description_width": ""
          }
        },
        "2ad1f2c9172c48dbb475f35e0649d648": {
          "model_module": "@jupyter-widgets/controls",
          "model_module_version": "1.5.0",
          "model_name": "HBoxModel",
          "state": {
            "_dom_classes": [],
            "_model_module": "@jupyter-widgets/controls",
            "_model_module_version": "1.5.0",
            "_model_name": "HBoxModel",
            "_view_count": null,
            "_view_module": "@jupyter-widgets/controls",
            "_view_module_version": "1.5.0",
            "_view_name": "HBoxView",
            "box_style": "",
            "children": [
              "IPY_MODEL_c568912586f7435983b301a72fbeb73a",
              "IPY_MODEL_8885e4bad2764095812e78ae0c3df4b6",
              "IPY_MODEL_4124ad16ba274b43ba43424169a2aaa8"
            ],
            "layout": "IPY_MODEL_59c318bc30bd4c7292c4c8d7759da171"
          }
        },
        "31bc2d8a37cb4191b709bdfa7bc1cccc": {
          "model_module": "@jupyter-widgets/base",
          "model_module_version": "1.2.0",
          "model_name": "LayoutModel",
          "state": {
            "_model_module": "@jupyter-widgets/base",
            "_model_module_version": "1.2.0",
            "_model_name": "LayoutModel",
            "_view_count": null,
            "_view_module": "@jupyter-widgets/base",
            "_view_module_version": "1.2.0",
            "_view_name": "LayoutView",
            "align_content": null,
            "align_items": null,
            "align_self": null,
            "border": null,
            "bottom": null,
            "display": null,
            "flex": null,
            "flex_flow": null,
            "grid_area": null,
            "grid_auto_columns": null,
            "grid_auto_flow": null,
            "grid_auto_rows": null,
            "grid_column": null,
            "grid_gap": null,
            "grid_row": null,
            "grid_template_areas": null,
            "grid_template_columns": null,
            "grid_template_rows": null,
            "height": null,
            "justify_content": null,
            "justify_items": null,
            "left": null,
            "margin": null,
            "max_height": null,
            "max_width": null,
            "min_height": null,
            "min_width": null,
            "object_fit": null,
            "object_position": null,
            "order": null,
            "overflow": null,
            "overflow_x": null,
            "overflow_y": null,
            "padding": null,
            "right": null,
            "top": null,
            "visibility": null,
            "width": null
          }
        },
        "32fcfa32f7474242a794133051f4ed63": {
          "model_module": "@jupyter-widgets/base",
          "model_module_version": "1.2.0",
          "model_name": "LayoutModel",
          "state": {
            "_model_module": "@jupyter-widgets/base",
            "_model_module_version": "1.2.0",
            "_model_name": "LayoutModel",
            "_view_count": null,
            "_view_module": "@jupyter-widgets/base",
            "_view_module_version": "1.2.0",
            "_view_name": "LayoutView",
            "align_content": null,
            "align_items": null,
            "align_self": null,
            "border": null,
            "bottom": null,
            "display": null,
            "flex": null,
            "flex_flow": null,
            "grid_area": null,
            "grid_auto_columns": null,
            "grid_auto_flow": null,
            "grid_auto_rows": null,
            "grid_column": null,
            "grid_gap": null,
            "grid_row": null,
            "grid_template_areas": null,
            "grid_template_columns": null,
            "grid_template_rows": null,
            "height": null,
            "justify_content": null,
            "justify_items": null,
            "left": null,
            "margin": null,
            "max_height": null,
            "max_width": null,
            "min_height": null,
            "min_width": null,
            "object_fit": null,
            "object_position": null,
            "order": null,
            "overflow": null,
            "overflow_x": null,
            "overflow_y": null,
            "padding": null,
            "right": null,
            "top": null,
            "visibility": null,
            "width": null
          }
        },
        "3382e71b35d046fbbb39d416c4aafa69": {
          "model_module": "@jupyter-widgets/base",
          "model_module_version": "1.2.0",
          "model_name": "LayoutModel",
          "state": {
            "_model_module": "@jupyter-widgets/base",
            "_model_module_version": "1.2.0",
            "_model_name": "LayoutModel",
            "_view_count": null,
            "_view_module": "@jupyter-widgets/base",
            "_view_module_version": "1.2.0",
            "_view_name": "LayoutView",
            "align_content": null,
            "align_items": null,
            "align_self": null,
            "border": null,
            "bottom": null,
            "display": null,
            "flex": null,
            "flex_flow": null,
            "grid_area": null,
            "grid_auto_columns": null,
            "grid_auto_flow": null,
            "grid_auto_rows": null,
            "grid_column": null,
            "grid_gap": null,
            "grid_row": null,
            "grid_template_areas": null,
            "grid_template_columns": null,
            "grid_template_rows": null,
            "height": null,
            "justify_content": null,
            "justify_items": null,
            "left": null,
            "margin": null,
            "max_height": null,
            "max_width": null,
            "min_height": null,
            "min_width": null,
            "object_fit": null,
            "object_position": null,
            "order": null,
            "overflow": null,
            "overflow_x": null,
            "overflow_y": null,
            "padding": null,
            "right": null,
            "top": null,
            "visibility": null,
            "width": null
          }
        },
        "3f9889be3249426a9a21b16431dd6a2b": {
          "model_module": "@jupyter-widgets/controls",
          "model_module_version": "1.5.0",
          "model_name": "ProgressStyleModel",
          "state": {
            "_model_module": "@jupyter-widgets/controls",
            "_model_module_version": "1.5.0",
            "_model_name": "ProgressStyleModel",
            "_view_count": null,
            "_view_module": "@jupyter-widgets/base",
            "_view_module_version": "1.2.0",
            "_view_name": "StyleView",
            "bar_color": null,
            "description_width": ""
          }
        },
        "4124ad16ba274b43ba43424169a2aaa8": {
          "model_module": "@jupyter-widgets/controls",
          "model_module_version": "1.5.0",
          "model_name": "HTMLModel",
          "state": {
            "_dom_classes": [],
            "_model_module": "@jupyter-widgets/controls",
            "_model_module_version": "1.5.0",
            "_model_name": "HTMLModel",
            "_view_count": null,
            "_view_module": "@jupyter-widgets/controls",
            "_view_module_version": "1.5.0",
            "_view_name": "HTMLView",
            "description": "",
            "description_tooltip": null,
            "layout": "IPY_MODEL_53a46762b3df45c09de94fb5ea7fdc0c",
            "placeholder": "​",
            "style": "IPY_MODEL_28b7d0dd2b1a47baa67ef52d556931c9",
            "value": " 7200/7200 [01:10&lt;00:00, 92.99it/s]"
          }
        },
        "430edabfbc134da184238edb7e34c3e6": {
          "model_module": "@jupyter-widgets/controls",
          "model_module_version": "1.5.0",
          "model_name": "HBoxModel",
          "state": {
            "_dom_classes": [],
            "_model_module": "@jupyter-widgets/controls",
            "_model_module_version": "1.5.0",
            "_model_name": "HBoxModel",
            "_view_count": null,
            "_view_module": "@jupyter-widgets/controls",
            "_view_module_version": "1.5.0",
            "_view_name": "HBoxView",
            "box_style": "",
            "children": [
              "IPY_MODEL_18c433b93357474b96b500f0d1e5ac53",
              "IPY_MODEL_cf463a140489423f890c1d7096368436",
              "IPY_MODEL_aca504f527334f56abb82186ead88ba8"
            ],
            "layout": "IPY_MODEL_0a7b71f07325485da4886adb1c2418eb"
          }
        },
        "494995e0341149258337d351cae630ff": {
          "model_module": "@jupyter-widgets/controls",
          "model_module_version": "1.5.0",
          "model_name": "HTMLModel",
          "state": {
            "_dom_classes": [],
            "_model_module": "@jupyter-widgets/controls",
            "_model_module_version": "1.5.0",
            "_model_name": "HTMLModel",
            "_view_count": null,
            "_view_module": "@jupyter-widgets/controls",
            "_view_module_version": "1.5.0",
            "_view_name": "HTMLView",
            "description": "",
            "description_tooltip": null,
            "layout": "IPY_MODEL_cb8ca80999c34dea93ed2c9eb102c29f",
            "placeholder": "​",
            "style": "IPY_MODEL_c757a9947d75491cba2d45e663dabb26",
            "value": " 47102/47102 [00:03&lt;00:00, 26231.38it/s]"
          }
        },
        "49bafaf50d4548388415bc08dad0982f": {
          "model_module": "@jupyter-widgets/controls",
          "model_module_version": "1.5.0",
          "model_name": "ProgressStyleModel",
          "state": {
            "_model_module": "@jupyter-widgets/controls",
            "_model_module_version": "1.5.0",
            "_model_name": "ProgressStyleModel",
            "_view_count": null,
            "_view_module": "@jupyter-widgets/base",
            "_view_module_version": "1.2.0",
            "_view_name": "StyleView",
            "bar_color": null,
            "description_width": ""
          }
        },
        "4be27bd2716342cd94d76f6befccbfbf": {
          "model_module": "@jupyter-widgets/base",
          "model_module_version": "1.2.0",
          "model_name": "LayoutModel",
          "state": {
            "_model_module": "@jupyter-widgets/base",
            "_model_module_version": "1.2.0",
            "_model_name": "LayoutModel",
            "_view_count": null,
            "_view_module": "@jupyter-widgets/base",
            "_view_module_version": "1.2.0",
            "_view_name": "LayoutView",
            "align_content": null,
            "align_items": null,
            "align_self": null,
            "border": null,
            "bottom": null,
            "display": null,
            "flex": null,
            "flex_flow": null,
            "grid_area": null,
            "grid_auto_columns": null,
            "grid_auto_flow": null,
            "grid_auto_rows": null,
            "grid_column": null,
            "grid_gap": null,
            "grid_row": null,
            "grid_template_areas": null,
            "grid_template_columns": null,
            "grid_template_rows": null,
            "height": null,
            "justify_content": null,
            "justify_items": null,
            "left": null,
            "margin": null,
            "max_height": null,
            "max_width": null,
            "min_height": null,
            "min_width": null,
            "object_fit": null,
            "object_position": null,
            "order": null,
            "overflow": null,
            "overflow_x": null,
            "overflow_y": null,
            "padding": null,
            "right": null,
            "top": null,
            "visibility": null,
            "width": null
          }
        },
        "4c27bd8fe2454547929803ad92b1ce56": {
          "model_module": "@jupyter-widgets/controls",
          "model_module_version": "1.5.0",
          "model_name": "HBoxModel",
          "state": {
            "_dom_classes": [],
            "_model_module": "@jupyter-widgets/controls",
            "_model_module_version": "1.5.0",
            "_model_name": "HBoxModel",
            "_view_count": null,
            "_view_module": "@jupyter-widgets/controls",
            "_view_module_version": "1.5.0",
            "_view_name": "HBoxView",
            "box_style": "",
            "children": [
              "IPY_MODEL_9e2da4c1a3bd43519ef672f170ecf8b2",
              "IPY_MODEL_1e75d322d8164028bf185dee4ad8b969",
              "IPY_MODEL_783f0ca4c9994da38f53ca6f0e940156"
            ],
            "layout": "IPY_MODEL_f62046f244c24208837b07b4ef4eaa3a"
          }
        },
        "53a46762b3df45c09de94fb5ea7fdc0c": {
          "model_module": "@jupyter-widgets/base",
          "model_module_version": "1.2.0",
          "model_name": "LayoutModel",
          "state": {
            "_model_module": "@jupyter-widgets/base",
            "_model_module_version": "1.2.0",
            "_model_name": "LayoutModel",
            "_view_count": null,
            "_view_module": "@jupyter-widgets/base",
            "_view_module_version": "1.2.0",
            "_view_name": "LayoutView",
            "align_content": null,
            "align_items": null,
            "align_self": null,
            "border": null,
            "bottom": null,
            "display": null,
            "flex": null,
            "flex_flow": null,
            "grid_area": null,
            "grid_auto_columns": null,
            "grid_auto_flow": null,
            "grid_auto_rows": null,
            "grid_column": null,
            "grid_gap": null,
            "grid_row": null,
            "grid_template_areas": null,
            "grid_template_columns": null,
            "grid_template_rows": null,
            "height": null,
            "justify_content": null,
            "justify_items": null,
            "left": null,
            "margin": null,
            "max_height": null,
            "max_width": null,
            "min_height": null,
            "min_width": null,
            "object_fit": null,
            "object_position": null,
            "order": null,
            "overflow": null,
            "overflow_x": null,
            "overflow_y": null,
            "padding": null,
            "right": null,
            "top": null,
            "visibility": null,
            "width": null
          }
        },
        "59c318bc30bd4c7292c4c8d7759da171": {
          "model_module": "@jupyter-widgets/base",
          "model_module_version": "1.2.0",
          "model_name": "LayoutModel",
          "state": {
            "_model_module": "@jupyter-widgets/base",
            "_model_module_version": "1.2.0",
            "_model_name": "LayoutModel",
            "_view_count": null,
            "_view_module": "@jupyter-widgets/base",
            "_view_module_version": "1.2.0",
            "_view_name": "LayoutView",
            "align_content": null,
            "align_items": null,
            "align_self": null,
            "border": null,
            "bottom": null,
            "display": null,
            "flex": null,
            "flex_flow": null,
            "grid_area": null,
            "grid_auto_columns": null,
            "grid_auto_flow": null,
            "grid_auto_rows": null,
            "grid_column": null,
            "grid_gap": null,
            "grid_row": null,
            "grid_template_areas": null,
            "grid_template_columns": null,
            "grid_template_rows": null,
            "height": null,
            "justify_content": null,
            "justify_items": null,
            "left": null,
            "margin": null,
            "max_height": null,
            "max_width": null,
            "min_height": null,
            "min_width": null,
            "object_fit": null,
            "object_position": null,
            "order": null,
            "overflow": null,
            "overflow_x": null,
            "overflow_y": null,
            "padding": null,
            "right": null,
            "top": null,
            "visibility": null,
            "width": null
          }
        },
        "64a01b90408b4fde877bc6fcdd46bcc6": {
          "model_module": "@jupyter-widgets/controls",
          "model_module_version": "1.5.0",
          "model_name": "DescriptionStyleModel",
          "state": {
            "_model_module": "@jupyter-widgets/controls",
            "_model_module_version": "1.5.0",
            "_model_name": "DescriptionStyleModel",
            "_view_count": null,
            "_view_module": "@jupyter-widgets/base",
            "_view_module_version": "1.2.0",
            "_view_name": "StyleView",
            "description_width": ""
          }
        },
        "783f0ca4c9994da38f53ca6f0e940156": {
          "model_module": "@jupyter-widgets/controls",
          "model_module_version": "1.5.0",
          "model_name": "HTMLModel",
          "state": {
            "_dom_classes": [],
            "_model_module": "@jupyter-widgets/controls",
            "_model_module_version": "1.5.0",
            "_model_name": "HTMLModel",
            "_view_count": null,
            "_view_module": "@jupyter-widgets/controls",
            "_view_module_version": "1.5.0",
            "_view_name": "HTMLView",
            "description": "",
            "description_tooltip": null,
            "layout": "IPY_MODEL_1ad98b2a7cd34e68a0e1039152e03202",
            "placeholder": "​",
            "style": "IPY_MODEL_ed7c912dc4154f1bbaee63fe75fc6bc0",
            "value": " 4/4 [00:01&lt;00:00,  2.97it/s]"
          }
        },
        "86e0ed72322b43fba282ed648ed5cfde": {
          "model_module": "@jupyter-widgets/controls",
          "model_module_version": "1.5.0",
          "model_name": "ProgressStyleModel",
          "state": {
            "_model_module": "@jupyter-widgets/controls",
            "_model_module_version": "1.5.0",
            "_model_name": "ProgressStyleModel",
            "_view_count": null,
            "_view_module": "@jupyter-widgets/base",
            "_view_module_version": "1.2.0",
            "_view_name": "StyleView",
            "bar_color": null,
            "description_width": ""
          }
        },
        "8885e4bad2764095812e78ae0c3df4b6": {
          "model_module": "@jupyter-widgets/controls",
          "model_module_version": "1.5.0",
          "model_name": "FloatProgressModel",
          "state": {
            "_dom_classes": [],
            "_model_module": "@jupyter-widgets/controls",
            "_model_module_version": "1.5.0",
            "_model_name": "FloatProgressModel",
            "_view_count": null,
            "_view_module": "@jupyter-widgets/controls",
            "_view_module_version": "1.5.0",
            "_view_name": "ProgressView",
            "bar_style": "success",
            "description": "",
            "description_tooltip": null,
            "layout": "IPY_MODEL_c0b342b17c834c55b19c0af85b337716",
            "max": 7200,
            "min": 0,
            "orientation": "horizontal",
            "style": "IPY_MODEL_49bafaf50d4548388415bc08dad0982f",
            "value": 7200
          }
        },
        "8915a27529954bc8b80b4c6ae016cc04": {
          "model_module": "@jupyter-widgets/base",
          "model_module_version": "1.2.0",
          "model_name": "LayoutModel",
          "state": {
            "_model_module": "@jupyter-widgets/base",
            "_model_module_version": "1.2.0",
            "_model_name": "LayoutModel",
            "_view_count": null,
            "_view_module": "@jupyter-widgets/base",
            "_view_module_version": "1.2.0",
            "_view_name": "LayoutView",
            "align_content": null,
            "align_items": null,
            "align_self": null,
            "border": null,
            "bottom": null,
            "display": null,
            "flex": null,
            "flex_flow": null,
            "grid_area": null,
            "grid_auto_columns": null,
            "grid_auto_flow": null,
            "grid_auto_rows": null,
            "grid_column": null,
            "grid_gap": null,
            "grid_row": null,
            "grid_template_areas": null,
            "grid_template_columns": null,
            "grid_template_rows": null,
            "height": null,
            "justify_content": null,
            "justify_items": null,
            "left": null,
            "margin": null,
            "max_height": null,
            "max_width": null,
            "min_height": null,
            "min_width": null,
            "object_fit": null,
            "object_position": null,
            "order": null,
            "overflow": null,
            "overflow_x": null,
            "overflow_y": null,
            "padding": null,
            "right": null,
            "top": null,
            "visibility": null,
            "width": null
          }
        },
        "8bf4614f2ffb41be9858e457d8bb09b6": {
          "model_module": "@jupyter-widgets/controls",
          "model_module_version": "1.5.0",
          "model_name": "DescriptionStyleModel",
          "state": {
            "_model_module": "@jupyter-widgets/controls",
            "_model_module_version": "1.5.0",
            "_model_name": "DescriptionStyleModel",
            "_view_count": null,
            "_view_module": "@jupyter-widgets/base",
            "_view_module_version": "1.2.0",
            "_view_name": "StyleView",
            "description_width": ""
          }
        },
        "918c52c934084304a54af0c6e53f738a": {
          "model_module": "@jupyter-widgets/controls",
          "model_module_version": "1.5.0",
          "model_name": "DescriptionStyleModel",
          "state": {
            "_model_module": "@jupyter-widgets/controls",
            "_model_module_version": "1.5.0",
            "_model_name": "DescriptionStyleModel",
            "_view_count": null,
            "_view_module": "@jupyter-widgets/base",
            "_view_module_version": "1.2.0",
            "_view_name": "StyleView",
            "description_width": ""
          }
        },
        "921a6fa926974cc7b1b66c6d93ce0fdb": {
          "model_module": "@jupyter-widgets/controls",
          "model_module_version": "1.5.0",
          "model_name": "ProgressStyleModel",
          "state": {
            "_model_module": "@jupyter-widgets/controls",
            "_model_module_version": "1.5.0",
            "_model_name": "ProgressStyleModel",
            "_view_count": null,
            "_view_module": "@jupyter-widgets/base",
            "_view_module_version": "1.2.0",
            "_view_name": "StyleView",
            "bar_color": null,
            "description_width": ""
          }
        },
        "93f45fd1c2474793a8be77ac8c0ecebe": {
          "model_module": "@jupyter-widgets/controls",
          "model_module_version": "1.5.0",
          "model_name": "HTMLModel",
          "state": {
            "_dom_classes": [],
            "_model_module": "@jupyter-widgets/controls",
            "_model_module_version": "1.5.0",
            "_model_name": "HTMLModel",
            "_view_count": null,
            "_view_module": "@jupyter-widgets/controls",
            "_view_module_version": "1.5.0",
            "_view_name": "HTMLView",
            "description": "",
            "description_tooltip": null,
            "layout": "IPY_MODEL_afbf1545f4b0484095ad8942934b3824",
            "placeholder": "​",
            "style": "IPY_MODEL_918c52c934084304a54af0c6e53f738a",
            "value": "100%"
          }
        },
        "9567e9d60303438d9f3622103ba0f892": {
          "model_module": "@jupyter-widgets/base",
          "model_module_version": "1.2.0",
          "model_name": "LayoutModel",
          "state": {
            "_model_module": "@jupyter-widgets/base",
            "_model_module_version": "1.2.0",
            "_model_name": "LayoutModel",
            "_view_count": null,
            "_view_module": "@jupyter-widgets/base",
            "_view_module_version": "1.2.0",
            "_view_name": "LayoutView",
            "align_content": null,
            "align_items": null,
            "align_self": null,
            "border": null,
            "bottom": null,
            "display": null,
            "flex": null,
            "flex_flow": null,
            "grid_area": null,
            "grid_auto_columns": null,
            "grid_auto_flow": null,
            "grid_auto_rows": null,
            "grid_column": null,
            "grid_gap": null,
            "grid_row": null,
            "grid_template_areas": null,
            "grid_template_columns": null,
            "grid_template_rows": null,
            "height": null,
            "justify_content": null,
            "justify_items": null,
            "left": null,
            "margin": null,
            "max_height": null,
            "max_width": null,
            "min_height": null,
            "min_width": null,
            "object_fit": null,
            "object_position": null,
            "order": null,
            "overflow": null,
            "overflow_x": null,
            "overflow_y": null,
            "padding": null,
            "right": null,
            "top": null,
            "visibility": null,
            "width": null
          }
        },
        "95d9437e2468408f94dbd84948b78376": {
          "model_module": "@jupyter-widgets/controls",
          "model_module_version": "1.5.0",
          "model_name": "FloatProgressModel",
          "state": {
            "_dom_classes": [],
            "_model_module": "@jupyter-widgets/controls",
            "_model_module_version": "1.5.0",
            "_model_name": "FloatProgressModel",
            "_view_count": null,
            "_view_module": "@jupyter-widgets/controls",
            "_view_module_version": "1.5.0",
            "_view_name": "ProgressView",
            "bar_style": "success",
            "description": "",
            "description_tooltip": null,
            "layout": "IPY_MODEL_faab77aaec6944188054ea6ceacbc8d6",
            "max": 47102,
            "min": 0,
            "orientation": "horizontal",
            "style": "IPY_MODEL_921a6fa926974cc7b1b66c6d93ce0fdb",
            "value": 47102
          }
        },
        "98f77f8fd09942608e688fb81c041f3a": {
          "model_module": "@jupyter-widgets/controls",
          "model_module_version": "1.5.0",
          "model_name": "HTMLModel",
          "state": {
            "_dom_classes": [],
            "_model_module": "@jupyter-widgets/controls",
            "_model_module_version": "1.5.0",
            "_model_name": "HTMLModel",
            "_view_count": null,
            "_view_module": "@jupyter-widgets/controls",
            "_view_module_version": "1.5.0",
            "_view_name": "HTMLView",
            "description": "",
            "description_tooltip": null,
            "layout": "IPY_MODEL_8915a27529954bc8b80b4c6ae016cc04",
            "placeholder": "​",
            "style": "IPY_MODEL_b62cf892499a487ca891d10dcc79b767",
            "value": "100%"
          }
        },
        "9e2da4c1a3bd43519ef672f170ecf8b2": {
          "model_module": "@jupyter-widgets/controls",
          "model_module_version": "1.5.0",
          "model_name": "HTMLModel",
          "state": {
            "_dom_classes": [],
            "_model_module": "@jupyter-widgets/controls",
            "_model_module_version": "1.5.0",
            "_model_name": "HTMLModel",
            "_view_count": null,
            "_view_module": "@jupyter-widgets/controls",
            "_view_module_version": "1.5.0",
            "_view_name": "HTMLView",
            "description": "",
            "description_tooltip": null,
            "layout": "IPY_MODEL_31bc2d8a37cb4191b709bdfa7bc1cccc",
            "placeholder": "​",
            "style": "IPY_MODEL_cc9c197d22744757b0eb69b549f4d49b",
            "value": "100%"
          }
        },
        "a5ec874fa2c1445d9b960e03c0f7b310": {
          "model_module": "@jupyter-widgets/base",
          "model_module_version": "1.2.0",
          "model_name": "LayoutModel",
          "state": {
            "_model_module": "@jupyter-widgets/base",
            "_model_module_version": "1.2.0",
            "_model_name": "LayoutModel",
            "_view_count": null,
            "_view_module": "@jupyter-widgets/base",
            "_view_module_version": "1.2.0",
            "_view_name": "LayoutView",
            "align_content": null,
            "align_items": null,
            "align_self": null,
            "border": null,
            "bottom": null,
            "display": null,
            "flex": null,
            "flex_flow": null,
            "grid_area": null,
            "grid_auto_columns": null,
            "grid_auto_flow": null,
            "grid_auto_rows": null,
            "grid_column": null,
            "grid_gap": null,
            "grid_row": null,
            "grid_template_areas": null,
            "grid_template_columns": null,
            "grid_template_rows": null,
            "height": null,
            "justify_content": null,
            "justify_items": null,
            "left": null,
            "margin": null,
            "max_height": null,
            "max_width": null,
            "min_height": null,
            "min_width": null,
            "object_fit": null,
            "object_position": null,
            "order": null,
            "overflow": null,
            "overflow_x": null,
            "overflow_y": null,
            "padding": null,
            "right": null,
            "top": null,
            "visibility": null,
            "width": null
          }
        },
        "aca504f527334f56abb82186ead88ba8": {
          "model_module": "@jupyter-widgets/controls",
          "model_module_version": "1.5.0",
          "model_name": "HTMLModel",
          "state": {
            "_dom_classes": [],
            "_model_module": "@jupyter-widgets/controls",
            "_model_module_version": "1.5.0",
            "_model_name": "HTMLModel",
            "_view_count": null,
            "_view_module": "@jupyter-widgets/controls",
            "_view_module_version": "1.5.0",
            "_view_name": "HTMLView",
            "description": "",
            "description_tooltip": null,
            "layout": "IPY_MODEL_3382e71b35d046fbbb39d416c4aafa69",
            "placeholder": "​",
            "style": "IPY_MODEL_041a15cf59b8439483cb0be974a2a9f6",
            "value": " 1/1 [00:00&lt;00:00,  1.06it/s]"
          }
        },
        "ae816e23ad254b41be0d68f1a655ad58": {
          "model_module": "@jupyter-widgets/base",
          "model_module_version": "1.2.0",
          "model_name": "LayoutModel",
          "state": {
            "_model_module": "@jupyter-widgets/base",
            "_model_module_version": "1.2.0",
            "_model_name": "LayoutModel",
            "_view_count": null,
            "_view_module": "@jupyter-widgets/base",
            "_view_module_version": "1.2.0",
            "_view_name": "LayoutView",
            "align_content": null,
            "align_items": null,
            "align_self": null,
            "border": null,
            "bottom": null,
            "display": null,
            "flex": null,
            "flex_flow": null,
            "grid_area": null,
            "grid_auto_columns": null,
            "grid_auto_flow": null,
            "grid_auto_rows": null,
            "grid_column": null,
            "grid_gap": null,
            "grid_row": null,
            "grid_template_areas": null,
            "grid_template_columns": null,
            "grid_template_rows": null,
            "height": null,
            "justify_content": null,
            "justify_items": null,
            "left": null,
            "margin": null,
            "max_height": null,
            "max_width": null,
            "min_height": null,
            "min_width": null,
            "object_fit": null,
            "object_position": null,
            "order": null,
            "overflow": null,
            "overflow_x": null,
            "overflow_y": null,
            "padding": null,
            "right": null,
            "top": null,
            "visibility": null,
            "width": null
          }
        },
        "afbf1545f4b0484095ad8942934b3824": {
          "model_module": "@jupyter-widgets/base",
          "model_module_version": "1.2.0",
          "model_name": "LayoutModel",
          "state": {
            "_model_module": "@jupyter-widgets/base",
            "_model_module_version": "1.2.0",
            "_model_name": "LayoutModel",
            "_view_count": null,
            "_view_module": "@jupyter-widgets/base",
            "_view_module_version": "1.2.0",
            "_view_name": "LayoutView",
            "align_content": null,
            "align_items": null,
            "align_self": null,
            "border": null,
            "bottom": null,
            "display": null,
            "flex": null,
            "flex_flow": null,
            "grid_area": null,
            "grid_auto_columns": null,
            "grid_auto_flow": null,
            "grid_auto_rows": null,
            "grid_column": null,
            "grid_gap": null,
            "grid_row": null,
            "grid_template_areas": null,
            "grid_template_columns": null,
            "grid_template_rows": null,
            "height": null,
            "justify_content": null,
            "justify_items": null,
            "left": null,
            "margin": null,
            "max_height": null,
            "max_width": null,
            "min_height": null,
            "min_width": null,
            "object_fit": null,
            "object_position": null,
            "order": null,
            "overflow": null,
            "overflow_x": null,
            "overflow_y": null,
            "padding": null,
            "right": null,
            "top": null,
            "visibility": null,
            "width": null
          }
        },
        "b62cf892499a487ca891d10dcc79b767": {
          "model_module": "@jupyter-widgets/controls",
          "model_module_version": "1.5.0",
          "model_name": "DescriptionStyleModel",
          "state": {
            "_model_module": "@jupyter-widgets/controls",
            "_model_module_version": "1.5.0",
            "_model_name": "DescriptionStyleModel",
            "_view_count": null,
            "_view_module": "@jupyter-widgets/base",
            "_view_module_version": "1.2.0",
            "_view_name": "StyleView",
            "description_width": ""
          }
        },
        "c0b342b17c834c55b19c0af85b337716": {
          "model_module": "@jupyter-widgets/base",
          "model_module_version": "1.2.0",
          "model_name": "LayoutModel",
          "state": {
            "_model_module": "@jupyter-widgets/base",
            "_model_module_version": "1.2.0",
            "_model_name": "LayoutModel",
            "_view_count": null,
            "_view_module": "@jupyter-widgets/base",
            "_view_module_version": "1.2.0",
            "_view_name": "LayoutView",
            "align_content": null,
            "align_items": null,
            "align_self": null,
            "border": null,
            "bottom": null,
            "display": null,
            "flex": null,
            "flex_flow": null,
            "grid_area": null,
            "grid_auto_columns": null,
            "grid_auto_flow": null,
            "grid_auto_rows": null,
            "grid_column": null,
            "grid_gap": null,
            "grid_row": null,
            "grid_template_areas": null,
            "grid_template_columns": null,
            "grid_template_rows": null,
            "height": null,
            "justify_content": null,
            "justify_items": null,
            "left": null,
            "margin": null,
            "max_height": null,
            "max_width": null,
            "min_height": null,
            "min_width": null,
            "object_fit": null,
            "object_position": null,
            "order": null,
            "overflow": null,
            "overflow_x": null,
            "overflow_y": null,
            "padding": null,
            "right": null,
            "top": null,
            "visibility": null,
            "width": null
          }
        },
        "c1834cb4b4de47c7bdef778f192bfda6": {
          "model_module": "@jupyter-widgets/base",
          "model_module_version": "1.2.0",
          "model_name": "LayoutModel",
          "state": {
            "_model_module": "@jupyter-widgets/base",
            "_model_module_version": "1.2.0",
            "_model_name": "LayoutModel",
            "_view_count": null,
            "_view_module": "@jupyter-widgets/base",
            "_view_module_version": "1.2.0",
            "_view_name": "LayoutView",
            "align_content": null,
            "align_items": null,
            "align_self": null,
            "border": null,
            "bottom": null,
            "display": null,
            "flex": null,
            "flex_flow": null,
            "grid_area": null,
            "grid_auto_columns": null,
            "grid_auto_flow": null,
            "grid_auto_rows": null,
            "grid_column": null,
            "grid_gap": null,
            "grid_row": null,
            "grid_template_areas": null,
            "grid_template_columns": null,
            "grid_template_rows": null,
            "height": null,
            "justify_content": null,
            "justify_items": null,
            "left": null,
            "margin": null,
            "max_height": null,
            "max_width": null,
            "min_height": null,
            "min_width": null,
            "object_fit": null,
            "object_position": null,
            "order": null,
            "overflow": null,
            "overflow_x": null,
            "overflow_y": null,
            "padding": null,
            "right": null,
            "top": null,
            "visibility": null,
            "width": null
          }
        },
        "c568912586f7435983b301a72fbeb73a": {
          "model_module": "@jupyter-widgets/controls",
          "model_module_version": "1.5.0",
          "model_name": "HTMLModel",
          "state": {
            "_dom_classes": [],
            "_model_module": "@jupyter-widgets/controls",
            "_model_module_version": "1.5.0",
            "_model_name": "HTMLModel",
            "_view_count": null,
            "_view_module": "@jupyter-widgets/controls",
            "_view_module_version": "1.5.0",
            "_view_name": "HTMLView",
            "description": "",
            "description_tooltip": null,
            "layout": "IPY_MODEL_9567e9d60303438d9f3622103ba0f892",
            "placeholder": "​",
            "style": "IPY_MODEL_64a01b90408b4fde877bc6fcdd46bcc6",
            "value": "100%"
          }
        },
        "c757a9947d75491cba2d45e663dabb26": {
          "model_module": "@jupyter-widgets/controls",
          "model_module_version": "1.5.0",
          "model_name": "DescriptionStyleModel",
          "state": {
            "_model_module": "@jupyter-widgets/controls",
            "_model_module_version": "1.5.0",
            "_model_name": "DescriptionStyleModel",
            "_view_count": null,
            "_view_module": "@jupyter-widgets/base",
            "_view_module_version": "1.2.0",
            "_view_name": "StyleView",
            "description_width": ""
          }
        },
        "cb04c5d7d66741acaa586bc77f8a8202": {
          "model_module": "@jupyter-widgets/controls",
          "model_module_version": "1.5.0",
          "model_name": "ProgressStyleModel",
          "state": {
            "_model_module": "@jupyter-widgets/controls",
            "_model_module_version": "1.5.0",
            "_model_name": "ProgressStyleModel",
            "_view_count": null,
            "_view_module": "@jupyter-widgets/base",
            "_view_module_version": "1.2.0",
            "_view_name": "StyleView",
            "bar_color": null,
            "description_width": ""
          }
        },
        "cb8ca80999c34dea93ed2c9eb102c29f": {
          "model_module": "@jupyter-widgets/base",
          "model_module_version": "1.2.0",
          "model_name": "LayoutModel",
          "state": {
            "_model_module": "@jupyter-widgets/base",
            "_model_module_version": "1.2.0",
            "_model_name": "LayoutModel",
            "_view_count": null,
            "_view_module": "@jupyter-widgets/base",
            "_view_module_version": "1.2.0",
            "_view_name": "LayoutView",
            "align_content": null,
            "align_items": null,
            "align_self": null,
            "border": null,
            "bottom": null,
            "display": null,
            "flex": null,
            "flex_flow": null,
            "grid_area": null,
            "grid_auto_columns": null,
            "grid_auto_flow": null,
            "grid_auto_rows": null,
            "grid_column": null,
            "grid_gap": null,
            "grid_row": null,
            "grid_template_areas": null,
            "grid_template_columns": null,
            "grid_template_rows": null,
            "height": null,
            "justify_content": null,
            "justify_items": null,
            "left": null,
            "margin": null,
            "max_height": null,
            "max_width": null,
            "min_height": null,
            "min_width": null,
            "object_fit": null,
            "object_position": null,
            "order": null,
            "overflow": null,
            "overflow_x": null,
            "overflow_y": null,
            "padding": null,
            "right": null,
            "top": null,
            "visibility": null,
            "width": null
          }
        },
        "cc9c197d22744757b0eb69b549f4d49b": {
          "model_module": "@jupyter-widgets/controls",
          "model_module_version": "1.5.0",
          "model_name": "DescriptionStyleModel",
          "state": {
            "_model_module": "@jupyter-widgets/controls",
            "_model_module_version": "1.5.0",
            "_model_name": "DescriptionStyleModel",
            "_view_count": null,
            "_view_module": "@jupyter-widgets/base",
            "_view_module_version": "1.2.0",
            "_view_name": "StyleView",
            "description_width": ""
          }
        },
        "cf463a140489423f890c1d7096368436": {
          "model_module": "@jupyter-widgets/controls",
          "model_module_version": "1.5.0",
          "model_name": "FloatProgressModel",
          "state": {
            "_dom_classes": [],
            "_model_module": "@jupyter-widgets/controls",
            "_model_module_version": "1.5.0",
            "_model_name": "FloatProgressModel",
            "_view_count": null,
            "_view_module": "@jupyter-widgets/controls",
            "_view_module_version": "1.5.0",
            "_view_name": "ProgressView",
            "bar_style": "success",
            "description": "",
            "description_tooltip": null,
            "layout": "IPY_MODEL_ae816e23ad254b41be0d68f1a655ad58",
            "max": 1,
            "min": 0,
            "orientation": "horizontal",
            "style": "IPY_MODEL_cb04c5d7d66741acaa586bc77f8a8202",
            "value": 1
          }
        },
        "d3c9faa911ff47d18840b5808ad85b05": {
          "model_module": "@jupyter-widgets/controls",
          "model_module_version": "1.5.0",
          "model_name": "FloatProgressModel",
          "state": {
            "_dom_classes": [],
            "_model_module": "@jupyter-widgets/controls",
            "_model_module_version": "1.5.0",
            "_model_name": "FloatProgressModel",
            "_view_count": null,
            "_view_module": "@jupyter-widgets/controls",
            "_view_module_version": "1.5.0",
            "_view_name": "ProgressView",
            "bar_style": "success",
            "description": "",
            "description_tooltip": null,
            "layout": "IPY_MODEL_4be27bd2716342cd94d76f6befccbfbf",
            "max": 39837,
            "min": 0,
            "orientation": "horizontal",
            "style": "IPY_MODEL_3f9889be3249426a9a21b16431dd6a2b",
            "value": 39837
          }
        },
        "e6d52c4102ec47168ffa4006502efa0c": {
          "model_module": "@jupyter-widgets/controls",
          "model_module_version": "1.5.0",
          "model_name": "HBoxModel",
          "state": {
            "_dom_classes": [],
            "_model_module": "@jupyter-widgets/controls",
            "_model_module_version": "1.5.0",
            "_model_name": "HBoxModel",
            "_view_count": null,
            "_view_module": "@jupyter-widgets/controls",
            "_view_module_version": "1.5.0",
            "_view_name": "HBoxView",
            "box_style": "",
            "children": [
              "IPY_MODEL_93f45fd1c2474793a8be77ac8c0ecebe",
              "IPY_MODEL_95d9437e2468408f94dbd84948b78376",
              "IPY_MODEL_494995e0341149258337d351cae630ff"
            ],
            "layout": "IPY_MODEL_a5ec874fa2c1445d9b960e03c0f7b310"
          }
        },
        "ed7c912dc4154f1bbaee63fe75fc6bc0": {
          "model_module": "@jupyter-widgets/controls",
          "model_module_version": "1.5.0",
          "model_name": "DescriptionStyleModel",
          "state": {
            "_model_module": "@jupyter-widgets/controls",
            "_model_module_version": "1.5.0",
            "_model_name": "DescriptionStyleModel",
            "_view_count": null,
            "_view_module": "@jupyter-widgets/base",
            "_view_module_version": "1.2.0",
            "_view_name": "StyleView",
            "description_width": ""
          }
        },
        "f299b36b332444f4b8b3f5a81e291852": {
          "model_module": "@jupyter-widgets/base",
          "model_module_version": "1.2.0",
          "model_name": "LayoutModel",
          "state": {
            "_model_module": "@jupyter-widgets/base",
            "_model_module_version": "1.2.0",
            "_model_name": "LayoutModel",
            "_view_count": null,
            "_view_module": "@jupyter-widgets/base",
            "_view_module_version": "1.2.0",
            "_view_name": "LayoutView",
            "align_content": null,
            "align_items": null,
            "align_self": null,
            "border": null,
            "bottom": null,
            "display": null,
            "flex": null,
            "flex_flow": null,
            "grid_area": null,
            "grid_auto_columns": null,
            "grid_auto_flow": null,
            "grid_auto_rows": null,
            "grid_column": null,
            "grid_gap": null,
            "grid_row": null,
            "grid_template_areas": null,
            "grid_template_columns": null,
            "grid_template_rows": null,
            "height": null,
            "justify_content": null,
            "justify_items": null,
            "left": null,
            "margin": null,
            "max_height": null,
            "max_width": null,
            "min_height": null,
            "min_width": null,
            "object_fit": null,
            "object_position": null,
            "order": null,
            "overflow": null,
            "overflow_x": null,
            "overflow_y": null,
            "padding": null,
            "right": null,
            "top": null,
            "visibility": null,
            "width": null
          }
        },
        "f62046f244c24208837b07b4ef4eaa3a": {
          "model_module": "@jupyter-widgets/base",
          "model_module_version": "1.2.0",
          "model_name": "LayoutModel",
          "state": {
            "_model_module": "@jupyter-widgets/base",
            "_model_module_version": "1.2.0",
            "_model_name": "LayoutModel",
            "_view_count": null,
            "_view_module": "@jupyter-widgets/base",
            "_view_module_version": "1.2.0",
            "_view_name": "LayoutView",
            "align_content": null,
            "align_items": null,
            "align_self": null,
            "border": null,
            "bottom": null,
            "display": null,
            "flex": null,
            "flex_flow": null,
            "grid_area": null,
            "grid_auto_columns": null,
            "grid_auto_flow": null,
            "grid_auto_rows": null,
            "grid_column": null,
            "grid_gap": null,
            "grid_row": null,
            "grid_template_areas": null,
            "grid_template_columns": null,
            "grid_template_rows": null,
            "height": null,
            "justify_content": null,
            "justify_items": null,
            "left": null,
            "margin": null,
            "max_height": null,
            "max_width": null,
            "min_height": null,
            "min_width": null,
            "object_fit": null,
            "object_position": null,
            "order": null,
            "overflow": null,
            "overflow_x": null,
            "overflow_y": null,
            "padding": null,
            "right": null,
            "top": null,
            "visibility": null,
            "width": null
          }
        },
        "f7cb27d0f9bc4ed7b6b69c075e83a026": {
          "model_module": "@jupyter-widgets/controls",
          "model_module_version": "1.5.0",
          "model_name": "DescriptionStyleModel",
          "state": {
            "_model_module": "@jupyter-widgets/controls",
            "_model_module_version": "1.5.0",
            "_model_name": "DescriptionStyleModel",
            "_view_count": null,
            "_view_module": "@jupyter-widgets/base",
            "_view_module_version": "1.2.0",
            "_view_name": "StyleView",
            "description_width": ""
          }
        },
        "faab77aaec6944188054ea6ceacbc8d6": {
          "model_module": "@jupyter-widgets/base",
          "model_module_version": "1.2.0",
          "model_name": "LayoutModel",
          "state": {
            "_model_module": "@jupyter-widgets/base",
            "_model_module_version": "1.2.0",
            "_model_name": "LayoutModel",
            "_view_count": null,
            "_view_module": "@jupyter-widgets/base",
            "_view_module_version": "1.2.0",
            "_view_name": "LayoutView",
            "align_content": null,
            "align_items": null,
            "align_self": null,
            "border": null,
            "bottom": null,
            "display": null,
            "flex": null,
            "flex_flow": null,
            "grid_area": null,
            "grid_auto_columns": null,
            "grid_auto_flow": null,
            "grid_auto_rows": null,
            "grid_column": null,
            "grid_gap": null,
            "grid_row": null,
            "grid_template_areas": null,
            "grid_template_columns": null,
            "grid_template_rows": null,
            "height": null,
            "justify_content": null,
            "justify_items": null,
            "left": null,
            "margin": null,
            "max_height": null,
            "max_width": null,
            "min_height": null,
            "min_width": null,
            "object_fit": null,
            "object_position": null,
            "order": null,
            "overflow": null,
            "overflow_x": null,
            "overflow_y": null,
            "padding": null,
            "right": null,
            "top": null,
            "visibility": null,
            "width": null
          }
        },
        "fc604f5b8864486290ee8b64e514a7f2": {
          "model_module": "@jupyter-widgets/controls",
          "model_module_version": "1.5.0",
          "model_name": "HTMLModel",
          "state": {
            "_dom_classes": [],
            "_model_module": "@jupyter-widgets/controls",
            "_model_module_version": "1.5.0",
            "_model_name": "HTMLModel",
            "_view_count": null,
            "_view_module": "@jupyter-widgets/controls",
            "_view_module_version": "1.5.0",
            "_view_name": "HTMLView",
            "description": "",
            "description_tooltip": null,
            "layout": "IPY_MODEL_c1834cb4b4de47c7bdef778f192bfda6",
            "placeholder": "​",
            "style": "IPY_MODEL_f7cb27d0f9bc4ed7b6b69c075e83a026",
            "value": " 39837/39837 [00:04&lt;00:00, 10353.64it/s]"
          }
        },
        "fd72a5c6c1444452ae5d7117e07f962d": {
          "model_module": "@jupyter-widgets/base",
          "model_module_version": "1.2.0",
          "model_name": "LayoutModel",
          "state": {
            "_model_module": "@jupyter-widgets/base",
            "_model_module_version": "1.2.0",
            "_model_name": "LayoutModel",
            "_view_count": null,
            "_view_module": "@jupyter-widgets/base",
            "_view_module_version": "1.2.0",
            "_view_name": "LayoutView",
            "align_content": null,
            "align_items": null,
            "align_self": null,
            "border": null,
            "bottom": null,
            "display": null,
            "flex": null,
            "flex_flow": null,
            "grid_area": null,
            "grid_auto_columns": null,
            "grid_auto_flow": null,
            "grid_auto_rows": null,
            "grid_column": null,
            "grid_gap": null,
            "grid_row": null,
            "grid_template_areas": null,
            "grid_template_columns": null,
            "grid_template_rows": null,
            "height": null,
            "justify_content": null,
            "justify_items": null,
            "left": null,
            "margin": null,
            "max_height": null,
            "max_width": null,
            "min_height": null,
            "min_width": null,
            "object_fit": null,
            "object_position": null,
            "order": null,
            "overflow": null,
            "overflow_x": null,
            "overflow_y": null,
            "padding": null,
            "right": null,
            "top": null,
            "visibility": null,
            "width": null
          }
        }
      }
    }
  },
  "nbformat": 4,
  "nbformat_minor": 0
}